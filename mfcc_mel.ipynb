{
  "cells": [
    {
      "cell_type": "markdown",
      "metadata": {
        "id": "view-in-github",
        "colab_type": "text"
      },
      "source": [
        "<a href=\"https://colab.research.google.com/github/chaey0/FakeVoice-Detection/blob/main/mfcc_mel.ipynb\" target=\"_parent\"><img src=\"https://colab.research.google.com/assets/colab-badge.svg\" alt=\"Open In Colab\"/></a>"
      ]
    },
    {
      "cell_type": "markdown",
      "id": "361d73a1",
      "metadata": {
        "papermill": {
          "duration": 0.007011,
          "end_time": "2024-04-08T18:51:47.130888",
          "exception": false,
          "start_time": "2024-04-08T18:51:47.123877",
          "status": "completed"
        },
        "tags": [],
        "id": "361d73a1"
      },
      "source": [
        "# Drive mount & Unzip"
      ]
    },
    {
      "cell_type": "code",
      "source": [
        "from google.colab import drive\n",
        "drive.mount('/content/drive')"
      ],
      "metadata": {
        "colab": {
          "base_uri": "https://localhost:8080/"
        },
        "id": "KmXtRnWN3bS0",
        "outputId": "07b90400-aa03-455b-ce9f-5b177fc2fa7a"
      },
      "id": "KmXtRnWN3bS0",
      "execution_count": 1,
      "outputs": [
        {
          "output_type": "stream",
          "name": "stdout",
          "text": [
            "Mounted at /content/drive\n"
          ]
        }
      ]
    },
    {
      "cell_type": "code",
      "source": [
        "import zipfile\n",
        "\n",
        "# 파일 경로 입력\n",
        "zip_file_name = '/content/drive/MyDrive/DACON/open.zip'\n",
        "\n",
        "# 압축 해제할 경로 입력\n",
        "extraction_dir = '/content/dataset'\n",
        "\n",
        "# 압축 해제\n",
        "with zipfile.ZipFile(zip_file_name, 'r') as zip_ref:\n",
        "    zip_ref.extractall(extraction_dir)"
      ],
      "metadata": {
        "id": "q5qdeE9f3cML"
      },
      "id": "q5qdeE9f3cML",
      "execution_count": 10,
      "outputs": []
    },
    {
      "cell_type": "code",
      "source": [
        "cd /content/dataset"
      ],
      "metadata": {
        "colab": {
          "base_uri": "https://localhost:8080/"
        },
        "id": "_sJHQhYn3gCb",
        "outputId": "5999e244-2a43-4a00-842e-dad030b2b8c5"
      },
      "id": "_sJHQhYn3gCb",
      "execution_count": 47,
      "outputs": [
        {
          "output_type": "stream",
          "name": "stdout",
          "text": [
            "/content/dataset\n"
          ]
        }
      ]
    },
    {
      "cell_type": "markdown",
      "source": [
        "## Import"
      ],
      "metadata": {
        "id": "J6X_c5zd-SKH"
      },
      "id": "J6X_c5zd-SKH"
    },
    {
      "cell_type": "code",
      "execution_count": 1,
      "id": "bbadbd56",
      "metadata": {
        "papermill": {
          "duration": 12.650384,
          "end_time": "2024-04-08T18:51:59.788340",
          "exception": false,
          "start_time": "2024-04-08T18:51:47.137956",
          "status": "completed"
        },
        "tags": [],
        "id": "bbadbd56"
      },
      "outputs": [],
      "source": [
        "import librosa\n",
        "import librosa.display\n",
        "\n",
        "\n",
        "\n",
        "import matplotlib.pyplot as plt\n",
        "\n",
        "import sklearn\n",
        "from sklearn.model_selection import train_test_split\n",
        "import numpy as np\n",
        "import pandas as pd\n",
        "import random\n",
        "\n",
        "from torch import nn\n",
        "import torch.optim as optim\n",
        "import torch.nn.functional as F\n",
        "from torch.utils.data import Dataset, DataLoader\n",
        "from tqdm import tqdm\n",
        "\n",
        "import torch\n",
        "#import torchmetrics\n",
        "import os"
      ]
    },
    {
      "cell_type": "code",
      "execution_count": 2,
      "id": "2d80cf24-13e8-480c-94eb-2982bb52510d",
      "metadata": {
        "id": "2d80cf24-13e8-480c-94eb-2982bb52510d"
      },
      "outputs": [],
      "source": [
        "\n",
        "import warnings\n",
        "warnings.filterwarnings('ignore')"
      ]
    },
    {
      "cell_type": "code",
      "execution_count": 3,
      "id": "f64eb379-e527-46c4-8b12-ead8db628070",
      "metadata": {
        "id": "f64eb379-e527-46c4-8b12-ead8db628070"
      },
      "outputs": [],
      "source": [
        "device = torch.device('cuda') if torch.cuda.is_available() else torch.device('cpu')"
      ]
    },
    {
      "cell_type": "markdown",
      "id": "a0d2de5d",
      "metadata": {
        "papermill": {
          "duration": 0.007241,
          "end_time": "2024-04-08T18:51:59.803571",
          "exception": false,
          "start_time": "2024-04-08T18:51:59.796330",
          "status": "completed"
        },
        "tags": [],
        "id": "a0d2de5d"
      },
      "source": [
        "# Config"
      ]
    },
    {
      "cell_type": "code",
      "execution_count": 4,
      "id": "1a32fb60",
      "metadata": {
        "papermill": {
          "duration": 0.016983,
          "end_time": "2024-04-08T18:51:59.828208",
          "exception": false,
          "start_time": "2024-04-08T18:51:59.811225",
          "status": "completed"
        },
        "tags": [],
        "id": "1a32fb60"
      },
      "outputs": [],
      "source": [
        "class Config:\n",
        "    SR = 32000\n",
        "    N_MFCC = 128\n",
        "    # Dataset\n",
        "    ROOT_FOLDER = './'\n",
        "    # Training\n",
        "    N_CLASSES = 2\n",
        "    #BATCH_SIZE = 96\n",
        "    BATCH_SIZE = 24\n",
        "    N_EPOCHS = 50\n",
        "    LR = 0.001\n",
        "\n",
        "    CLIP_VALUE = 1.0\n",
        "    # Others\n",
        "    SEED = 42\n",
        "\n",
        "CONFIG = Config()"
      ]
    },
    {
      "cell_type": "code",
      "execution_count": 5,
      "id": "6700bf8e-7f43-4eac-9bea-25eb1d95fb12",
      "metadata": {
        "id": "6700bf8e-7f43-4eac-9bea-25eb1d95fb12"
      },
      "outputs": [],
      "source": [
        "def seed_everything(seed):\n",
        "    random.seed(seed)\n",
        "    os.environ['PYTHONHASHSEED'] = str(seed)\n",
        "    np.random.seed(seed)\n",
        "    torch.manual_seed(seed)\n",
        "    torch.cuda.manual_seed(seed)\n",
        "    torch.backends.cudnn.deterministic = True\n",
        "    torch.backends.cudnn.benchmark = True\n",
        "\n",
        "seed_everything(CONFIG.SEED) # Seed 고정"
      ]
    },
    {
      "cell_type": "markdown",
      "source": [
        "데이터 2초 단위로 나누기"
      ],
      "metadata": {
        "id": "4nvB89Dz4R7I"
      },
      "id": "4nvB89Dz4R7I"
    },
    {
      "cell_type": "code",
      "source": [
        "import soundfile as sf\n",
        "\n",
        "# CSV 파일 로드\n",
        "df_train = pd.read_csv('train.csv')\n",
        "df_test=pd.read_csv('test.csv')\n",
        "\n",
        "\n",
        "# 데이터 저장을 위한 리스트 초기화\n",
        "mfcc_data = []\n",
        "mel_data = []\n",
        "label_data = []\n",
        "real_chunks = []\n",
        "fake_chunks = []\n",
        "\n",
        "\n",
        "# 라벨 카운트 초기화\n",
        "label_count = {'real': 0, 'fake': 0, 'combined': 0}\n",
        "\n",
        "def segment_audio(audio, sample_rate, segment_length=2):\n",
        "    segment_samples = segment_length * sample_rate\n",
        "    segments = []\n",
        "    for i in range(0, len(audio), segment_samples):\n",
        "        segment = audio[i:i+segment_samples]\n",
        "        segments.append(segment)\n",
        "    return segments\n",
        "'''\n",
        "def random_pad(mels, pad_size, mfcc=True):\n",
        "    pad_width = pad_size - mels.shape[1]\n",
        "    if pad_width <= 0:\n",
        "        return mels  # 패딩이 필요 없는 경우 원본 배열 반환\n",
        "    rand = np.random.rand()\n",
        "    left = int(pad_width * rand)\n",
        "    right = pad_width - left\n",
        "\n",
        "    if mfcc:\n",
        "        mels = np.pad(mels, pad_width=((0, 0), (left, right)), mode='constant')\n",
        "        local_max, local_min = mels.max(), mels.min()\n",
        "        mels = (mels - local_min) / (local_max - local_min)\n",
        "    else:\n",
        "        local_max, local_min = mels.max(), mels.min()\n",
        "        mels = (mels - local_min) / (local_max - local_min)\n",
        "        mels = np.pad(mels, pad_width=((0, 0), (left, right)), mode='constant')\n",
        "\n",
        "    return mels\n",
        "    '''\n",
        "def random_pad(mels, pad_size, mfcc=True):\n",
        "    pad_width = pad_size - mels.shape[1]\n",
        "    if pad_width <= 0:\n",
        "        return mels   # 패딩이 필요 없는 경우 원본 배열 반환\n",
        "    rand = np.random.rand()\n",
        "    left = int(pad_width * rand)\n",
        "    right = pad_width - left\n",
        "\n",
        "    # Normalize the array\n",
        "    if mfcc:\n",
        "        # Pad the array\n",
        "        mels = np.pad(mels, pad_width=((0, 0), (left, right)), mode='constant')\n",
        "        local_max, local_min = mels.max(), mels.min()\n",
        "        mels = (mels - local_min) / (local_max - local_min)\n",
        "    else:\n",
        "        local_max, local_min = mels.max(), mels.min()\n",
        "        if local_max != local_min:  # Avoid division by zero\n",
        "            mels = (mels - local_min) / (local_max - local_min)\n",
        "        # Pad the array\n",
        "        mels = np.pad(mels, pad_width=((0, 0), (left, right)), mode='constant')\n",
        "\n",
        "    return mels\n",
        "\n",
        "def add_noise(audio, noise_factor=0.05):\n",
        "    noise = np.random.randn(len(audio))\n",
        "    augmented_audio = audio + noise_factor * noise\n",
        "    augmented_audio = augmented_audio.astype(type(audio[0]))\n",
        "    return augmented_audio\n",
        "\n",
        "def overlay_audio(audio_2s, audio_1s, sr):\n",
        "    #max_offset = len(audio_2s) - len(audio_1s)\n",
        "\n",
        "    audio_2s = np.pad(audio_2s, (0, int(2.0 * sr) - len(audio_2s)), mode='constant')\n",
        "    max_offset = len(audio_2s) - len(audio_1s)\n",
        "    start_position = random.randint(0, max_offset)\n",
        "    combined_audio = np.copy(audio_2s)\n",
        "    combined_audio[start_position:start_position+len(audio_1s)] += audio_1s\n",
        "    return combined_audio"
      ],
      "metadata": {
        "id": "tzICmU2v7d0t"
      },
      "id": "tzICmU2v7d0t",
      "execution_count": 52,
      "outputs": []
    },
    {
      "cell_type": "code",
      "source": [
        "# 데이터셋에서 각 오디오 파일에 대해 처리\n",
        "for index, row in tqdm(df_train.iterrows()):\n",
        "    audio_path = row['path']\n",
        "    label = row['label']\n",
        "\n",
        "    # 임시\n",
        "    if label == 'real':\n",
        "            continue\n",
        "\n",
        "    # 오디오 파일 로드\n",
        "    y, sr = librosa.load(audio_path, sr=CONFIG.SR)\n",
        "\n",
        "    # 오디오 데이터 자르기\n",
        "    segments = segment_audio(y, sr, segment_length=2)\n",
        "\n",
        "    for chunk in segments:\n",
        "        # 노이즈 추가\n",
        "        if random.random() < 0.5:  # 일정 비율의 오디오에 노이즈 추가\n",
        "            chunk = add_noise(chunk)\n",
        "\n",
        "        if label == 'real':\n",
        "            if len(chunk) < int(1.5 * sr):\n",
        "                continue  # 1.5초보다 짧은 chunk는 무시\n",
        "            elif len(chunk) < int(2.0 * sr):\n",
        "                # 패딩하여 저장\n",
        "                chunk = np.pad(chunk, (0, int(2.0 * sr) - len(chunk)), mode='constant')\n",
        "                mfcc = librosa.feature.mfcc(y=chunk, sr=sr, n_mfcc=CONFIG.N_MFCC)\n",
        "                mels = librosa.feature.melspectrogram(y=chunk, sr=sr, n_mels=CONFIG.N_MFCC)\n",
        "                mels = librosa.power_to_db(mels, ref=np.max)\n",
        "                mfcc_data.append(random_pad(mfcc, pad_size=CONFIG.N_MFCC, mfcc=True))\n",
        "                mel_data.append(random_pad(mels, pad_size=CONFIG.N_MFCC, mfcc=False))\n",
        "                label_vector = np.zeros(CONFIG.N_CLASSES, dtype=float)\n",
        "                label_vector[1] = 1\n",
        "                label_data.append(label_vector)\n",
        "                label_count['real'] += 1\n",
        "            else:\n",
        "                real_chunks.append(chunk)\n",
        "\n",
        "        elif label == 'fake':\n",
        "            if len(chunk) < int(1.0 * sr):\n",
        "                continue  # 1초보다 짧은 chunk는 무시\n",
        "            else:\n",
        "                fake_chunks.append(chunk)\n",
        "\n",
        "                '''\n",
        "            elif len(chunk) < int(1.5 * sr):\n",
        "                fake_chunks.append(chunk)\n",
        "            else:\n",
        "                # 패딩하여 저장\n",
        "                chunk = np.pad(chunk, (0, int(2.0 * sr) - len(chunk)), mode='constant')\n",
        "                mfcc = librosa.feature.mfcc(y=chunk, sr=sr, n_mfcc=CONFIG.N_MFCC)\n",
        "                mels = librosa.feature.melspectrogram(y=chunk, sr=sr, n_mels=CONFIG.N_MFCC)\n",
        "                mels = librosa.power_to_db(mels, ref=np.max)\n",
        "                mfcc_data.append(random_pad(mfcc, pad_size=CONFIG.N_MFCC, mfcc=True))\n",
        "                mel_data.append(random_pad(mels, pad_size=CONFIG.N_MFCC, mfcc=False))\n",
        "                label_vector = np.zeros(CONFIG.N_CLASSES, dtype=float)\n",
        "                label_vector[0] = 1\n",
        "                label_data.append(label_vector)\n",
        "                label_count['fake'] += 1\n",
        "                '''\n",
        "# Fake chunk 2개를 overlay하여 2초에 맞춰 패딩\n",
        "for i in tqdm(range(0, len(fake_chunks), 2)):\n",
        "    if i + 1 >= len(fake_chunks):\n",
        "        break\n",
        "    fake_chunk1 = fake_chunks[i]\n",
        "    fake_chunk2 = fake_chunks[i + 1]\n",
        "    combined_audio = overlay_audio(fake_chunk1, fake_chunk2, sr)\n",
        "\n",
        "    # 패딩하여 2초로 맞추기\n",
        "    if len(combined_audio) < int(2.0 * sr):\n",
        "        combined_audio = np.pad(combined_audio, (0, int(2.0 * sr) - len(combined_audio)), mode='constant')\n",
        "\n",
        "       # 노이즈 추가\n",
        "    if random.random() < 0.5:  # 일정 비율의 오디오에 노이즈 추가\n",
        "        combined_audio = add_noise(combined_audio)\n",
        "\n",
        "    # MFCC 추출\n",
        "    mfcc = librosa.feature.mfcc(y=combined_audio, sr=sr, n_mfcc=CONFIG.N_MFCC)\n",
        "\n",
        "    # Mel spectrogram 추출\n",
        "    mels = librosa.feature.melspectrogram(y=combined_audio, sr=sr, n_mels=CONFIG.N_MFCC)\n",
        "    mels = librosa.power_to_db(mels, ref=np.max)\n",
        "\n",
        "    # 랜덤 패딩\n",
        "    pad_size = 128\n",
        "\n",
        "    # 데이터 저장\n",
        "    mfcc_data.append(random_pad(mfcc, pad_size=pad_size, mfcc=True))\n",
        "    mel_data.append(random_pad(mels, pad_size=pad_size, mfcc=False))\n",
        "    label_vector = np.zeros(CONFIG.N_CLASSES, dtype=float)\n",
        "    label_vector[0] = 1  # 'fake' label\n",
        "    label_data.append(label_vector)\n",
        "    label_count['fake'] += 1"
      ],
      "metadata": {
        "colab": {
          "base_uri": "https://localhost:8080/",
          "height": 0
        },
        "collapsed": true,
        "id": "Nkc8q58u4GWN",
        "outputId": "90db6f27-611f-43f0-885a-4e1e4f924c70"
      },
      "id": "Nkc8q58u4GWN",
      "execution_count": 8,
      "outputs": [
        {
          "output_type": "error",
          "ename": "NameError",
          "evalue": "name 'df_train' is not defined",
          "traceback": [
            "\u001b[0;31m---------------------------------------------------------------------------\u001b[0m",
            "\u001b[0;31mNameError\u001b[0m                                 Traceback (most recent call last)",
            "\u001b[0;32m<ipython-input-8-45a64e893690>\u001b[0m in \u001b[0;36m<cell line: 2>\u001b[0;34m()\u001b[0m\n\u001b[1;32m      1\u001b[0m \u001b[0;31m# 데이터셋에서 각 오디오 파일에 대해 처리\u001b[0m\u001b[0;34m\u001b[0m\u001b[0;34m\u001b[0m\u001b[0m\n\u001b[0;32m----> 2\u001b[0;31m \u001b[0;32mfor\u001b[0m \u001b[0mindex\u001b[0m\u001b[0;34m,\u001b[0m \u001b[0mrow\u001b[0m \u001b[0;32min\u001b[0m \u001b[0mtqdm\u001b[0m\u001b[0;34m(\u001b[0m\u001b[0mdf_train\u001b[0m\u001b[0;34m.\u001b[0m\u001b[0miterrows\u001b[0m\u001b[0;34m(\u001b[0m\u001b[0;34m)\u001b[0m\u001b[0;34m)\u001b[0m\u001b[0;34m:\u001b[0m\u001b[0;34m\u001b[0m\u001b[0;34m\u001b[0m\u001b[0m\n\u001b[0m\u001b[1;32m      3\u001b[0m     \u001b[0maudio_path\u001b[0m \u001b[0;34m=\u001b[0m \u001b[0mrow\u001b[0m\u001b[0;34m[\u001b[0m\u001b[0;34m'path'\u001b[0m\u001b[0;34m]\u001b[0m\u001b[0;34m\u001b[0m\u001b[0;34m\u001b[0m\u001b[0m\n\u001b[1;32m      4\u001b[0m     \u001b[0mlabel\u001b[0m \u001b[0;34m=\u001b[0m \u001b[0mrow\u001b[0m\u001b[0;34m[\u001b[0m\u001b[0;34m'label'\u001b[0m\u001b[0;34m]\u001b[0m\u001b[0;34m\u001b[0m\u001b[0;34m\u001b[0m\u001b[0m\n\u001b[1;32m      5\u001b[0m \u001b[0;34m\u001b[0m\u001b[0m\n",
            "\u001b[0;31mNameError\u001b[0m: name 'df_train' is not defined"
          ]
        }
      ]
    },
    {
      "cell_type": "code",
      "source": [
        "# Fake 데이터와 Real 데이터를 합성하여 새로운 데이터 생성\n",
        "for fake_chunk in tqdm(fake_chunks):\n",
        "\n",
        "    real_chunk = real_chunks.pop(0)  # 순서대로 처리\n",
        "    combined_audio = overlay_audio(real_chunk, fake_chunk, sr)\n",
        "\n",
        "    # 노이즈 추가\n",
        "    if random.random() < 0.5:  # 일정 비율의 오디오에 노이즈 추가\n",
        "        combined_audio = add_noise(combined_audio)\n",
        "\n",
        "    # MFCC 추출\n",
        "    mfcc = librosa.feature.mfcc(y=combined_audio, sr=sr, n_mfcc=CONFIG.N_MFCC)\n",
        "\n",
        "    # Mel spectrogram 추출\n",
        "    mels = librosa.feature.melspectrogram(y=combined_audio, sr=sr, n_mels=CONFIG.N_MFCC)\n",
        "    mels = librosa.power_to_db(mels, ref=np.max)\n",
        "\n",
        "    # 랜덤 패딩\n",
        "    pad_size = 128\n",
        "\n",
        "    # 데이터 저장\n",
        "    mfcc_data.append(random_pad(mfcc, pad_size=pad_size, mfcc=True))\n",
        "    mel_data.append(random_pad(mels, pad_size=pad_size, mfcc=False))\n",
        "    label_vector = np.ones(CONFIG.N_CLASSES, dtype=float)  # [1,1] 레이블\n",
        "    label_data.append(label_vector)\n",
        "    label_count['combined'] += 1\n",
        "\n",
        "# Overlay remaining real data to create new combined data\n",
        "combined_real_chunks = real_chunks[:30228]\n",
        "for i in tqdm(range(0, len(combined_real_chunks), 2)):\n",
        "    if i + 1 >= len(combined_real_chunks):\n",
        "        break\n",
        "    real_chunk1 = combined_real_chunks[i]\n",
        "    real_chunk2 = combined_real_chunks[i + 1]\n",
        "    combined_audio = overlay_audio(real_chunk1, real_chunk2, sr)\n",
        "\n",
        "    # 노이즈 추가\n",
        "    if random.random() < 0.5:  # 일정 비율의 오디오에 노이즈 추가\n",
        "        combined_audio = add_noise(combined_audio)\n",
        "\n",
        "    # Extract MFCC features\n",
        "    mfcc = librosa.feature.mfcc(y=combined_audio, sr=sr, n_mfcc=CONFIG.N_MFCC)\n",
        "\n",
        "    # Extract Mel spectrogram features\n",
        "    mels = librosa.feature.melspectrogram(y=combined_audio, sr=sr, n_mels=CONFIG.N_MFCC)\n",
        "    mels = librosa.power_to_db(mels, ref=np.max)\n",
        "\n",
        "    # Random padding\n",
        "    pad_size = 128\n",
        "\n",
        "    # Save data\n",
        "    mfcc_data.append(random_pad(mfcc, pad_size=pad_size, mfcc=True))\n",
        "    mel_data.append(random_pad(mels, pad_size=pad_size, mfcc=False))\n",
        "    label_vector = np.zeros(CONFIG.N_CLASSES, dtype=float)\n",
        "    label_vector[1] = 1  # 'real' label\n",
        "    label_data.append(label_vector)\n",
        "    label_count['real'] += 1\n",
        "\n",
        "# Remove used real chunks from the original list\n",
        "real_chunks = real_chunks[30228:]\n",
        "\n",
        "# Remaining real chunks 처리하여 저장\n",
        "for real_chunk in tqdm(real_chunks):\n",
        "    mfcc = librosa.feature.mfcc(y=real_chunk, sr=sr, n_mfcc=CONFIG.N_MFCC)\n",
        "    mels = librosa.feature.melspectrogram(y=real_chunk, sr=sr, n_mels=CONFIG.N_MFCC)\n",
        "    mels = librosa.power_to_db(mels, ref=np.max)\n",
        "    mfcc_data.append(random_pad(mfcc, pad_size=CONFIG.N_MFCC, mfcc=True))\n",
        "    mel_data.append(random_pad(mels, pad_size=CONFIG.N_MFCC, mfcc=False))\n",
        "    label_vector = np.zeros(CONFIG.N_CLASSES, dtype=float)\n",
        "    label_vector[1] = 1\n",
        "    label_data.append(label_vector)\n",
        "    label_count['real'] += 1"
      ],
      "metadata": {
        "colab": {
          "base_uri": "https://localhost:8080/"
        },
        "id": "EmZpg3cv0IIs",
        "outputId": "b0353c97-aa52-4a16-c2d9-bca535005229"
      },
      "id": "EmZpg3cv0IIs",
      "execution_count": 16,
      "outputs": [
        {
          "output_type": "stream",
          "name": "stderr",
          "text": [
            "100%|██████████| 10049/10049 [04:39<00:00, 36.02it/s]\n",
            "100%|██████████| 15114/15114 [14:14<00:00, 17.68it/s]\n",
            "100%|██████████| 8380/8380 [04:51<00:00, 28.71it/s]\n"
          ]
        }
      ]
    },
    {
      "cell_type": "code",
      "source": [
        "# MFCC와 Mel spectrogram을 저장할 배열 초기화\n",
        "test_mfcc_data = []\n",
        "test_mel_data = []\n",
        "\n",
        "segment_length=2\n",
        "sample_rate=32000\n",
        "segment_samples = segment_length * sample_rate\n",
        "\n",
        "# 데이터셋에서 각 오디오 파일에 대해 처리\n",
        "for index, row in tqdm(df_test.iterrows()):\n",
        "    audio_path = row['path']\n",
        "\n",
        "    # 오디오 파일 로드\n",
        "    y, sr = librosa.load(audio_path, sr=CONFIG.SR)\n",
        "\n",
        "    # 오디오 데이터 자르기\n",
        "    segments = []\n",
        "\n",
        "    # 1초부터 샘플링\n",
        "    for i in range(32000, len(y), segment_samples):\n",
        "        segment = y[i:i+segment_samples]\n",
        "        segments.append(segment)\n",
        "\n",
        "    for chunk in segments:\n",
        "\n",
        "        # MFCC 추출\n",
        "        #mfcc = librosa.feature.mfcc(y=chunk, sr=sr, n_mfcc=128)\n",
        "\n",
        "        # Mel spectrogram 추출\n",
        "        mels = librosa.feature.melspectrogram(y=chunk, sr=sr, n_mels=128)\n",
        "        mels=librosa.power_to_db(mels, ref=np.max)\n",
        "\n",
        "        # 랜덤 패딩\n",
        "        pad_size = 128\n",
        "\n",
        "        # 데이터 저장\n",
        "        #test_mfcc_data.append(random_pad(mfcc, pad_size=pad_size, mfcc=True))\n",
        "        test_mel_data.append(random_pad(mels, pad_size=pad_size, mfcc=False))\n",
        "\n",
        "\n",
        "# 리스트를 넘파이 배열로 변환\n",
        "#test_mfcc_data = np.array(test_mfcc_data)\n",
        "test_mel_data = np.array(test_mel_data)\n",
        "print(np.isnan(test_mel_data).any())"
      ],
      "metadata": {
        "colab": {
          "base_uri": "https://localhost:8080/"
        },
        "id": "9ga3u0SCWEy5",
        "outputId": "a3d0b51c-7e93-45e5-d661-f2926258032b"
      },
      "id": "9ga3u0SCWEy5",
      "execution_count": 53,
      "outputs": [
        {
          "output_type": "stream",
          "name": "stderr",
          "text": [
            "50000it [22:44, 36.64it/s]\n"
          ]
        },
        {
          "output_type": "stream",
          "name": "stdout",
          "text": [
            "False\n"
          ]
        }
      ]
    },
    {
      "cell_type": "code",
      "source": [
        "# 리스트를 넘파이 배열로 변환\n",
        "mfcc_data = np.array(mfcc_data)\n",
        "mel_data = np.array(mel_data)\n",
        "label_data = np.array(label_data)\n",
        "\n",
        "print(\"MFCC 데이터 형태:\", mfcc_data.shape)\n",
        "print(\"Mel 스펙트로그램 데이터 형태:\", mel_data.shape)\n",
        "print(\"라벨 데이터 형태:\", label_data.shape)\n",
        "print(\"레이블 분포:\", label_count)"
      ],
      "metadata": {
        "colab": {
          "base_uri": "https://localhost:8080/"
        },
        "id": "cv3qyvma4ylN",
        "outputId": "6182d2a7-a230-446d-aa89-6e6d79b02a46"
      },
      "id": "cv3qyvma4ylN",
      "execution_count": 85,
      "outputs": [
        {
          "output_type": "stream",
          "name": "stdout",
          "text": [
            "MFCC 데이터 형태: (0,)\n",
            "Mel 스펙트로그램 데이터 형태: (0,)\n",
            "라벨 데이터 형태: (0,)\n",
            "레이블 분포: {'real': 0, 'fake': 0, 'combined': 0}\n"
          ]
        }
      ]
    },
    {
      "cell_type": "code",
      "source": [
        "np.save('/content/drive/MyDrive/DACON/chunk/aug_mfcc_data.npy',mfcc_data)\n",
        "np.save('/content/drive/MyDrive/DACON/chunk/aug_mel_data.npy',mel_data)\n",
        "np.save('/content/drive/MyDrive/DACON/chunk/aug_label_data.npy',label_data)"
      ],
      "metadata": {
        "id": "-DNn_JwG_yrN"
      },
      "id": "-DNn_JwG_yrN",
      "execution_count": 18,
      "outputs": []
    },
    {
      "cell_type": "code",
      "source": [
        "print(mfcc_data.shape)\n",
        "print(mel_data.shape)\n",
        "print(label_data.shape)"
      ],
      "metadata": {
        "colab": {
          "base_uri": "https://localhost:8080/",
          "height": 184
        },
        "id": "UyF0Y484JKPL",
        "outputId": "32a9d1da-3af5-473f-e151-837364377967"
      },
      "id": "UyF0Y484JKPL",
      "execution_count": 84,
      "outputs": [
        {
          "output_type": "error",
          "ename": "AttributeError",
          "evalue": "'list' object has no attribute 'shape'",
          "traceback": [
            "\u001b[0;31m---------------------------------------------------------------------------\u001b[0m",
            "\u001b[0;31mAttributeError\u001b[0m                            Traceback (most recent call last)",
            "\u001b[0;32m<ipython-input-84-05a8fb6bc3b4>\u001b[0m in \u001b[0;36m<cell line: 1>\u001b[0;34m()\u001b[0m\n\u001b[0;32m----> 1\u001b[0;31m \u001b[0mprint\u001b[0m\u001b[0;34m(\u001b[0m\u001b[0mmfcc_data\u001b[0m\u001b[0;34m.\u001b[0m\u001b[0mshape\u001b[0m\u001b[0;34m)\u001b[0m\u001b[0;34m\u001b[0m\u001b[0;34m\u001b[0m\u001b[0m\n\u001b[0m\u001b[1;32m      2\u001b[0m \u001b[0mprint\u001b[0m\u001b[0;34m(\u001b[0m\u001b[0mmel_data\u001b[0m\u001b[0;34m.\u001b[0m\u001b[0mshape\u001b[0m\u001b[0;34m)\u001b[0m\u001b[0;34m\u001b[0m\u001b[0;34m\u001b[0m\u001b[0m\n\u001b[1;32m      3\u001b[0m \u001b[0mprint\u001b[0m\u001b[0;34m(\u001b[0m\u001b[0mlabel_data\u001b[0m\u001b[0;34m.\u001b[0m\u001b[0mshape\u001b[0m\u001b[0;34m)\u001b[0m\u001b[0;34m\u001b[0m\u001b[0;34m\u001b[0m\u001b[0m\n",
            "\u001b[0;31mAttributeError\u001b[0m: 'list' object has no attribute 'shape'"
          ]
        }
      ]
    },
    {
      "cell_type": "code",
      "source": [
        "#test_mel_data=np.load('/content/drive/MyDrive/DACON/chunk/test_mel_data.npy')\n",
        "test_mfcc_data=np.load('/content/drive/MyDrive/DACON/chunk/test_mfcc_data.npy')\n",
        "\n",
        "print(test_mel_data.shape)\n",
        "print(test_mfcc_data.shape)\n",
        "#print(np.isnan(test_mel_data).any())"
      ],
      "metadata": {
        "colab": {
          "base_uri": "https://localhost:8080/",
          "height": 221
        },
        "collapsed": true,
        "id": "QcxnB5I348_s",
        "outputId": "ce1920a8-59cd-4a2e-a7e6-fdd29b60421f"
      },
      "id": "QcxnB5I348_s",
      "execution_count": 6,
      "outputs": [
        {
          "output_type": "error",
          "ename": "NameError",
          "evalue": "name 'test_mel_data' is not defined",
          "traceback": [
            "\u001b[0;31m---------------------------------------------------------------------------\u001b[0m",
            "\u001b[0;31mNameError\u001b[0m                                 Traceback (most recent call last)",
            "\u001b[0;32m<ipython-input-6-ab9aec7775bd>\u001b[0m in \u001b[0;36m<cell line: 4>\u001b[0;34m()\u001b[0m\n\u001b[1;32m      2\u001b[0m \u001b[0mtest_mfcc_data\u001b[0m\u001b[0;34m=\u001b[0m\u001b[0mnp\u001b[0m\u001b[0;34m.\u001b[0m\u001b[0mload\u001b[0m\u001b[0;34m(\u001b[0m\u001b[0;34m'/content/drive/MyDrive/DACON/chunk/test_mfcc_data.npy'\u001b[0m\u001b[0;34m)\u001b[0m\u001b[0;34m\u001b[0m\u001b[0;34m\u001b[0m\u001b[0m\n\u001b[1;32m      3\u001b[0m \u001b[0;34m\u001b[0m\u001b[0m\n\u001b[0;32m----> 4\u001b[0;31m \u001b[0mprint\u001b[0m\u001b[0;34m(\u001b[0m\u001b[0mtest_mel_data\u001b[0m\u001b[0;34m.\u001b[0m\u001b[0mshape\u001b[0m\u001b[0;34m)\u001b[0m\u001b[0;34m\u001b[0m\u001b[0;34m\u001b[0m\u001b[0m\n\u001b[0m\u001b[1;32m      5\u001b[0m \u001b[0mprint\u001b[0m\u001b[0;34m(\u001b[0m\u001b[0mtest_mfcc_data\u001b[0m\u001b[0;34m.\u001b[0m\u001b[0mshape\u001b[0m\u001b[0;34m)\u001b[0m\u001b[0;34m\u001b[0m\u001b[0;34m\u001b[0m\u001b[0m\n\u001b[1;32m      6\u001b[0m \u001b[0;31m#print(np.isnan(test_mel_data).any())\u001b[0m\u001b[0;34m\u001b[0m\u001b[0;34m\u001b[0m\u001b[0m\n",
            "\u001b[0;31mNameError\u001b[0m: name 'test_mel_data' is not defined"
          ]
        }
      ]
    },
    {
      "cell_type": "code",
      "source": [
        "#shape 확인\n",
        "#print(test_mel_data.shape)\n",
        "print(test_mfcc_data.shape)\n",
        "\n",
        "#nan 확인\n",
        "#print(np.isnan(test_mel_data).any())\n",
        "#print(np.isnan(test_mfcc_data).any())"
      ],
      "metadata": {
        "colab": {
          "base_uri": "https://localhost:8080/"
        },
        "id": "Ee-0idQXsdb8",
        "outputId": "74a63444-6a88-4a2a-cdf1-bab8a48022de"
      },
      "id": "Ee-0idQXsdb8",
      "execution_count": 8,
      "outputs": [
        {
          "output_type": "stream",
          "name": "stdout",
          "text": [
            "(100000, 128, 128)\n"
          ]
        }
      ]
    },
    {
      "cell_type": "code",
      "source": [
        "test_mel=np.load('/content/drive/MyDrive/DACON/chunk/test_mel_data.npy')\n",
        "print(test_mel.shape)"
      ],
      "metadata": {
        "colab": {
          "base_uri": "https://localhost:8080/"
        },
        "id": "8dJx_636sypW",
        "outputId": "b7eb4bef-1dc0-4d81-8adc-e3daa9d60c6a"
      },
      "id": "8dJx_636sypW",
      "execution_count": 21,
      "outputs": [
        {
          "output_type": "stream",
          "name": "stdout",
          "text": [
            "(100000, 128, 128)\n"
          ]
        }
      ]
    },
    {
      "cell_type": "code",
      "source": [
        "mfcc_data=np.load('/content/drive/MyDrive/DACON/chunk/aug_mfcc_data.npy')\n",
        "#mel_data=np.load('/content/drive/MyDrive/DACON/chunk/aug_mel_data.npy')\n",
        "label_data=np.load('/content/drive/MyDrive/DACON/chunk/aug_label_data.npy')\n",
        "\n",
        "print(mfcc_data.shape)\n",
        "#print(mel_original_data.shape)\n",
        "print(label_data.shape)"
      ],
      "metadata": {
        "colab": {
          "base_uri": "https://localhost:8080/"
        },
        "id": "5xenkPunKmoQ",
        "outputId": "0b8701ab-7265-49a1-8d79-22aadd33767a"
      },
      "id": "5xenkPunKmoQ",
      "execution_count": 9,
      "outputs": [
        {
          "output_type": "stream",
          "name": "stdout",
          "text": [
            "(68585, 128, 128)\n",
            "(68585, 2)\n"
          ]
        }
      ]
    },
    {
      "cell_type": "code",
      "source": [
        "#check nan\n",
        "print(np.isnan(mfcc_original_data).any())\n",
        "print(np.isnan(mel_original_data).any())\n",
        "print(np.isnan(label_original_data).any())"
      ],
      "metadata": {
        "colab": {
          "base_uri": "https://localhost:8080/"
        },
        "id": "cyknbV_o60qG",
        "outputId": "771ca520-8a7b-4525-e8a9-b9630ffd0986"
      },
      "id": "cyknbV_o60qG",
      "execution_count": 71,
      "outputs": [
        {
          "output_type": "stream",
          "name": "stdout",
          "text": [
            "False\n",
            "False\n",
            "False\n"
          ]
        }
      ]
    },
    {
      "cell_type": "code",
      "source": [
        "mfcc_data = np.concatenate((mfcc_data, mfcc_original_data), axis=0)\n",
        "mel_data = np.concatenate((mel_data, mel_original_data), axis=0)\n",
        "label_data = np.concatenate((label_data, label_original_data), axis=0)\n",
        "\n",
        "print(mfcc_data.shape)\n",
        "print(mel_data.shape)\n",
        "print(label_data.shape)"
      ],
      "metadata": {
        "colab": {
          "base_uri": "https://localhost:8080/",
          "height": 0
        },
        "collapsed": true,
        "id": "uMzglYt8xpAe",
        "outputId": "ebbce7db-9e24-49c5-c403-e921026671f9"
      },
      "id": "uMzglYt8xpAe",
      "execution_count": 8,
      "outputs": [
        {
          "output_type": "error",
          "ename": "NameError",
          "evalue": "name 'mfcc_data' is not defined",
          "traceback": [
            "\u001b[0;31m---------------------------------------------------------------------------\u001b[0m",
            "\u001b[0;31mNameError\u001b[0m                                 Traceback (most recent call last)",
            "\u001b[0;32m<ipython-input-8-5e5657aa315f>\u001b[0m in \u001b[0;36m<cell line: 1>\u001b[0;34m()\u001b[0m\n\u001b[0;32m----> 1\u001b[0;31m \u001b[0mmfcc_data\u001b[0m \u001b[0;34m=\u001b[0m \u001b[0mnp\u001b[0m\u001b[0;34m.\u001b[0m\u001b[0mconcatenate\u001b[0m\u001b[0;34m(\u001b[0m\u001b[0;34m(\u001b[0m\u001b[0mmfcc_data\u001b[0m\u001b[0;34m,\u001b[0m \u001b[0mmfcc_original_data\u001b[0m\u001b[0;34m)\u001b[0m\u001b[0;34m,\u001b[0m \u001b[0maxis\u001b[0m\u001b[0;34m=\u001b[0m\u001b[0;36m0\u001b[0m\u001b[0;34m)\u001b[0m\u001b[0;34m\u001b[0m\u001b[0;34m\u001b[0m\u001b[0m\n\u001b[0m\u001b[1;32m      2\u001b[0m \u001b[0mmel_data\u001b[0m \u001b[0;34m=\u001b[0m \u001b[0mnp\u001b[0m\u001b[0;34m.\u001b[0m\u001b[0mconcatenate\u001b[0m\u001b[0;34m(\u001b[0m\u001b[0;34m(\u001b[0m\u001b[0mmel_data\u001b[0m\u001b[0;34m,\u001b[0m \u001b[0mmel_original_data\u001b[0m\u001b[0;34m)\u001b[0m\u001b[0;34m,\u001b[0m \u001b[0maxis\u001b[0m\u001b[0;34m=\u001b[0m\u001b[0;36m0\u001b[0m\u001b[0;34m)\u001b[0m\u001b[0;34m\u001b[0m\u001b[0;34m\u001b[0m\u001b[0m\n\u001b[1;32m      3\u001b[0m \u001b[0mlabel_data\u001b[0m \u001b[0;34m=\u001b[0m \u001b[0mnp\u001b[0m\u001b[0;34m.\u001b[0m\u001b[0mconcatenate\u001b[0m\u001b[0;34m(\u001b[0m\u001b[0;34m(\u001b[0m\u001b[0mlabel_data\u001b[0m\u001b[0;34m,\u001b[0m \u001b[0mlabel_original_data\u001b[0m\u001b[0;34m)\u001b[0m\u001b[0;34m,\u001b[0m \u001b[0maxis\u001b[0m\u001b[0;34m=\u001b[0m\u001b[0;36m0\u001b[0m\u001b[0;34m)\u001b[0m\u001b[0;34m\u001b[0m\u001b[0;34m\u001b[0m\u001b[0m\n\u001b[1;32m      4\u001b[0m \u001b[0;34m\u001b[0m\u001b[0m\n\u001b[1;32m      5\u001b[0m \u001b[0mprint\u001b[0m\u001b[0;34m(\u001b[0m\u001b[0mmfcc_data\u001b[0m\u001b[0;34m.\u001b[0m\u001b[0mshape\u001b[0m\u001b[0;34m)\u001b[0m\u001b[0;34m\u001b[0m\u001b[0;34m\u001b[0m\u001b[0m\n",
            "\u001b[0;31mNameError\u001b[0m: name 'mfcc_data' is not defined"
          ]
        }
      ]
    },
    {
      "cell_type": "code",
      "source": [
        "mfcc_data=mfcc_original_data\n",
        "mel_data=mel_original_data\n",
        "label_data=label_original_data"
      ],
      "metadata": {
        "id": "rA8CHbaRZE7b"
      },
      "id": "rA8CHbaRZE7b",
      "execution_count": 10,
      "outputs": []
    },
    {
      "cell_type": "code",
      "source": [
        "np.save('/content/drive/MyDrive/DACON/chunk/aug_mfcc_data.npy',mfcc_data)\n",
        "np.save('/content/drive/MyDrive/DACON/chunk/aug_mel_data.npy',mel_data)\n",
        "np.save('/content/drive/MyDrive/DACON/chunk/aug_label_data.npy',label_data)"
      ],
      "metadata": {
        "id": "z7yHCwLG3EhL"
      },
      "id": "z7yHCwLG3EhL",
      "execution_count": 10,
      "outputs": []
    },
    {
      "cell_type": "markdown",
      "source": [
        "## 라벨 분포 확인"
      ],
      "metadata": {
        "id": "TDFFAnEB_EcB"
      },
      "id": "TDFFAnEB_EcB"
    },
    {
      "cell_type": "code",
      "source": [
        "import numpy as np\n",
        "import pandas as pd\n",
        "import matplotlib.pyplot as plt\n",
        "\n",
        "# 라벨 분포 확인\n",
        "unique, counts = np.unique(label_data, axis=0, return_counts=True)\n",
        "label_counts = {str(label): count for label, count in zip(unique, counts)}\n",
        "\n",
        "# 출력\n",
        "print(\"Label distribution:\")\n",
        "for label, count in label_counts.items():\n",
        "    print(f\"{label}: {count}\")\n",
        "\n",
        "# 라벨 분포를 시각화\n",
        "labels = [str(label) for label in unique]\n",
        "counts = counts\n",
        "\n",
        "plt.figure(figsize=(8, 6))\n",
        "plt.bar(labels, counts, color='skyblue')\n",
        "plt.xlabel('Label')\n",
        "plt.ylabel('Count')\n",
        "plt.title('Label Distribution')\n",
        "plt.show()\n"
      ],
      "metadata": {
        "colab": {
          "base_uri": "https://localhost:8080/",
          "height": 637
        },
        "id": "44a1wUer5Erw",
        "outputId": "97b7460f-2f64-4198-d073-64b0264095c3"
      },
      "id": "44a1wUer5Erw",
      "execution_count": 10,
      "outputs": [
        {
          "output_type": "stream",
          "name": "stdout",
          "text": [
            "Label distribution:\n",
            "[0. 1.]: 30473\n",
            "[1. 0.]: 28063\n",
            "[1. 1.]: 10049\n"
          ]
        },
        {
          "output_type": "display_data",
          "data": {
            "text/plain": [
              "<Figure size 800x600 with 1 Axes>"
            ],
            "image/png": "[encoded data removed]"
          },
          "metadata": {}
        }
      ]
    },
    {
      "cell_type": "code",
      "source": [
        "# new label - label 균형\n",
        "\n",
        "import numpy as np\n",
        "import pandas as pd\n",
        "import matplotlib.pyplot as plt\n",
        "from sklearn.utils import resample\n",
        "\n",
        "# 라벨 분포 확인\n",
        "unique, counts = np.unique(label_data, axis=0, return_counts=True)\n",
        "label_counts = {str(label): count for label, count in zip(unique, counts)}\n",
        "\n",
        "# 출력\n",
        "print(\"Label distribution:\")\n",
        "for label, count in label_counts.items():\n",
        "    print(f\"{label}: {count}\")\n",
        "\n",
        "# 클래스별 데이터 인덱스 추출\n",
        "class_01_idx = np.where((label_data == [0, 1]).all(axis=1))[0]\n",
        "class_10_idx = np.where((label_data == [1, 0]).all(axis=1))[0]\n",
        "class_11_idx = np.where((label_data == [1, 1]).all(axis=1))[0]\n",
        "\n",
        "# 소수 클래스의 샘플 수 확인\n",
        "min_class_samples = len(class_10_idx)\n",
        "\n",
        "# 초반 10049개 제외\n",
        "class_01_idx_to_use = class_01_idx[10049:]\n",
        "\n",
        "# 다수 클래스에서 소수 클래스 샘플 수만큼 랜덤 샘플링\n",
        "class_01_sampled_idx = np.random.choice(class_01_idx_to_use, min_class_samples)\n",
        "\n",
        "# 새로운 데이터셋 생성\n",
        "new_indices = np.concatenate([class_01_sampled_idx, class_10_idx, class_11_idx])\n",
        "np.random.shuffle(new_indices)  # 섞기\n",
        "\n",
        "# 데이터셋 추출\n",
        "new_mel_data = mel_data[new_indices]\n",
        "new_mfcc_data = mfcc_data[new_indices]\n",
        "new_label_data = label_data[new_indices]\n",
        "\n",
        "# 남은 [0, 1] 인덱스 추출\n",
        "remaining_class_01_idx = np.setdiff1d(class_01_idx, class_01_sampled_idx)\n",
        "\n",
        "# 새로운 라벨 분포 확인\n",
        "new_unique, new_counts = np.unique(new_label_data, axis=0, return_counts=True)\n",
        "new_label_counts = {str(label): count for label, count in zip(new_unique, new_counts)}\n",
        "\n",
        "# 출력\n",
        "print(\"\\nNew label distribution:\")\n",
        "for label, count in new_label_counts.items():\n",
        "    print(f\"{label}: {count}\")\n",
        "\n",
        "# 새로운 라벨 분포를 시각화\n",
        "new_labels = [str(label) for label in new_unique]\n",
        "new_counts = new_counts\n",
        "\n",
        "plt.figure(figsize=(8, 6))\n",
        "plt.bar(new_labels, new_counts, color='skyblue')\n",
        "plt.xlabel('Label')\n",
        "plt.ylabel('Count')\n",
        "plt.title('New Label Distribution')\n",
        "plt.show()\n"
      ],
      "metadata": {
        "colab": {
          "base_uri": "https://localhost:8080/",
          "height": 294
        },
        "collapsed": true,
        "id": "dgkRuiIyHI7c",
        "outputId": "04bbd2ae-c259-4df2-9de5-8995e05f4c87"
      },
      "id": "dgkRuiIyHI7c",
      "execution_count": 11,
      "outputs": [
        {
          "output_type": "stream",
          "name": "stdout",
          "text": [
            "Label distribution:\n",
            "[0. 1.]: 30473\n",
            "[1. 0.]: 28063\n",
            "[1. 1.]: 10049\n"
          ]
        },
        {
          "output_type": "error",
          "ename": "NameError",
          "evalue": "name 'mel_data' is not defined",
          "traceback": [
            "\u001b[0;31m---------------------------------------------------------------------------\u001b[0m",
            "\u001b[0;31mNameError\u001b[0m                                 Traceback (most recent call last)",
            "\u001b[0;32m<ipython-input-11-6372bbf4addb>\u001b[0m in \u001b[0;36m<cell line: 36>\u001b[0;34m()\u001b[0m\n\u001b[1;32m     34\u001b[0m \u001b[0;34m\u001b[0m\u001b[0m\n\u001b[1;32m     35\u001b[0m \u001b[0;31m# 데이터셋 추출\u001b[0m\u001b[0;34m\u001b[0m\u001b[0;34m\u001b[0m\u001b[0m\n\u001b[0;32m---> 36\u001b[0;31m \u001b[0mnew_mel_data\u001b[0m \u001b[0;34m=\u001b[0m \u001b[0mmel_data\u001b[0m\u001b[0;34m[\u001b[0m\u001b[0mnew_indices\u001b[0m\u001b[0;34m]\u001b[0m\u001b[0;34m\u001b[0m\u001b[0;34m\u001b[0m\u001b[0m\n\u001b[0m\u001b[1;32m     37\u001b[0m \u001b[0mnew_mfcc_data\u001b[0m \u001b[0;34m=\u001b[0m \u001b[0mmfcc_data\u001b[0m\u001b[0;34m[\u001b[0m\u001b[0mnew_indices\u001b[0m\u001b[0;34m]\u001b[0m\u001b[0;34m\u001b[0m\u001b[0;34m\u001b[0m\u001b[0m\n\u001b[1;32m     38\u001b[0m \u001b[0mnew_label_data\u001b[0m \u001b[0;34m=\u001b[0m \u001b[0mlabel_data\u001b[0m\u001b[0;34m[\u001b[0m\u001b[0mnew_indices\u001b[0m\u001b[0;34m]\u001b[0m\u001b[0;34m\u001b[0m\u001b[0;34m\u001b[0m\u001b[0m\n",
            "\u001b[0;31mNameError\u001b[0m: name 'mel_data' is not defined"
          ]
        }
      ]
    },
    {
      "cell_type": "code",
      "source": [
        "print(new_mel_data.shape)\n",
        "print(new_mfcc_data.shape)\n",
        "\n",
        "print(new_label_data.shape)\n",
        "print(new_label_data[0])\n",
        "\n",
        "#check for NAN values\n",
        "print(np.isnan(new_mel_data).any())\n",
        "print(np.isnan(new_mfcc_data).any())\n",
        "print(np.isnan(new_label_data).any())"
      ],
      "metadata": {
        "colab": {
          "base_uri": "https://localhost:8080/"
        },
        "id": "sZCRfvipKAzW",
        "outputId": "d493d98a-873f-464d-b849-74d7ff3c3d28"
      },
      "id": "sZCRfvipKAzW",
      "execution_count": 12,
      "outputs": [
        {
          "output_type": "stream",
          "name": "stdout",
          "text": [
            "(66175, 128, 128)\n",
            "(66175, 128, 128)\n",
            "(66175, 2)\n",
            "[0. 1.]\n",
            "False\n",
            "False\n",
            "False\n"
          ]
        }
      ]
    },
    {
      "cell_type": "code",
      "source": [
        "mel_data=new_mel_data\n",
        "mfcc_data=new_mfcc_data\n",
        "label_data=new_label_data"
      ],
      "metadata": {
        "id": "ZbxN1ADhqA2A"
      },
      "id": "ZbxN1ADhqA2A",
      "execution_count": 13,
      "outputs": []
    },
    {
      "cell_type": "code",
      "source": [
        "import torch\n",
        "import torch.nn as nn\n",
        "import torch.nn.functional as F\n",
        "\n",
        "class SimplifiedCNNMultiLabel(nn.Module):\n",
        "    def __init__(self, in_channels=1, num_classes=2):\n",
        "        super(SimplifiedCNNMultiLabel, self).__init__()\n",
        "\n",
        "        self.features = nn.Sequential(\n",
        "            self._conv_block(in_channels, 32),\n",
        "            nn.MaxPool2d(2),\n",
        "            self._conv_block(32, 64),\n",
        "            nn.MaxPool2d(2),\n",
        "            self._conv_block(64, 128),\n",
        "            nn.MaxPool2d(2),\n",
        "            self._conv_block(128, 256),\n",
        "            nn.AdaptiveAvgPool2d(1)\n",
        "        )\n",
        "\n",
        "        self.classifier = nn.Sequential(\n",
        "            nn.Dropout(0.5),\n",
        "            nn.Linear(256, 128),\n",
        "            nn.ReLU(),\n",
        "            nn.Dropout(0.5),\n",
        "            nn.Linear(128, num_classes)\n",
        "        )\n",
        "\n",
        "    def _conv_block(self, in_channels, out_channels):\n",
        "        return nn.Sequential(\n",
        "            nn.Conv2d(in_channels, out_channels, kernel_size=3, padding=1),\n",
        "            nn.BatchNorm2d(out_channels),\n",
        "            nn.ReLU(),\n",
        "            nn.Conv2d(out_channels, out_channels, kernel_size=3, padding=1),\n",
        "            nn.BatchNorm2d(out_channels),\n",
        "            nn.ReLU()\n",
        "        )\n",
        "\n",
        "    # sigmoid 제거\n",
        "    def forward(self, x):\n",
        "        x = self.features(x)\n",
        "        x = x.view(x.size(0), -1)\n",
        "        x = self.classifier(x)\n",
        "\n",
        "        return x"
      ],
      "metadata": {
        "id": "LeTOyLZ6J5Lx"
      },
      "id": "LeTOyLZ6J5Lx",
      "execution_count": 22,
      "outputs": []
    },
    {
      "cell_type": "code",
      "source": [
        "\n",
        "import torch\n",
        "import torch.nn as nn\n",
        "import torch.nn.functional as F\n",
        "\n",
        "class ResidualBlock(nn.Module):\n",
        "    def __init__(self, in_channels, out_channels):\n",
        "        super(ResidualBlock, self).__init__()\n",
        "        self.bn1 = nn.BatchNorm2d(in_channels)\n",
        "        self.conv1 = nn.Conv2d(in_channels, in_channels, kernel_size=1, stride=1, padding=0)\n",
        "        self.bn2 = nn.BatchNorm2d(in_channels)\n",
        "        self.conv2 = nn.Conv2d(in_channels, in_channels, kernel_size=3, stride=1, padding=1)\n",
        "        self.bn3 = nn.BatchNorm2d(in_channels)\n",
        "        self.conv3 = nn.Conv2d(in_channels, out_channels, kernel_size=1, stride=1, padding=0)\n",
        "        self.shortcut = nn.Sequential()\n",
        "\n",
        "        if in_channels != out_channels:\n",
        "            self.shortcut = nn.Sequential(\n",
        "                nn.Conv2d(in_channels, out_channels, kernel_size=1, stride=1, padding=0),\n",
        "                nn.BatchNorm2d(out_channels)\n",
        "            )\n",
        "\n",
        "    def forward(self, x):\n",
        "        shortcut = self.shortcut(x)\n",
        "        x = F.relu(self.bn1(x))\n",
        "        x = F.relu(self.bn2(self.conv1(x)))\n",
        "        x = F.relu(self.bn3(self.conv2(x)))\n",
        "        x = self.conv3(x)\n",
        "        x += shortcut\n",
        "        return F.relu(x)\n",
        "\n",
        "class ResCNN(nn.Module):\n",
        "    def __init__(self):\n",
        "        super(ResCNN, self).__init__()\n",
        "        self.conv1 = nn.Conv2d(1, 16, kernel_size=3, stride=1, padding=1)\n",
        "        self.bn1 = nn.BatchNorm2d(16)\n",
        "        self.pool1 = nn.MaxPool2d(kernel_size=2, stride=2, padding=0)\n",
        "\n",
        "        self.residual_block1 = ResidualBlock(16, 32)\n",
        "        self.residual_block2 = ResidualBlock(32, 32)\n",
        "        self.pool2 = nn.MaxPool2d(kernel_size=2, stride=2, padding=0)\n",
        "\n",
        "        self.residual_block3 = ResidualBlock(32, 64)\n",
        "        self.residual_block4 = ResidualBlock(64, 64)\n",
        "        self.pool3 = nn.MaxPool2d(kernel_size=2, stride=2, padding=0)\n",
        "\n",
        "        self.residual_block5 = ResidualBlock(64, 128)\n",
        "        self.residual_block6 = ResidualBlock(128, 128)\n",
        "        self.pool4 = nn.MaxPool2d(kernel_size=2, stride=2, padding=0)\n",
        "\n",
        "        self.global_avg_pool = nn.AdaptiveAvgPool2d((1, 1))\n",
        "\n",
        "        self.fc1 = nn.Linear(128, 64)\n",
        "        self.bn2 = nn.BatchNorm1d(64)\n",
        "        self.dropout1 = nn.Dropout(0.5)\n",
        "        self.fc2 = nn.Linear(64, 2)\n",
        "\n",
        "    def forward(self, x):\n",
        "        x = F.relu(self.bn1(self.conv1(x)))\n",
        "        x = self.pool1(x)\n",
        "\n",
        "        x = self.residual_block1(x)\n",
        "        x = self.residual_block2(x)\n",
        "        x = self.pool2(x)\n",
        "\n",
        "        x = self.residual_block3(x)\n",
        "        x = self.residual_block4(x)\n",
        "        x = self.pool3(x)\n",
        "\n",
        "        x = self.residual_block5(x)\n",
        "        x = self.residual_block6(x)\n",
        "        x = self.pool4(x)\n",
        "\n",
        "        x = self.global_avg_pool(x)\n",
        "        x = x.view(x.size(0), -1)  # Flatten\n",
        "\n",
        "        x = F.relu(self.bn2(self.fc1(x)))\n",
        "        x = self.dropout1(x)\n",
        "        x = self.fc2(x)\n",
        "\n",
        "        return x"
      ],
      "metadata": {
        "id": "0eFJvJSDjmeF"
      },
      "id": "0eFJvJSDjmeF",
      "execution_count": 12,
      "outputs": []
    },
    {
      "cell_type": "code",
      "source": [
        "from torchinfo import summary\n",
        "\n",
        "model = ResCNN()\n",
        "summary(model, input_size=(1, 1,128, 128))"
      ],
      "metadata": {
        "colab": {
          "base_uri": "https://localhost:8080/"
        },
        "id": "AkPiuW0H29j8",
        "outputId": "d9592e88-a2df-4593-c80a-091c156ffeeb"
      },
      "id": "AkPiuW0H29j8",
      "execution_count": 33,
      "outputs": [
        {
          "output_type": "execute_result",
          "data": {
            "text/plain": [
              "==========================================================================================\n",
              "Layer (type:depth-idx)                   Output Shape              Param #\n",
              "==========================================================================================\n",
              "ResCNN                                   [1, 2]                    --\n",
              "├─Conv2d: 1-1                            [1, 16, 128, 128]         160\n",
              "├─BatchNorm2d: 1-2                       [1, 16, 128, 128]         32\n",
              "├─MaxPool2d: 1-3                         [1, 16, 64, 64]           --\n",
              "├─ResidualBlock: 1-4                     [1, 32, 64, 64]           --\n",
              "│    └─Sequential: 2-1                   [1, 32, 64, 64]           --\n",
              "│    │    └─Conv2d: 3-1                  [1, 32, 64, 64]           544\n",
              "│    │    └─BatchNorm2d: 3-2             [1, 32, 64, 64]           64\n",
              "│    └─BatchNorm2d: 2-2                  [1, 16, 64, 64]           32\n",
              "│    └─Conv2d: 2-3                       [1, 16, 64, 64]           272\n",
              "│    └─BatchNorm2d: 2-4                  [1, 16, 64, 64]           32\n",
              "│    └─Conv2d: 2-5                       [1, 16, 64, 64]           2,320\n",
              "│    └─BatchNorm2d: 2-6                  [1, 16, 64, 64]           32\n",
              "│    └─Conv2d: 2-7                       [1, 32, 64, 64]           544\n",
              "├─ResidualBlock: 1-5                     [1, 32, 64, 64]           --\n",
              "│    └─Sequential: 2-8                   [1, 32, 64, 64]           --\n",
              "│    └─BatchNorm2d: 2-9                  [1, 32, 64, 64]           64\n",
              "│    └─Conv2d: 2-10                      [1, 32, 64, 64]           1,056\n",
              "│    └─BatchNorm2d: 2-11                 [1, 32, 64, 64]           64\n",
              "│    └─Conv2d: 2-12                      [1, 32, 64, 64]           9,248\n",
              "│    └─BatchNorm2d: 2-13                 [1, 32, 64, 64]           64\n",
              "│    └─Conv2d: 2-14                      [1, 32, 64, 64]           1,056\n",
              "├─MaxPool2d: 1-6                         [1, 32, 32, 32]           --\n",
              "├─ResidualBlock: 1-7                     [1, 64, 32, 32]           --\n",
              "│    └─Sequential: 2-15                  [1, 64, 32, 32]           --\n",
              "│    │    └─Conv2d: 3-3                  [1, 64, 32, 32]           2,112\n",
              "│    │    └─BatchNorm2d: 3-4             [1, 64, 32, 32]           128\n",
              "│    └─BatchNorm2d: 2-16                 [1, 32, 32, 32]           64\n",
              "│    └─Conv2d: 2-17                      [1, 32, 32, 32]           1,056\n",
              "│    └─BatchNorm2d: 2-18                 [1, 32, 32, 32]           64\n",
              "│    └─Conv2d: 2-19                      [1, 32, 32, 32]           9,248\n",
              "│    └─BatchNorm2d: 2-20                 [1, 32, 32, 32]           64\n",
              "│    └─Conv2d: 2-21                      [1, 64, 32, 32]           2,112\n",
              "├─ResidualBlock: 1-8                     [1, 64, 32, 32]           --\n",
              "│    └─Sequential: 2-22                  [1, 64, 32, 32]           --\n",
              "│    └─BatchNorm2d: 2-23                 [1, 64, 32, 32]           128\n",
              "│    └─Conv2d: 2-24                      [1, 64, 32, 32]           4,160\n",
              "│    └─BatchNorm2d: 2-25                 [1, 64, 32, 32]           128\n",
              "│    └─Conv2d: 2-26                      [1, 64, 32, 32]           36,928\n",
              "│    └─BatchNorm2d: 2-27                 [1, 64, 32, 32]           128\n",
              "│    └─Conv2d: 2-28                      [1, 64, 32, 32]           4,160\n",
              "├─MaxPool2d: 1-9                         [1, 64, 16, 16]           --\n",
              "├─ResidualBlock: 1-10                    [1, 128, 16, 16]          --\n",
              "│    └─Sequential: 2-29                  [1, 128, 16, 16]          --\n",
              "│    │    └─Conv2d: 3-5                  [1, 128, 16, 16]          8,320\n",
              "│    │    └─BatchNorm2d: 3-6             [1, 128, 16, 16]          256\n",
              "│    └─BatchNorm2d: 2-30                 [1, 64, 16, 16]           128\n",
              "│    └─Conv2d: 2-31                      [1, 64, 16, 16]           4,160\n",
              "│    └─BatchNorm2d: 2-32                 [1, 64, 16, 16]           128\n",
              "│    └─Conv2d: 2-33                      [1, 64, 16, 16]           36,928\n",
              "│    └─BatchNorm2d: 2-34                 [1, 64, 16, 16]           128\n",
              "│    └─Conv2d: 2-35                      [1, 128, 16, 16]          8,320\n",
              "├─ResidualBlock: 1-11                    [1, 128, 16, 16]          --\n",
              "│    └─Sequential: 2-36                  [1, 128, 16, 16]          --\n",
              "│    └─BatchNorm2d: 2-37                 [1, 128, 16, 16]          256\n",
              "│    └─Conv2d: 2-38                      [1, 128, 16, 16]          16,512\n",
              "│    └─BatchNorm2d: 2-39                 [1, 128, 16, 16]          256\n",
              "│    └─Conv2d: 2-40                      [1, 128, 16, 16]          147,584\n",
              "│    └─BatchNorm2d: 2-41                 [1, 128, 16, 16]          256\n",
              "│    └─Conv2d: 2-42                      [1, 128, 16, 16]          16,512\n",
              "├─MaxPool2d: 1-12                        [1, 128, 8, 8]            --\n",
              "├─AdaptiveAvgPool2d: 1-13                [1, 128, 1, 1]            --\n",
              "├─Linear: 1-14                           [1, 64]                   8,256\n",
              "├─BatchNorm1d: 1-15                      [1, 64]                   128\n",
              "├─Dropout: 1-16                          [1, 64]                   --\n",
              "├─Linear: 1-17                           [1, 2]                    130\n",
              "==========================================================================================\n",
              "Total params: 324,322\n",
              "Trainable params: 324,322\n",
              "Non-trainable params: 0\n",
              "Total mult-adds (M): 186.46\n",
              "==========================================================================================\n",
              "Input size (MB): 0.07\n",
              "Forward/backward pass size (MB): 25.30\n",
              "Params size (MB): 1.30\n",
              "Estimated Total Size (MB): 26.66\n",
              "=========================================================================================="
            ]
          },
          "metadata": {},
          "execution_count": 33
        }
      ]
    },
    {
      "cell_type": "code",
      "source": [
        "class FocalLoss(nn.Module):\n",
        "    def __init__(self, alpha=1, gamma=2, reduce=True):\n",
        "        super(FocalLoss, self).__init__()\n",
        "        self.alpha = alpha\n",
        "        self.gamma = gamma\n",
        "        self.reduce = reduce\n",
        "\n",
        "    def forward(self, inputs\n",
        "                , targets):\n",
        "        BCE_loss = F.binary_cross_entropy_with_logits(inputs, targets, reduce=False)\n",
        "        pt = torch.exp(-BCE_loss)\n",
        "        F_loss = self.alpha * (1-pt)**self.gamma * BCE_loss\n",
        "\n",
        "        if self.reduce:\n",
        "            return torch.mean(F_loss)\n",
        "        else:\n",
        "            return F_loss"
      ],
      "metadata": {
        "id": "X7hQK13aa0Ag"
      },
      "id": "X7hQK13aa0Ag",
      "execution_count": 13,
      "outputs": []
    },
    {
      "cell_type": "code",
      "source": [
        "def train_model(model, train_loader, val_loader, criterion, optimizer, num_epochs=CONFIG.N_EPOCHS):\n",
        "    device = torch.device(\"cuda\" if torch.cuda.is_available() else \"cpu\")\n",
        "    model.to(device)\n",
        "\n",
        "    best_model = None\n",
        "    best_hamming_loss = float('inf')\n",
        "\n",
        "    for epoch in range(num_epochs):\n",
        "        model.train()\n",
        "        epoch_train_loss = 0.0\n",
        "\n",
        "        for inputs, labels in tqdm(train_loader, desc=f'Epoch {epoch + 1}/{num_epochs}'):\n",
        "            inputs, labels = inputs.to(device), labels.to(device)\n",
        "            optimizer.zero_grad()\n",
        "            outputs = model(inputs)\n",
        "\n",
        "            loss = criterion(outputs, labels)\n",
        "            loss.backward()\n",
        "\n",
        "            optimizer.step()\n",
        "            epoch_train_loss += loss.item() * inputs.size(0)\n",
        "\n",
        "        epoch_train_loss /= len(train_loader.dataset)\n",
        "\n",
        "        # Validation\n",
        "        model.eval()\n",
        "        val_preds = []\n",
        "        val_labels = []\n",
        "\n",
        "        with torch.no_grad():\n",
        "            for inputs, labels in val_loader:\n",
        "                inputs, labels = inputs.to(device), labels.to(device)\n",
        "                outputs = model(inputs)\n",
        "                val_preds.extend(outputs.cpu().numpy())\n",
        "                val_labels.extend(labels.cpu().numpy())\n",
        "\n",
        "        # Apply threshold to predictions\n",
        "        val_preds = (np.array(val_preds) > 0.5).astype(int)\n",
        "        val_labels = np.array(val_labels)\n",
        "\n",
        "        hamming_loss_val = hamming_loss(val_labels, val_preds)\n",
        "        subset_accuracy_val = accuracy_score(val_labels, val_preds, normalize=True, sample_weight=None)\n",
        "\n",
        "        print(f\"Epoch {epoch + 1}/{num_epochs}, \"\n",
        "              f\"Train Loss: {epoch_train_loss:.4f}, \"\n",
        "              f\"Val Hamming Loss: {hamming_loss_val:.4f}, \"\n",
        "              f\"Val Subset Accuracy: {subset_accuracy_val:.4f}\")\n",
        "\n",
        "        # Update best model if current Hamming loss is better\n",
        "        if hamming_loss_val < best_hamming_loss:\n",
        "            best_hamming_loss = hamming_loss_val\n",
        "            best_model = model.state_dict()\n",
        "\n",
        "    # Load best model\n",
        "    model.load_state_dict(best_model)\n",
        "\n",
        "    return model, best_hamming_loss"
      ],
      "metadata": {
        "id": "NduNrMmyKFsz"
      },
      "id": "NduNrMmyKFsz",
      "execution_count": 14,
      "outputs": []
    },
    {
      "cell_type": "code",
      "source": [
        "# Function to predict on multiple segments and aggregate results\n",
        "def prediction(model, test_mfcc_data, device):\n",
        "    model.eval()\n",
        "    preds_list = []\n",
        "    with torch.no_grad():\n",
        "        for i in range(0, len(test_mfcc_data), 2):\n",
        "            data_1 = test_mfcc_data[i]\n",
        "            data_2 = test_mfcc_data[i + 1]\n",
        "\n",
        "            inputs_1 = torch.Tensor(data_1).unsqueeze(0).unsqueeze(0).to(device)  # Assuming segment shape is (1, 1, segment_length)\n",
        "            inputs_2 = torch.Tensor(data_2).unsqueeze(0).unsqueeze(0).to(device)\n",
        "\n",
        "            preds_1 = model(inputs_1)\n",
        "            preds_2 = model(inputs_2)\n",
        "\n",
        "            preds_1=torch.sigmoid(preds_1).cpu().detach().numpy()\n",
        "            preds_2=torch.sigmoid(preds_2).cpu().detach().numpy()\n",
        "\n",
        "            # Take the average of predictions\n",
        "            preds_avg = (preds_1 + preds_2) / 2.0\n",
        "            preds_list.append(preds_avg)\n",
        "\n",
        "    return preds_list\n"
      ],
      "metadata": {
        "id": "ABnBMeXsKPHk"
      },
      "id": "ABnBMeXsKPHk",
      "execution_count": 15,
      "outputs": []
    },
    {
      "cell_type": "code",
      "source": [
        "from torch.utils.data import TensorDataset, DataLoader\n",
        "from sklearn.metrics import hamming_loss, accuracy_score\n",
        "\n",
        "# Iterate over folds\n",
        "from sklearn.model_selection import StratifiedKFold\n",
        "\n",
        "#pred_list_mel = []  # Store predictions for Mel model\n",
        "pred_list_mfcc = []  # Store predictions for MFCC model\n",
        "\n",
        "# StratifiedKFold 객체 생성\n",
        "n_splits = 5  # 원하는 폴드 수\n",
        "skf = StratifiedKFold(n_splits=n_splits, shuffle=True, random_state=42)\n",
        "\n",
        "for fold, (train_index, val_index) in enumerate(skf.split(mfcc_data, np.argmax(label_data, axis=1))):\n",
        "    print(f'\\n********** {fold+1} fold **********')\n",
        "    '''\n",
        "    # Mel spectrogram model\n",
        "    #model_mel = SimplifiedCNNMultiLabel()\n",
        "    model_mel = ResCNN()\n",
        "\n",
        "    x_train_mel, x_val_mel = mel_data[train_index], mel_data[val_index]\n",
        "    y_train_mel, y_val_mel = label_data[train_index], label_data[val_index]\n",
        "\n",
        "    train_dataset_mel = TensorDataset(torch.Tensor(x_train_mel).unsqueeze(1), torch.Tensor(y_train_mel))\n",
        "    val_dataset_mel = TensorDataset(torch.Tensor(x_val_mel).unsqueeze(1), torch.Tensor(y_val_mel))\n",
        "\n",
        "    train_loader_mel = DataLoader(train_dataset_mel, batch_size=CONFIG.BATCH_SIZE, shuffle=True)\n",
        "    val_loader_mel = DataLoader(val_dataset_mel, batch_size=CONFIG.BATCH_SIZE)\n",
        "\n",
        "    criterion_mel = FocalLoss()\n",
        "    optimizer_mel = optim.Adam(model_mel.parameters(), lr=CONFIG.LR)\n",
        "\n",
        "    # Train Mel spectrogram model\n",
        "    #model_mel, best_auc_mel = train_model(model_mel, train_loader_mel, val_loader_mel, criterion_mel, optimizer_mel)\n",
        "    model_mel, best_hamming_loss = train_model(model_mel, train_loader_mel, val_loader_mel, criterion_mel, optimizer_mel)\n",
        "\n",
        "    # 모델 저장\n",
        "    save_dir='/content/drive/MyDrive/DACON/chunk/mel_models'\n",
        "    model_path = os.path.join(save_dir, f'rescnn_fold{fold}_best.pth')\n",
        "    torch.save(model_mel.state_dict(), model_path)\n",
        "\n",
        "    # Validation on full 5-second validation data for Mel model\n",
        "    model_mel.eval()\n",
        "    val_preds_mel = []\n",
        "    val_labels_mel = []\n",
        "\n",
        "    batch_size = CONFIG.BATCH_SIZE\n",
        "    with torch.no_grad():\n",
        "        for i in range(0, len(x_val_mel), batch_size):\n",
        "            inputs = torch.Tensor(x_val_mel[i:i+batch_size]).to(device).unsqueeze(1)\n",
        "            outputs = model_mel(inputs)\n",
        "            #val_preds_mel.extend(outputs.cpu().numpy())\n",
        "            val_preds_mel.extend((outputs.cpu().numpy() > 0.5).astype(int))\n",
        "            val_labels_mel.extend(y_val_mel[i:i+batch_size])\n",
        "\n",
        "    val_preds_mel = np.array(val_preds_mel)\n",
        "    val_labels_mel = np.array(val_labels_mel)\n",
        "    #auc_mel = roc_auc_score(val_labels_mel, val_preds_mel, average='weighted')\n",
        "    hamming_loss_mel = hamming_loss(val_labels_mel, val_preds_mel)\n",
        "    subset_accuracy_mel = accuracy_score(val_labels_mel, val_preds_mel, normalize=True, sample_weight=None)\n",
        "\n",
        "    #print(f'mels_model_auc : {auc_mel:.4f}')\n",
        "    print(f'mels_model_hamming_loss : {hamming_loss_mel:.4f}')\n",
        "    print(f'mels_model_subset_accuracy : {subset_accuracy_mel:.4f}')\n",
        "\n",
        "    # Store predictions on test data for Mel model\n",
        "    preds_test_mel = prediction(model_mel, test_mel_data, device)\n",
        "    pred_list_mel.append(preds_test_mel)\n",
        "    '''\n",
        "\n",
        "    # MFCC model\n",
        "    #model_mfcc = SimplifiedCNNMultiLabel()\n",
        "    model_mfcc = ResCNN()\n",
        "\n",
        "    x_train_mfcc, x_val_mfcc = mfcc_data[train_index], mfcc_data[val_index]\n",
        "    y_train_mfcc, y_val_mfcc = label_data[train_index], label_data[val_index]\n",
        "\n",
        "    train_dataset_mfcc = TensorDataset(torch.Tensor(x_train_mfcc).unsqueeze(1), torch.Tensor(y_train_mfcc))\n",
        "    val_dataset_mfcc = TensorDataset(torch.Tensor(x_val_mfcc).unsqueeze(1), torch.Tensor(y_val_mfcc))\n",
        "    train_loader_mfcc = DataLoader(train_dataset_mfcc, batch_size=CONFIG.BATCH_SIZE, shuffle=True)\n",
        "    val_loader_mfcc = DataLoader(val_dataset_mfcc, batch_size=CONFIG.BATCH_SIZE)\n",
        "\n",
        "    optimizer_mfcc = optim.Adam(model_mfcc.parameters(), lr=CONFIG.LR)\n",
        "    #criterion_mfcc = FocalLoss()\n",
        "    criterion_mfcc = nn.BCEWithLogitsLoss()\n",
        "\n",
        "    # Train MFCC model\n",
        "    #model_mfcc, best_auc_mfcc = train_model(model_mfcc, train_loader_mfcc, val_loader_mfcc, criterion_mfcc, optimizer_mfcc)\n",
        "    model_mfcc, best_hamming_loss = train_model(model_mfcc, train_loader_mfcc, val_loader_mfcc, criterion_mfcc, optimizer_mfcc)\n",
        "\n",
        "    # 모델 저장\n",
        "    save_dir='/content/drive/MyDrive/DACON/chunk/mfcc_models'\n",
        "    model_path = os.path.join(save_dir, f'rescnn_fold{fold}_best.pth')\n",
        "    torch.save(model_mfcc.state_dict(), model_path)\n",
        "\n",
        "    # Validation on full 5-second validation data for MFCC model\n",
        "    model_mfcc.eval()\n",
        "    val_preds_mfcc = []\n",
        "    val_labels_mfcc = []\n",
        "\n",
        "    batch_size = CONFIG.BATCH_SIZE\n",
        "    with torch.no_grad():\n",
        "        for i in range(0, len(x_val_mfcc), batch_size):\n",
        "            inputs = torch.Tensor(x_val_mfcc[i:i+batch_size]).to(device).unsqueeze(1)\n",
        "            outputs = model_mfcc(inputs)\n",
        "            #val_preds_mfcc.extend(outputs.cpu().numpy())\n",
        "            val_preds_mfcc.extend((outputs.cpu().numpy() > 0.5).astype(int))\n",
        "            val_labels_mfcc.extend(y_val_mfcc[i:i+batch_size])\n",
        "\n",
        "    val_preds_mfcc = np.array(val_preds_mfcc)\n",
        "    val_labels_mfcc = np.array(val_labels_mfcc)\n",
        "    #auc_mfcc = roc_auc_score(val_labels_mfcc, val_preds_mfcc, average='weighted')\n",
        "\n",
        "    hamming_loss_mfcc = hamming_loss(val_labels_mfcc, val_preds_mfcc)\n",
        "    subset_accuracy_mfcc = accuracy_score(val_labels_mfcc, val_preds_mfcc, normalize=True, sample_weight=None)\n",
        "\n",
        "    #print(f'mfcc_model_auc : {auc_mfcc:.4f}')\n",
        "    print(f'mfcc_model_hamming_loss : {hamming_loss_mfcc:.4f}')\n",
        "    print(f'mfcc_model_subset_accuracy : {subset_accuracy_mfcc:.4f}')\n",
        "\n",
        "    # Store predictions on test data for MFCC model\n",
        "    preds_test_mfcc = prediction(model_mfcc, test_mfcc_data, device)\n",
        "    pred_list_mfcc.append(preds_test_mfcc)\n",
        "\n",
        "    # Print fold ensemble metrics if needed\n",
        "    print(f'Ensemble metrics for fold {fold+1}')\n",
        "\n",
        "# Calculate mean predictions from all folds\n",
        "#pred_mean_mel = np.mean(pred_list_mel, axis=0)\n",
        "pred_mean_mfcc = np.mean(pred_list_mfcc, axis=0)\n",
        "\n",
        "# Perform final ensemble by averaging predictions\n",
        "#final_pred_mean = (pred_mean_mel + pred_mean_mfcc) / 2.0"
      ],
      "metadata": {
        "colab": {
          "base_uri": "https://localhost:8080/",
          "height": 538
        },
        "collapsed": true,
        "id": "q4oRmlUaKKqT",
        "outputId": "002ea14c-2abf-4179-9383-ff5c1ead04c3"
      },
      "id": "q4oRmlUaKKqT",
      "execution_count": 24,
      "outputs": [
        {
          "output_type": "stream",
          "name": "stdout",
          "text": [
            "\n",
            "********** 1 fold **********\n"
          ]
        },
        {
          "output_type": "stream",
          "name": "stderr",
          "text": [
            "Epoch 1/50: 100%|██████████| 2287/2287 [00:34<00:00, 66.40it/s]\n"
          ]
        },
        {
          "output_type": "stream",
          "name": "stdout",
          "text": [
            "Epoch 1/50, Train Loss: 0.3590, Val Hamming Loss: 0.1416, Val Subset Accuracy: 0.7914\n"
          ]
        },
        {
          "output_type": "stream",
          "name": "stderr",
          "text": [
            "Epoch 2/50: 100%|██████████| 2287/2287 [00:34<00:00, 67.21it/s]\n"
          ]
        },
        {
          "output_type": "stream",
          "name": "stdout",
          "text": [
            "Epoch 2/50, Train Loss: 0.2279, Val Hamming Loss: 0.0946, Val Subset Accuracy: 0.8541\n"
          ]
        },
        {
          "output_type": "stream",
          "name": "stderr",
          "text": [
            "Epoch 3/50: 100%|██████████| 2287/2287 [00:34<00:00, 66.12it/s]\n"
          ]
        },
        {
          "output_type": "stream",
          "name": "stdout",
          "text": [
            "Epoch 3/50, Train Loss: 0.1904, Val Hamming Loss: 0.2330, Val Subset Accuracy: 0.6854\n"
          ]
        },
        {
          "output_type": "stream",
          "name": "stderr",
          "text": [
            "Epoch 4/50:  88%|████████▊ | 2008/2287 [00:30<00:04, 66.21it/s]\n"
          ]
        },
        {
          "output_type": "error",
          "ename": "KeyboardInterrupt",
          "evalue": "",
          "traceback": [
            "\u001b[0;31m---------------------------------------------------------------------------\u001b[0m",
            "\u001b[0;31mKeyboardInterrupt\u001b[0m                         Traceback (most recent call last)",
            "\u001b[0;32m<ipython-input-24-1d9cfbe051a6>\u001b[0m in \u001b[0;36m<cell line: 14>\u001b[0;34m()\u001b[0m\n\u001b[1;32m     87\u001b[0m     \u001b[0;31m# Train MFCC model\u001b[0m\u001b[0;34m\u001b[0m\u001b[0;34m\u001b[0m\u001b[0m\n\u001b[1;32m     88\u001b[0m     \u001b[0;31m#model_mfcc, best_auc_mfcc = train_model(model_mfcc, train_loader_mfcc, val_loader_mfcc, criterion_mfcc, optimizer_mfcc)\u001b[0m\u001b[0;34m\u001b[0m\u001b[0;34m\u001b[0m\u001b[0m\n\u001b[0;32m---> 89\u001b[0;31m     \u001b[0mmodel_mfcc\u001b[0m\u001b[0;34m,\u001b[0m \u001b[0mbest_hamming_loss\u001b[0m \u001b[0;34m=\u001b[0m \u001b[0mtrain_model\u001b[0m\u001b[0;34m(\u001b[0m\u001b[0mmodel_mfcc\u001b[0m\u001b[0;34m,\u001b[0m \u001b[0mtrain_loader_mfcc\u001b[0m\u001b[0;34m,\u001b[0m \u001b[0mval_loader_mfcc\u001b[0m\u001b[0;34m,\u001b[0m \u001b[0mcriterion_mfcc\u001b[0m\u001b[0;34m,\u001b[0m \u001b[0moptimizer_mfcc\u001b[0m\u001b[0;34m)\u001b[0m\u001b[0;34m\u001b[0m\u001b[0;34m\u001b[0m\u001b[0m\n\u001b[0m\u001b[1;32m     90\u001b[0m \u001b[0;34m\u001b[0m\u001b[0m\n\u001b[1;32m     91\u001b[0m     \u001b[0;31m# 모델 저장\u001b[0m\u001b[0;34m\u001b[0m\u001b[0;34m\u001b[0m\u001b[0m\n",
            "\u001b[0;32m<ipython-input-14-a1c5d5b40315>\u001b[0m in \u001b[0;36mtrain_model\u001b[0;34m(model, train_loader, val_loader, criterion, optimizer, num_epochs)\u001b[0m\n\u001b[1;32m     16\u001b[0m \u001b[0;34m\u001b[0m\u001b[0m\n\u001b[1;32m     17\u001b[0m             \u001b[0mloss\u001b[0m \u001b[0;34m=\u001b[0m \u001b[0mcriterion\u001b[0m\u001b[0;34m(\u001b[0m\u001b[0moutputs\u001b[0m\u001b[0;34m,\u001b[0m \u001b[0mlabels\u001b[0m\u001b[0;34m)\u001b[0m\u001b[0;34m\u001b[0m\u001b[0;34m\u001b[0m\u001b[0m\n\u001b[0;32m---> 18\u001b[0;31m             \u001b[0mloss\u001b[0m\u001b[0;34m.\u001b[0m\u001b[0mbackward\u001b[0m\u001b[0;34m(\u001b[0m\u001b[0;34m)\u001b[0m\u001b[0;34m\u001b[0m\u001b[0;34m\u001b[0m\u001b[0m\n\u001b[0m\u001b[1;32m     19\u001b[0m \u001b[0;34m\u001b[0m\u001b[0m\n\u001b[1;32m     20\u001b[0m             \u001b[0moptimizer\u001b[0m\u001b[0;34m.\u001b[0m\u001b[0mstep\u001b[0m\u001b[0;34m(\u001b[0m\u001b[0;34m)\u001b[0m\u001b[0;34m\u001b[0m\u001b[0;34m\u001b[0m\u001b[0m\n",
            "\u001b[0;32m/usr/local/lib/python3.10/dist-packages/torch/_tensor.py\u001b[0m in \u001b[0;36mbackward\u001b[0;34m(self, gradient, retain_graph, create_graph, inputs)\u001b[0m\n\u001b[1;32m    523\u001b[0m                 \u001b[0minputs\u001b[0m\u001b[0;34m=\u001b[0m\u001b[0minputs\u001b[0m\u001b[0;34m,\u001b[0m\u001b[0;34m\u001b[0m\u001b[0;34m\u001b[0m\u001b[0m\n\u001b[1;32m    524\u001b[0m             )\n\u001b[0;32m--> 525\u001b[0;31m         torch.autograd.backward(\n\u001b[0m\u001b[1;32m    526\u001b[0m             \u001b[0mself\u001b[0m\u001b[0;34m,\u001b[0m \u001b[0mgradient\u001b[0m\u001b[0;34m,\u001b[0m \u001b[0mretain_graph\u001b[0m\u001b[0;34m,\u001b[0m \u001b[0mcreate_graph\u001b[0m\u001b[0;34m,\u001b[0m \u001b[0minputs\u001b[0m\u001b[0;34m=\u001b[0m\u001b[0minputs\u001b[0m\u001b[0;34m\u001b[0m\u001b[0;34m\u001b[0m\u001b[0m\n\u001b[1;32m    527\u001b[0m         )\n",
            "\u001b[0;32m/usr/local/lib/python3.10/dist-packages/torch/autograd/__init__.py\u001b[0m in \u001b[0;36mbackward\u001b[0;34m(tensors, grad_tensors, retain_graph, create_graph, grad_variables, inputs)\u001b[0m\n\u001b[1;32m    265\u001b[0m     \u001b[0;31m# some Python versions print out the first line of a multi-line function\u001b[0m\u001b[0;34m\u001b[0m\u001b[0;34m\u001b[0m\u001b[0m\n\u001b[1;32m    266\u001b[0m     \u001b[0;31m# calls in the traceback and some print out the last line\u001b[0m\u001b[0;34m\u001b[0m\u001b[0;34m\u001b[0m\u001b[0m\n\u001b[0;32m--> 267\u001b[0;31m     _engine_run_backward(\n\u001b[0m\u001b[1;32m    268\u001b[0m         \u001b[0mtensors\u001b[0m\u001b[0;34m,\u001b[0m\u001b[0;34m\u001b[0m\u001b[0;34m\u001b[0m\u001b[0m\n\u001b[1;32m    269\u001b[0m         \u001b[0mgrad_tensors_\u001b[0m\u001b[0;34m,\u001b[0m\u001b[0;34m\u001b[0m\u001b[0;34m\u001b[0m\u001b[0m\n",
            "\u001b[0;32m/usr/local/lib/python3.10/dist-packages/torch/autograd/graph.py\u001b[0m in \u001b[0;36m_engine_run_backward\u001b[0;34m(t_outputs, *args, **kwargs)\u001b[0m\n\u001b[1;32m    742\u001b[0m         \u001b[0munregister_hooks\u001b[0m \u001b[0;34m=\u001b[0m \u001b[0m_register_logging_hooks_on_whole_graph\u001b[0m\u001b[0;34m(\u001b[0m\u001b[0mt_outputs\u001b[0m\u001b[0;34m)\u001b[0m\u001b[0;34m\u001b[0m\u001b[0;34m\u001b[0m\u001b[0m\n\u001b[1;32m    743\u001b[0m     \u001b[0;32mtry\u001b[0m\u001b[0;34m:\u001b[0m\u001b[0;34m\u001b[0m\u001b[0;34m\u001b[0m\u001b[0m\n\u001b[0;32m--> 744\u001b[0;31m         return Variable._execution_engine.run_backward(  # Calls into the C++ engine to run the backward pass\n\u001b[0m\u001b[1;32m    745\u001b[0m             \u001b[0mt_outputs\u001b[0m\u001b[0;34m,\u001b[0m \u001b[0;34m*\u001b[0m\u001b[0margs\u001b[0m\u001b[0;34m,\u001b[0m \u001b[0;34m**\u001b[0m\u001b[0mkwargs\u001b[0m\u001b[0;34m\u001b[0m\u001b[0;34m\u001b[0m\u001b[0m\n\u001b[1;32m    746\u001b[0m         )  # Calls into the C++ engine to run the backward pass\n",
            "\u001b[0;31mKeyboardInterrupt\u001b[0m: "
          ]
        }
      ]
    },
    {
      "cell_type": "code",
      "source": [
        "'''\n",
        "from torch.utils.data import TensorDataset, DataLoader\n",
        "from sklearn.metrics import hamming_loss, accuracy_score\n",
        "\n",
        "# Perform a single train-validation split\n",
        "train_index, val_index = train_test_split(np.arange(len(mel_data)), test_size=0.2, stratify=np.argmax(label_data, axis=1), random_state=CONFIG.SEED)\n",
        "\n",
        "# Mel spectrogram model\n",
        "model_mel = SimplifiedCNNMultiLabel()\n",
        "\n",
        "x_train_mel, x_val_mel = mel_data[train_index], mel_data[val_index]\n",
        "y_train_mel, y_val_mel = label_data[train_index], label_data[val_index]\n",
        "\n",
        "train_dataset_mel = TensorDataset(torch.Tensor(x_train_mel).unsqueeze(1), torch.Tensor(y_train_mel))\n",
        "val_dataset_mel = TensorDataset(torch.Tensor(x_val_mel).unsqueeze(1), torch.Tensor(y_val_mel))\n",
        "\n",
        "train_loader_mel = DataLoader(train_dataset_mel, batch_size=CONFIG.BATCH_SIZE, shuffle=True)\n",
        "val_loader_mel = DataLoader(val_dataset_mel, batch_size=CONFIG.BATCH_SIZE)\n",
        "\n",
        "criterion_mel = FocalLoss()\n",
        "optimizer_mel = optim.Adam(model_mel.parameters(), lr=CONFIG.LR)\n",
        "\n",
        "# Train Mel spectrogram model\n",
        "#model_mel, best_auc_mel = train_model(model_mel, train_loader_mel, val_loader_mel, criterion_mel, optimizer_mel)\n",
        "model_mel, best_hamming_loss = train_model(model_mel, train_loader_mel, val_loader_mel, criterion_mel, optimizer_mel)\n",
        "\n",
        "# Validation on full 5-second validation data for Mel model\n",
        "model_mel.eval()\n",
        "val_preds_mel = []\n",
        "val_labels_mel = []\n",
        "\n",
        "batch_size = CONFIG.BATCH_SIZE\n",
        "with torch.no_grad():\n",
        "    for i in range(0, len(x_val_mel), batch_size):\n",
        "        inputs = torch.Tensor(x_val_mel[i:i+batch_size]).to(device).unsqueeze(1)\n",
        "        outputs = model_mel(inputs)\n",
        "        #val_preds_mel.extend(outputs.cpu().numpy())\n",
        "        val_preds_mel.extend((outputs.cpu().numpy() > 0.5).astype(int))\n",
        "        val_labels_mel.extend(y_val_mel[i:i+batch_size])\n",
        "\n",
        "val_preds_mel = np.array(val_preds_mel)\n",
        "val_labels_mel = np.array(val_labels_mel)\n",
        "#auc_mel = roc_auc_score(val_labels_mel, val_preds_mel, average='weighted')\n",
        "hamming_loss_mel = hamming_loss(val_labels_mel, val_preds_mel)\n",
        "subset_accuracy_mel = accuracy_score(val_labels_mel, val_preds_mel, normalize=True, sample_weight=None)\n",
        "\n",
        "\n",
        "#print(f'mels_model_auc : {auc_mel:.4f}')\n",
        "print(f'mels_model_hamming_loss : {hamming_loss_mel:.4f}')\n",
        "print(f'mels_model_subset_accuracy : {subset_accuracy_mel:.4f}')\n",
        "\n",
        "# MFCC model\n",
        "model_mfcc = SimplifiedCNNMultiLabel()\n",
        "\n",
        "x_train_mfcc, x_val_mfcc = mfcc_data[train_index], mfcc_data[val_index]\n",
        "y_train_mfcc, y_val_mfcc = label_data[train_index], label_data[val_index]\n",
        "\n",
        "train_dataset_mfcc = TensorDataset(torch.Tensor(x_train_mfcc).unsqueeze(1), torch.Tensor(y_train_mfcc))\n",
        "val_dataset_mfcc = TensorDataset(torch.Tensor(x_val_mfcc).unsqueeze(1), torch.Tensor(y_val_mfcc))\n",
        "train_loader_mfcc = DataLoader(train_dataset_mfcc, batch_size=CONFIG.BATCH_SIZE, shuffle=True)\n",
        "val_loader_mfcc = DataLoader(val_dataset_mfcc, batch_size=CONFIG.BATCH_SIZE)\n",
        "\n",
        "optimizer_mfcc = optim.Adam(model_mfcc.parameters(), lr=CONFIG.LR)\n",
        "criterion_mfcc = FocalLoss()\n",
        "\n",
        "# Train MFCC model\n",
        "#model_mfcc, best_auc_mfcc = train_model(model_mfcc, train_loader_mfcc, val_loader_mfcc, criterion_mfcc, optimizer_mfcc)\n",
        "model_mfcc, best_hamming_loss = train_model(model_mfcc, train_loader_mfcc, val_loader_mfcc, criterion_mfcc, optimizer_mfcc)\n",
        "\n",
        "\n",
        "# Validation on full 5-second validation data for MFCC model\n",
        "model_mfcc.eval()\n",
        "val_preds_mfcc = []\n",
        "val_labels_mfcc = []\n",
        "\n",
        "batch_size = CONFIG.BATCH_SIZE\n",
        "with torch.no_grad():\n",
        "    for i in range(0, len(x_val_mfcc), batch_size):\n",
        "        inputs = torch.Tensor(x_val_mfcc[i:i+batch_size]).to(device).unsqueeze(1)\n",
        "        outputs = model_mfcc(inputs)\n",
        "        #val_preds_mfcc.extend(outputs.cpu().numpy())\n",
        "        val_preds_mfcc.extend((outputs.cpu().numpy() > 0.5).astype(int))\n",
        "        val_labels_mfcc.extend(y_val_mfcc[i:i+batch_size])\n",
        "\n",
        "val_preds_mfcc = np.array(val_preds_mfcc)\n",
        "val_labels_mfcc = np.array(val_labels_mfcc)\n",
        "#auc_mfcc = roc_auc_score(val_labels_mfcc, val_preds_mfcc, average='weighted')\n",
        "\n",
        "hamming_loss_mfcc = hamming_loss(val_labels_mfcc, val_preds_mfcc)\n",
        "subset_accuracy_mfcc = accuracy_score(val_labels_mfcc, val_preds_mfcc, normalize=True, sample_weight=None)\n",
        "\n",
        "#print(f'mfcc_model_auc : {auc_mfcc:.4f}')\n",
        "print(f'mfcc_model_hamming_loss : {hamming_loss_mfcc:.4f}')\n",
        "print(f'mfcc_model_subset_accuracy : {subset_accuracy_mfcc:.4f}')\n",
        "'''\n"
      ],
      "metadata": {
        "colab": {
          "base_uri": "https://localhost:8080/",
          "height": 0
        },
        "collapsed": true,
        "id": "J-LLNcA47Mmk",
        "outputId": "40a2d36a-4cce-450e-a2ad-30b96a84a3fe"
      },
      "id": "J-LLNcA47Mmk",
      "execution_count": 43,
      "outputs": [
        {
          "output_type": "stream",
          "name": "stderr",
          "text": [
            "Epoch 1/20: 100%|██████████| 572/572 [01:32<00:00,  6.20it/s]\n"
          ]
        },
        {
          "output_type": "stream",
          "name": "stdout",
          "text": [
            "Epoch 1/20, Train Loss: 0.0697, Val Hamming Loss: 0.1137, Val Subset Accuracy: 0.8010\n"
          ]
        },
        {
          "output_type": "stream",
          "name": "stderr",
          "text": [
            "Epoch 2/20: 100%|██████████| 572/572 [01:32<00:00,  6.20it/s]\n"
          ]
        },
        {
          "output_type": "stream",
          "name": "stdout",
          "text": [
            "Epoch 2/20, Train Loss: 0.0366, Val Hamming Loss: 0.2487, Val Subset Accuracy: 0.6608\n"
          ]
        },
        {
          "output_type": "stream",
          "name": "stderr",
          "text": [
            "Epoch 3/20: 100%|██████████| 572/572 [01:32<00:00,  6.19it/s]\n"
          ]
        },
        {
          "output_type": "stream",
          "name": "stdout",
          "text": [
            "Epoch 3/20, Train Loss: 0.0272, Val Hamming Loss: 0.0418, Val Subset Accuracy: 0.9278\n"
          ]
        },
        {
          "output_type": "stream",
          "name": "stderr",
          "text": [
            "Epoch 4/20: 100%|██████████| 572/572 [01:32<00:00,  6.19it/s]\n"
          ]
        },
        {
          "output_type": "stream",
          "name": "stdout",
          "text": [
            "Epoch 4/20, Train Loss: 0.0217, Val Hamming Loss: 0.0375, Val Subset Accuracy: 0.9329\n"
          ]
        },
        {
          "output_type": "stream",
          "name": "stderr",
          "text": [
            "Epoch 5/20: 100%|██████████| 572/572 [01:32<00:00,  6.18it/s]\n"
          ]
        },
        {
          "output_type": "stream",
          "name": "stdout",
          "text": [
            "Epoch 5/20, Train Loss: 0.0194, Val Hamming Loss: 0.0779, Val Subset Accuracy: 0.8650\n"
          ]
        },
        {
          "output_type": "stream",
          "name": "stderr",
          "text": [
            "Epoch 6/20: 100%|██████████| 572/572 [01:32<00:00,  6.19it/s]\n"
          ]
        },
        {
          "output_type": "stream",
          "name": "stdout",
          "text": [
            "Epoch 6/20, Train Loss: 0.0165, Val Hamming Loss: 0.1092, Val Subset Accuracy: 0.8148\n"
          ]
        },
        {
          "output_type": "stream",
          "name": "stderr",
          "text": [
            "Epoch 7/20: 100%|██████████| 572/572 [01:32<00:00,  6.19it/s]\n"
          ]
        },
        {
          "output_type": "stream",
          "name": "stdout",
          "text": [
            "Epoch 7/20, Train Loss: 0.0136, Val Hamming Loss: 0.2165, Val Subset Accuracy: 0.6999\n"
          ]
        },
        {
          "output_type": "stream",
          "name": "stderr",
          "text": [
            "Epoch 8/20: 100%|██████████| 572/572 [01:32<00:00,  6.19it/s]\n"
          ]
        },
        {
          "output_type": "stream",
          "name": "stdout",
          "text": [
            "Epoch 8/20, Train Loss: 0.0131, Val Hamming Loss: 0.1645, Val Subset Accuracy: 0.7413\n"
          ]
        },
        {
          "output_type": "stream",
          "name": "stderr",
          "text": [
            "Epoch 9/20: 100%|██████████| 572/572 [01:32<00:00,  6.18it/s]\n"
          ]
        },
        {
          "output_type": "stream",
          "name": "stdout",
          "text": [
            "Epoch 9/20, Train Loss: 0.0113, Val Hamming Loss: 0.0609, Val Subset Accuracy: 0.8925\n"
          ]
        },
        {
          "output_type": "stream",
          "name": "stderr",
          "text": [
            "Epoch 10/20: 100%|██████████| 572/572 [01:32<00:00,  6.18it/s]\n"
          ]
        },
        {
          "output_type": "stream",
          "name": "stdout",
          "text": [
            "Epoch 10/20, Train Loss: 0.0105, Val Hamming Loss: 0.0193, Val Subset Accuracy: 0.9652\n"
          ]
        },
        {
          "output_type": "stream",
          "name": "stderr",
          "text": [
            "Epoch 11/20: 100%|██████████| 572/572 [01:32<00:00,  6.19it/s]\n"
          ]
        },
        {
          "output_type": "stream",
          "name": "stdout",
          "text": [
            "Epoch 11/20, Train Loss: 0.0085, Val Hamming Loss: 0.0483, Val Subset Accuracy: 0.9157\n"
          ]
        },
        {
          "output_type": "stream",
          "name": "stderr",
          "text": [
            "Epoch 12/20: 100%|██████████| 572/572 [01:32<00:00,  6.19it/s]\n"
          ]
        },
        {
          "output_type": "stream",
          "name": "stdout",
          "text": [
            "Epoch 12/20, Train Loss: 0.0088, Val Hamming Loss: 0.0313, Val Subset Accuracy: 0.9463\n"
          ]
        },
        {
          "output_type": "stream",
          "name": "stderr",
          "text": [
            "Epoch 13/20: 100%|██████████| 572/572 [01:32<00:00,  6.18it/s]\n"
          ]
        },
        {
          "output_type": "stream",
          "name": "stdout",
          "text": [
            "Epoch 13/20, Train Loss: 0.0071, Val Hamming Loss: 0.0377, Val Subset Accuracy: 0.9350\n"
          ]
        },
        {
          "output_type": "stream",
          "name": "stderr",
          "text": [
            "Epoch 14/20: 100%|██████████| 572/572 [01:32<00:00,  6.19it/s]\n"
          ]
        },
        {
          "output_type": "stream",
          "name": "stdout",
          "text": [
            "Epoch 14/20, Train Loss: 0.0071, Val Hamming Loss: 0.0422, Val Subset Accuracy: 0.9277\n"
          ]
        },
        {
          "output_type": "stream",
          "name": "stderr",
          "text": [
            "Epoch 15/20: 100%|██████████| 572/572 [01:32<00:00,  6.19it/s]\n"
          ]
        },
        {
          "output_type": "stream",
          "name": "stdout",
          "text": [
            "Epoch 15/20, Train Loss: 0.0069, Val Hamming Loss: 0.0528, Val Subset Accuracy: 0.9103\n"
          ]
        },
        {
          "output_type": "stream",
          "name": "stderr",
          "text": [
            "Epoch 16/20: 100%|██████████| 572/572 [01:32<00:00,  6.18it/s]\n"
          ]
        },
        {
          "output_type": "stream",
          "name": "stdout",
          "text": [
            "Epoch 16/20, Train Loss: 0.0052, Val Hamming Loss: 0.0243, Val Subset Accuracy: 0.9579\n"
          ]
        },
        {
          "output_type": "stream",
          "name": "stderr",
          "text": [
            "Epoch 17/20: 100%|██████████| 572/572 [01:32<00:00,  6.19it/s]\n"
          ]
        },
        {
          "output_type": "stream",
          "name": "stdout",
          "text": [
            "Epoch 17/20, Train Loss: 0.0064, Val Hamming Loss: 0.0151, Val Subset Accuracy: 0.9719\n"
          ]
        },
        {
          "output_type": "stream",
          "name": "stderr",
          "text": [
            "Epoch 18/20: 100%|██████████| 572/572 [01:32<00:00,  6.19it/s]\n"
          ]
        },
        {
          "output_type": "stream",
          "name": "stdout",
          "text": [
            "Epoch 18/20, Train Loss: 0.0043, Val Hamming Loss: 0.0151, Val Subset Accuracy: 0.9726\n"
          ]
        },
        {
          "output_type": "stream",
          "name": "stderr",
          "text": [
            "Epoch 19/20: 100%|██████████| 572/572 [01:32<00:00,  6.19it/s]\n"
          ]
        },
        {
          "output_type": "stream",
          "name": "stdout",
          "text": [
            "Epoch 19/20, Train Loss: 0.0050, Val Hamming Loss: 0.0464, Val Subset Accuracy: 0.9213\n"
          ]
        },
        {
          "output_type": "stream",
          "name": "stderr",
          "text": [
            "Epoch 20/20: 100%|██████████| 572/572 [01:32<00:00,  6.19it/s]\n"
          ]
        },
        {
          "output_type": "stream",
          "name": "stdout",
          "text": [
            "Epoch 20/20, Train Loss: 0.0046, Val Hamming Loss: 0.1230, Val Subset Accuracy: 0.8165\n",
            "mels_model_hamming_loss : 0.1230\n",
            "mels_model_subset_accuracy : 0.8165\n"
          ]
        },
        {
          "output_type": "stream",
          "name": "stderr",
          "text": [
            "Epoch 1/20: 100%|██████████| 572/572 [01:32<00:00,  6.21it/s]\n"
          ]
        },
        {
          "output_type": "stream",
          "name": "stdout",
          "text": [
            "Epoch 1/20, Train Loss: 0.1051, Val Hamming Loss: 0.2161, Val Subset Accuracy: 0.6336\n"
          ]
        },
        {
          "output_type": "stream",
          "name": "stderr",
          "text": [
            "Epoch 2/20: 100%|██████████| 572/572 [01:32<00:00,  6.19it/s]\n"
          ]
        },
        {
          "output_type": "stream",
          "name": "stdout",
          "text": [
            "Epoch 2/20, Train Loss: 0.0594, Val Hamming Loss: 0.1437, Val Subset Accuracy: 0.7612\n"
          ]
        },
        {
          "output_type": "stream",
          "name": "stderr",
          "text": [
            "Epoch 3/20: 100%|██████████| 572/572 [01:32<00:00,  6.20it/s]\n"
          ]
        },
        {
          "output_type": "stream",
          "name": "stdout",
          "text": [
            "Epoch 3/20, Train Loss: 0.0462, Val Hamming Loss: 0.0795, Val Subset Accuracy: 0.8558\n"
          ]
        },
        {
          "output_type": "stream",
          "name": "stderr",
          "text": [
            "Epoch 4/20: 100%|██████████| 572/572 [01:32<00:00,  6.19it/s]\n"
          ]
        },
        {
          "output_type": "stream",
          "name": "stdout",
          "text": [
            "Epoch 4/20, Train Loss: 0.0366, Val Hamming Loss: 0.0562, Val Subset Accuracy: 0.9041\n"
          ]
        },
        {
          "output_type": "stream",
          "name": "stderr",
          "text": [
            "Epoch 5/20: 100%|██████████| 572/572 [01:32<00:00,  6.19it/s]\n"
          ]
        },
        {
          "output_type": "stream",
          "name": "stdout",
          "text": [
            "Epoch 5/20, Train Loss: 0.0309, Val Hamming Loss: 0.0734, Val Subset Accuracy: 0.8705\n"
          ]
        },
        {
          "output_type": "stream",
          "name": "stderr",
          "text": [
            "Epoch 6/20: 100%|██████████| 572/572 [01:32<00:00,  6.18it/s]\n"
          ]
        },
        {
          "output_type": "stream",
          "name": "stdout",
          "text": [
            "Epoch 6/20, Train Loss: 0.0269, Val Hamming Loss: 0.0708, Val Subset Accuracy: 0.8778\n"
          ]
        },
        {
          "output_type": "stream",
          "name": "stderr",
          "text": [
            "Epoch 7/20: 100%|██████████| 572/572 [01:32<00:00,  6.19it/s]\n"
          ]
        },
        {
          "output_type": "stream",
          "name": "stdout",
          "text": [
            "Epoch 7/20, Train Loss: 0.0228, Val Hamming Loss: 0.0943, Val Subset Accuracy: 0.8401\n"
          ]
        },
        {
          "output_type": "stream",
          "name": "stderr",
          "text": [
            "Epoch 8/20: 100%|██████████| 572/572 [01:32<00:00,  6.18it/s]\n"
          ]
        },
        {
          "output_type": "stream",
          "name": "stdout",
          "text": [
            "Epoch 8/20, Train Loss: 0.0208, Val Hamming Loss: 0.0683, Val Subset Accuracy: 0.8856\n"
          ]
        },
        {
          "output_type": "stream",
          "name": "stderr",
          "text": [
            "Epoch 9/20: 100%|██████████| 572/572 [01:32<00:00,  6.18it/s]\n"
          ]
        },
        {
          "output_type": "stream",
          "name": "stdout",
          "text": [
            "Epoch 9/20, Train Loss: 0.0179, Val Hamming Loss: 0.1417, Val Subset Accuracy: 0.7962\n"
          ]
        },
        {
          "output_type": "stream",
          "name": "stderr",
          "text": [
            "Epoch 10/20: 100%|██████████| 572/572 [01:32<00:00,  6.18it/s]\n"
          ]
        },
        {
          "output_type": "stream",
          "name": "stdout",
          "text": [
            "Epoch 10/20, Train Loss: 0.0162, Val Hamming Loss: 0.0818, Val Subset Accuracy: 0.8720\n"
          ]
        },
        {
          "output_type": "stream",
          "name": "stderr",
          "text": [
            "Epoch 11/20: 100%|██████████| 572/572 [01:32<00:00,  6.18it/s]\n"
          ]
        },
        {
          "output_type": "stream",
          "name": "stdout",
          "text": [
            "Epoch 11/20, Train Loss: 0.0154, Val Hamming Loss: 0.0391, Val Subset Accuracy: 0.9318\n"
          ]
        },
        {
          "output_type": "stream",
          "name": "stderr",
          "text": [
            "Epoch 12/20: 100%|██████████| 572/572 [01:32<00:00,  6.18it/s]\n"
          ]
        },
        {
          "output_type": "stream",
          "name": "stdout",
          "text": [
            "Epoch 12/20, Train Loss: 0.0133, Val Hamming Loss: 0.0502, Val Subset Accuracy: 0.9116\n"
          ]
        },
        {
          "output_type": "stream",
          "name": "stderr",
          "text": [
            "Epoch 13/20: 100%|██████████| 572/572 [01:32<00:00,  6.18it/s]\n"
          ]
        },
        {
          "output_type": "stream",
          "name": "stdout",
          "text": [
            "Epoch 13/20, Train Loss: 0.0116, Val Hamming Loss: 0.0281, Val Subset Accuracy: 0.9517\n"
          ]
        },
        {
          "output_type": "stream",
          "name": "stderr",
          "text": [
            "Epoch 14/20: 100%|██████████| 572/572 [01:32<00:00,  6.19it/s]\n"
          ]
        },
        {
          "output_type": "stream",
          "name": "stdout",
          "text": [
            "Epoch 14/20, Train Loss: 0.0115, Val Hamming Loss: 0.0338, Val Subset Accuracy: 0.9399\n"
          ]
        },
        {
          "output_type": "stream",
          "name": "stderr",
          "text": [
            "Epoch 15/20: 100%|██████████| 572/572 [01:32<00:00,  6.19it/s]\n"
          ]
        },
        {
          "output_type": "stream",
          "name": "stdout",
          "text": [
            "Epoch 15/20, Train Loss: 0.0099, Val Hamming Loss: 0.0494, Val Subset Accuracy: 0.9175\n"
          ]
        },
        {
          "output_type": "stream",
          "name": "stderr",
          "text": [
            "Epoch 16/20: 100%|██████████| 572/572 [01:32<00:00,  6.18it/s]\n"
          ]
        },
        {
          "output_type": "stream",
          "name": "stdout",
          "text": [
            "Epoch 16/20, Train Loss: 0.0097, Val Hamming Loss: 0.0519, Val Subset Accuracy: 0.9053\n"
          ]
        },
        {
          "output_type": "stream",
          "name": "stderr",
          "text": [
            "Epoch 17/20: 100%|██████████| 572/572 [01:32<00:00,  6.18it/s]\n"
          ]
        },
        {
          "output_type": "stream",
          "name": "stdout",
          "text": [
            "Epoch 17/20, Train Loss: 0.0090, Val Hamming Loss: 0.0512, Val Subset Accuracy: 0.9130\n"
          ]
        },
        {
          "output_type": "stream",
          "name": "stderr",
          "text": [
            "Epoch 18/20: 100%|██████████| 572/572 [01:32<00:00,  6.18it/s]\n"
          ]
        },
        {
          "output_type": "stream",
          "name": "stdout",
          "text": [
            "Epoch 18/20, Train Loss: 0.0079, Val Hamming Loss: 0.0370, Val Subset Accuracy: 0.9366\n"
          ]
        },
        {
          "output_type": "stream",
          "name": "stderr",
          "text": [
            "Epoch 19/20: 100%|██████████| 572/572 [01:32<00:00,  6.18it/s]\n"
          ]
        },
        {
          "output_type": "stream",
          "name": "stdout",
          "text": [
            "Epoch 19/20, Train Loss: 0.0074, Val Hamming Loss: 0.0342, Val Subset Accuracy: 0.9412\n"
          ]
        },
        {
          "output_type": "stream",
          "name": "stderr",
          "text": [
            "Epoch 20/20: 100%|██████████| 572/572 [01:32<00:00,  6.18it/s]\n"
          ]
        },
        {
          "output_type": "stream",
          "name": "stdout",
          "text": [
            "Epoch 20/20, Train Loss: 0.0067, Val Hamming Loss: 0.0298, Val Subset Accuracy: 0.9493\n",
            "mfcc_model_hamming_loss : 0.0298\n",
            "mfcc_model_subset_accuracy : 0.9493\n"
          ]
        },
        {
          "output_type": "error",
          "ename": "TypeError",
          "evalue": "unsupported operand type(s) for /: 'list' and 'float'",
          "traceback": [
            "\u001b[0;31m---------------------------------------------------------------------------\u001b[0m",
            "\u001b[0;31mTypeError\u001b[0m                                 Traceback (most recent call last)",
            "\u001b[0;32m<ipython-input-43-9465d9e8699f>\u001b[0m in \u001b[0;36m<cell line: 103>\u001b[0;34m()\u001b[0m\n\u001b[1;32m    101\u001b[0m \u001b[0;34m\u001b[0m\u001b[0m\n\u001b[1;32m    102\u001b[0m \u001b[0;31m# Perform final ensemble by averaging predictions\u001b[0m\u001b[0;34m\u001b[0m\u001b[0;34m\u001b[0m\u001b[0m\n\u001b[0;32m--> 103\u001b[0;31m \u001b[0mfinal_pred_mean\u001b[0m \u001b[0;34m=\u001b[0m \u001b[0;34m(\u001b[0m\u001b[0mpreds_test_mel\u001b[0m \u001b[0;34m+\u001b[0m \u001b[0mpreds_test_mfcc\u001b[0m\u001b[0;34m)\u001b[0m \u001b[0;34m/\u001b[0m \u001b[0;36m2.0\u001b[0m\u001b[0;34m\u001b[0m\u001b[0;34m\u001b[0m\u001b[0m\n\u001b[0m",
            "\u001b[0;31mTypeError\u001b[0m: unsupported operand type(s) for /: 'list' and 'float'"
          ]
        }
      ]
    },
    {
      "cell_type": "code",
      "source": [
        "#save model\n",
        "torch.save(model_mel.state_dict(), '/content/drive/MyDrive/DACON/chunk/aug_hamming_model_mel.pth')\n",
        "torch.save(model_mfcc.state_dict(), '/content/drive/MyDrive/DACON/chunk/aug_hamming_model_mfcc.pth')"
      ],
      "metadata": {
        "id": "0VePZ5pJKSG2"
      },
      "id": "0VePZ5pJKSG2",
      "execution_count": 20,
      "outputs": []
    },
    {
      "cell_type": "code",
      "source": [
        "final_pred_mean=pred_mean_mfcc\n",
        "final_pred_mean.shape"
      ],
      "metadata": {
        "colab": {
          "base_uri": "https://localhost:8080/"
        },
        "id": "Cviw8v5HVmy9",
        "outputId": "9214a35f-c2ed-4031-c85b-d3f67cc6bb7a"
      },
      "id": "Cviw8v5HVmy9",
      "execution_count": 18,
      "outputs": [
        {
          "output_type": "execute_result",
          "data": {
            "text/plain": [
              "(50000, 1, 2)"
            ]
          },
          "metadata": {},
          "execution_count": 18
        }
      ]
    },
    {
      "cell_type": "code",
      "source": [
        "final_pred_mean.shape\n",
        "final_pred_mean_reshaped = final_pred_mean.reshape(-1, 2)\n",
        "final_pred_mean_reshaped.shape"
      ],
      "metadata": {
        "colab": {
          "base_uri": "https://localhost:8080/"
        },
        "id": "r2DOeCWJTtHM",
        "outputId": "b3986a56-5c02-4faa-fea5-d3be7d0b930c"
      },
      "id": "r2DOeCWJTtHM",
      "execution_count": 19,
      "outputs": [
        {
          "output_type": "execute_result",
          "data": {
            "text/plain": [
              "(50000, 2)"
            ]
          },
          "metadata": {},
          "execution_count": 19
        }
      ]
    },
    {
      "cell_type": "code",
      "source": [
        "import pandas as pd\n",
        "%cd /content/drive/MyDrive/DACON\n",
        "submit = pd.read_csv('./sample_submission.csv')\n",
        "#submit=submit[:len(y_valid)]\n",
        "submit.head(3)\n",
        "submit.shape"
      ],
      "metadata": {
        "colab": {
          "base_uri": "https://localhost:8080/"
        },
        "id": "P9KchanYO9rh",
        "outputId": "b9bf454f-8429-453d-cb02-36194c2c3dc2"
      },
      "id": "P9KchanYO9rh",
      "execution_count": 20,
      "outputs": [
        {
          "output_type": "stream",
          "name": "stdout",
          "text": [
            "/content/drive/MyDrive/DACON\n"
          ]
        },
        {
          "output_type": "execute_result",
          "data": {
            "text/plain": [
              "(50000, 3)"
            ]
          },
          "metadata": {},
          "execution_count": 20
        }
      ]
    },
    {
      "cell_type": "code",
      "source": [
        "submit.iloc[:, 1:] = final_pred_mean_reshaped\n",
        "submit.head(40)"
      ],
      "metadata": {
        "colab": {
          "base_uri": "https://localhost:8080/",
          "height": 1000
        },
        "id": "1LFIl-yTPALl",
        "outputId": "1294a5ea-08c8-4ab7-b9f2-b31efbe2f246"
      },
      "id": "1LFIl-yTPALl",
      "execution_count": 21,
      "outputs": [
        {
          "output_type": "execute_result",
          "data": {
            "text/plain": [
              "            id      fake      real\n",
              "0   TEST_00000  0.162641  0.963796\n",
              "1   TEST_00001  0.074439  0.998003\n",
              "2   TEST_00002  0.030780  0.998389\n",
              "3   TEST_00003  0.554633  0.591195\n",
              "4   TEST_00004  0.048444  0.995757\n",
              "5   TEST_00005  0.046705  0.996913\n",
              "6   TEST_00006  0.020803  0.981736\n",
              "7   TEST_00007  0.496284  0.999884\n",
              "8   TEST_00008  0.172032  0.993409\n",
              "9   TEST_00009  0.020652  0.992928\n",
              "10  TEST_00010  0.203429  0.922515\n",
              "11  TEST_00011  0.209412  0.794876\n",
              "12  TEST_00012  0.086385  0.978429\n",
              "13  TEST_00013  0.262187  0.906606\n",
              "14  TEST_00014  0.180806  0.907324\n",
              "15  TEST_00015  0.150833  0.997833\n",
              "16  TEST_00016  0.111255  0.999720\n",
              "17  TEST_00017  0.170303  0.825137\n",
              "18  TEST_00018  0.015696  0.998492\n",
              "19  TEST_00019  0.222146  0.975187\n",
              "20  TEST_00020  0.041776  0.999646\n",
              "21  TEST_00021  0.073013  0.987393\n",
              "22  TEST_00022  0.326439  0.652022\n",
              "23  TEST_00023  0.065688  0.978577\n",
              "24  TEST_00024  0.196523  0.994945\n",
              "25  TEST_00025  0.120435  0.904923\n",
              "26  TEST_00026  0.058525  0.997470\n",
              "27  TEST_00027  0.033535  0.985453\n",
              "28  TEST_00028  0.465241  0.578836\n",
              "29  TEST_00029  0.072705  0.954025\n",
              "30  TEST_00030  0.219179  0.997678\n",
              "31  TEST_00031  0.003719  0.999972\n",
              "32  TEST_00032  0.000057  1.000000\n",
              "33  TEST_00033  0.012917  0.999615\n",
              "34  TEST_00034  0.084417  0.995156\n",
              "35  TEST_00035  0.113977  0.968340\n",
              "36  TEST_00036  0.090610  0.929315\n",
              "37  TEST_00037  0.128224  0.912550\n",
              "38  TEST_00038  0.224013  0.944523\n",
              "39  TEST_00039  0.098364  0.977188"
            ],
            "text/html": [
              "\n",
              "  <div id=\"df-19cc9eaf-4d40-4567-b8e1-409a3aef7b24\" class=\"colab-df-container\">\n",
              "    <div>\n",
              "<style scoped>\n",
              "    .dataframe tbody tr th:only-of-type {\n",
              "        vertical-align: middle;\n",
              "    }\n",
              "\n",
              "    .dataframe tbody tr th {\n",
              "        vertical-align: top;\n",
              "    }\n",
              "\n",
              "    .dataframe thead th {\n",
              "        text-align: right;\n",
              "    }\n",
              "</style>\n",
              "<table border=\"1\" class=\"dataframe\">\n",
              "  <thead>\n",
              "    <tr style=\"text-align: right;\">\n",
              "      <th></th>\n",
              "      <th>id</th>\n",
              "      <th>fake</th>\n",
              "      <th>real</th>\n",
              "    </tr>\n",
              "  </thead>\n",
              "  <tbody>\n",
              "    <tr>\n",
              "      <th>0</th>\n",
              "      <td>TEST_00000</td>\n",
              "      <td>0.162641</td>\n",
              "      <td>0.963796</td>\n",
              "    </tr>\n",
              "    <tr>\n",
              "      <th>1</th>\n",
              "      <td>TEST_00001</td>\n",
              "      <td>0.074439</td>\n",
              "      <td>0.998003</td>\n",
              "    </tr>\n",
              "    <tr>\n",
              "      <th>2</th>\n",
              "      <td>TEST_00002</td>\n",
              "      <td>0.030780</td>\n",
              "      <td>0.998389</td>\n",
              "    </tr>\n",
              "    <tr>\n",
              "      <th>3</th>\n",
              "      <td>TEST_00003</td>\n",
              "      <td>0.554633</td>\n",
              "      <td>0.591195</td>\n",
              "    </tr>\n",
              "    <tr>\n",
              "      <th>4</th>\n",
              "      <td>TEST_00004</td>\n",
              "      <td>0.048444</td>\n",
              "      <td>0.995757</td>\n",
              "    </tr>\n",
              "    <tr>\n",
              "      <th>5</th>\n",
              "      <td>TEST_00005</td>\n",
              "      <td>0.046705</td>\n",
              "      <td>0.996913</td>\n",
              "    </tr>\n",
              "    <tr>\n",
              "      <th>6</th>\n",
              "      <td>TEST_00006</td>\n",
              "      <td>0.020803</td>\n",
              "      <td>0.981736</td>\n",
              "    </tr>\n",
              "    <tr>\n",
              "      <th>7</th>\n",
              "      <td>TEST_00007</td>\n",
              "      <td>0.496284</td>\n",
              "      <td>0.999884</td>\n",
              "    </tr>\n",
              "    <tr>\n",
              "      <th>8</th>\n",
              "      <td>TEST_00008</td>\n",
              "      <td>0.172032</td>\n",
              "      <td>0.993409</td>\n",
              "    </tr>\n",
              "    <tr>\n",
              "      <th>9</th>\n",
              "      <td>TEST_00009</td>\n",
              "      <td>0.020652</td>\n",
              "      <td>0.992928</td>\n",
              "    </tr>\n",
              "    <tr>\n",
              "      <th>10</th>\n",
              "      <td>TEST_00010</td>\n",
              "      <td>0.203429</td>\n",
              "      <td>0.922515</td>\n",
              "    </tr>\n",
              "    <tr>\n",
              "      <th>11</th>\n",
              "      <td>TEST_00011</td>\n",
              "      <td>0.209412</td>\n",
              "      <td>0.794876</td>\n",
              "    </tr>\n",
              "    <tr>\n",
              "      <th>12</th>\n",
              "      <td>TEST_00012</td>\n",
              "      <td>0.086385</td>\n",
              "      <td>0.978429</td>\n",
              "    </tr>\n",
              "    <tr>\n",
              "      <th>13</th>\n",
              "      <td>TEST_00013</td>\n",
              "      <td>0.262187</td>\n",
              "      <td>0.906606</td>\n",
              "    </tr>\n",
              "    <tr>\n",
              "      <th>14</th>\n",
              "      <td>TEST_00014</td>\n",
              "      <td>0.180806</td>\n",
              "      <td>0.907324</td>\n",
              "    </tr>\n",
              "    <tr>\n",
              "      <th>15</th>\n",
              "      <td>TEST_00015</td>\n",
              "      <td>0.150833</td>\n",
              "      <td>0.997833</td>\n",
              "    </tr>\n",
              "    <tr>\n",
              "      <th>16</th>\n",
              "      <td>TEST_00016</td>\n",
              "      <td>0.111255</td>\n",
              "      <td>0.999720</td>\n",
              "    </tr>\n",
              "    <tr>\n",
              "      <th>17</th>\n",
              "      <td>TEST_00017</td>\n",
              "      <td>0.170303</td>\n",
              "      <td>0.825137</td>\n",
              "    </tr>\n",
              "    <tr>\n",
              "      <th>18</th>\n",
              "      <td>TEST_00018</td>\n",
              "      <td>0.015696</td>\n",
              "      <td>0.998492</td>\n",
              "    </tr>\n",
              "    <tr>\n",
              "      <th>19</th>\n",
              "      <td>TEST_00019</td>\n",
              "      <td>0.222146</td>\n",
              "      <td>0.975187</td>\n",
              "    </tr>\n",
              "    <tr>\n",
              "      <th>20</th>\n",
              "      <td>TEST_00020</td>\n",
              "      <td>0.041776</td>\n",
              "      <td>0.999646</td>\n",
              "    </tr>\n",
              "    <tr>\n",
              "      <th>21</th>\n",
              "      <td>TEST_00021</td>\n",
              "      <td>0.073013</td>\n",
              "      <td>0.987393</td>\n",
              "    </tr>\n",
              "    <tr>\n",
              "      <th>22</th>\n",
              "      <td>TEST_00022</td>\n",
              "      <td>0.326439</td>\n",
              "      <td>0.652022</td>\n",
              "    </tr>\n",
              "    <tr>\n",
              "      <th>23</th>\n",
              "      <td>TEST_00023</td>\n",
              "      <td>0.065688</td>\n",
              "      <td>0.978577</td>\n",
              "    </tr>\n",
              "    <tr>\n",
              "      <th>24</th>\n",
              "      <td>TEST_00024</td>\n",
              "      <td>0.196523</td>\n",
              "      <td>0.994945</td>\n",
              "    </tr>\n",
              "    <tr>\n",
              "      <th>25</th>\n",
              "      <td>TEST_00025</td>\n",
              "      <td>0.120435</td>\n",
              "      <td>0.904923</td>\n",
              "    </tr>\n",
              "    <tr>\n",
              "      <th>26</th>\n",
              "      <td>TEST_00026</td>\n",
              "      <td>0.058525</td>\n",
              "      <td>0.997470</td>\n",
              "    </tr>\n",
              "    <tr>\n",
              "      <th>27</th>\n",
              "      <td>TEST_00027</td>\n",
              "      <td>0.033535</td>\n",
              "      <td>0.985453</td>\n",
              "    </tr>\n",
              "    <tr>\n",
              "      <th>28</th>\n",
              "      <td>TEST_00028</td>\n",
              "      <td>0.465241</td>\n",
              "      <td>0.578836</td>\n",
              "    </tr>\n",
              "    <tr>\n",
              "      <th>29</th>\n",
              "      <td>TEST_00029</td>\n",
              "      <td>0.072705</td>\n",
              "      <td>0.954025</td>\n",
              "    </tr>\n",
              "    <tr>\n",
              "      <th>30</th>\n",
              "      <td>TEST_00030</td>\n",
              "      <td>0.219179</td>\n",
              "      <td>0.997678</td>\n",
              "    </tr>\n",
              "    <tr>\n",
              "      <th>31</th>\n",
              "      <td>TEST_00031</td>\n",
              "      <td>0.003719</td>\n",
              "      <td>0.999972</td>\n",
              "    </tr>\n",
              "    <tr>\n",
              "      <th>32</th>\n",
              "      <td>TEST_00032</td>\n",
              "      <td>0.000057</td>\n",
              "      <td>1.000000</td>\n",
              "    </tr>\n",
              "    <tr>\n",
              "      <th>33</th>\n",
              "      <td>TEST_00033</td>\n",
              "      <td>0.012917</td>\n",
              "      <td>0.999615</td>\n",
              "    </tr>\n",
              "    <tr>\n",
              "      <th>34</th>\n",
              "      <td>TEST_00034</td>\n",
              "      <td>0.084417</td>\n",
              "      <td>0.995156</td>\n",
              "    </tr>\n",
              "    <tr>\n",
              "      <th>35</th>\n",
              "      <td>TEST_00035</td>\n",
              "      <td>0.113977</td>\n",
              "      <td>0.968340</td>\n",
              "    </tr>\n",
              "    <tr>\n",
              "      <th>36</th>\n",
              "      <td>TEST_00036</td>\n",
              "      <td>0.090610</td>\n",
              "      <td>0.929315</td>\n",
              "    </tr>\n",
              "    <tr>\n",
              "      <th>37</th>\n",
              "      <td>TEST_00037</td>\n",
              "      <td>0.128224</td>\n",
              "      <td>0.912550</td>\n",
              "    </tr>\n",
              "    <tr>\n",
              "      <th>38</th>\n",
              "      <td>TEST_00038</td>\n",
              "      <td>0.224013</td>\n",
              "      <td>0.944523</td>\n",
              "    </tr>\n",
              "    <tr>\n",
              "      <th>39</th>\n",
              "      <td>TEST_00039</td>\n",
              "      <td>0.098364</td>\n",
              "      <td>0.977188</td>\n",
              "    </tr>\n",
              "  </tbody>\n",
              "</table>\n",
              "</div>\n",
              "    <div class=\"colab-df-buttons\">\n",
              "\n",
              "  <div class=\"colab-df-container\">\n",
              "    <button class=\"colab-df-convert\" onclick=\"convertToInteractive('df-19cc9eaf-4d40-4567-b8e1-409a3aef7b24')\"\n",
              "            title=\"Convert this dataframe to an interactive table.\"\n",
              "            style=\"display:none;\">\n",
              "\n",
              "  <svg xmlns=\"http://www.w3.org/2000/svg\" height=\"24px\" viewBox=\"0 -960 960 960\">\n",
              "    <path d=\"M120-120v-720h720v720H120Zm60-500h600v-160H180v160Zm220 220h160v-160H400v160Zm0 220h160v-160H400v160ZM180-400h160v-160H180v160Zm440 0h160v-160H620v160ZM180-180h160v-160H180v160Zm440 0h160v-160H620v160Z\"/>\n",
              "  </svg>\n",
              "    </button>\n",
              "\n",
              "  <style>\n",
              "    .colab-df-container {\n",
              "      display:flex;\n",
              "      gap: 12px;\n",
              "    }\n",
              "\n",
              "    .colab-df-convert {\n",
              "      background-color: #E8F0FE;\n",
              "      border: none;\n",
              "      border-radius: 50%;\n",
              "      cursor: pointer;\n",
              "      display: none;\n",
              "      fill: #1967D2;\n",
              "      height: 32px;\n",
              "      padding: 0 0 0 0;\n",
              "      width: 32px;\n",
              "    }\n",
              "\n",
              "    .colab-df-convert:hover {\n",
              "      background-color: #E2EBFA;\n",
              "      box-shadow: 0px 1px 2px rgba(60, 64, 67, 0.3), 0px 1px 3px 1px rgba(60, 64, 67, 0.15);\n",
              "      fill: #174EA6;\n",
              "    }\n",
              "\n",
              "    .colab-df-buttons div {\n",
              "      margin-bottom: 4px;\n",
              "    }\n",
              "\n",
              "    [theme=dark] .colab-df-convert {\n",
              "      background-color: #3B4455;\n",
              "      fill: #D2E3FC;\n",
              "    }\n",
              "\n",
              "    [theme=dark] .colab-df-convert:hover {\n",
              "      background-color: #434B5C;\n",
              "      box-shadow: 0px 1px 3px 1px rgba(0, 0, 0, 0.15);\n",
              "      filter: drop-shadow(0px 1px 2px rgba(0, 0, 0, 0.3));\n",
              "      fill: #FFFFFF;\n",
              "    }\n",
              "  </style>\n",
              "\n",
              "    <script>\n",
              "      const buttonEl =\n",
              "        document.querySelector('#df-19cc9eaf-4d40-4567-b8e1-409a3aef7b24 button.colab-df-convert');\n",
              "      buttonEl.style.display =\n",
              "        google.colab.kernel.accessAllowed ? 'block' : 'none';\n",
              "\n",
              "      async function convertToInteractive(key) {\n",
              "        const element = document.querySelector('#df-19cc9eaf-4d40-4567-b8e1-409a3aef7b24');\n",
              "        const dataTable =\n",
              "          await google.colab.kernel.invokeFunction('convertToInteractive',\n",
              "                                                    [key], {});\n",
              "        if (!dataTable) return;\n",
              "\n",
              "        const docLinkHtml = 'Like what you see? Visit the ' +\n",
              "          '<a target=\"_blank\" href=https://colab.research.google.com/notebooks/data_table.ipynb>data table notebook</a>'\n",
              "          + ' to learn more about interactive tables.';\n",
              "        element.innerHTML = '';\n",
              "        dataTable['output_type'] = 'display_data';\n",
              "        await google.colab.output.renderOutput(dataTable, element);\n",
              "        const docLink = document.createElement('div');\n",
              "        docLink.innerHTML = docLinkHtml;\n",
              "        element.appendChild(docLink);\n",
              "      }\n",
              "    </script>\n",
              "  </div>\n",
              "\n",
              "\n",
              "<div id=\"df-c93d66ee-5ff4-44e6-bf14-ba395a9fa0b2\">\n",
              "  <button class=\"colab-df-quickchart\" onclick=\"quickchart('df-c93d66ee-5ff4-44e6-bf14-ba395a9fa0b2')\"\n",
              "            title=\"Suggest charts\"\n",
              "            style=\"display:none;\">\n",
              "\n",
              "<svg xmlns=\"http://www.w3.org/2000/svg\" height=\"24px\"viewBox=\"0 0 24 24\"\n",
              "     width=\"24px\">\n",
              "    <g>\n",
              "        <path d=\"M19 3H5c-1.1 0-2 .9-2 2v14c0 1.1.9 2 2 2h14c1.1 0 2-.9 2-2V5c0-1.1-.9-2-2-2zM9 17H7v-7h2v7zm4 0h-2V7h2v10zm4 0h-2v-4h2v4z\"/>\n",
              "    </g>\n",
              "</svg>\n",
              "  </button>\n",
              "\n",
              "<style>\n",
              "  .colab-df-quickchart {\n",
              "      --bg-color: #E8F0FE;\n",
              "      --fill-color: #1967D2;\n",
              "      --hover-bg-color: #E2EBFA;\n",
              "      --hover-fill-color: #174EA6;\n",
              "      --disabled-fill-color: #AAA;\n",
              "      --disabled-bg-color: #DDD;\n",
              "  }\n",
              "\n",
              "  [theme=dark] .colab-df-quickchart {\n",
              "      --bg-color: #3B4455;\n",
              "      --fill-color: #D2E3FC;\n",
              "      --hover-bg-color: #434B5C;\n",
              "      --hover-fill-color: #FFFFFF;\n",
              "      --disabled-bg-color: #3B4455;\n",
              "      --disabled-fill-color: #666;\n",
              "  }\n",
              "\n",
              "  .colab-df-quickchart {\n",
              "    background-color: var(--bg-color);\n",
              "    border: none;\n",
              "    border-radius: 50%;\n",
              "    cursor: pointer;\n",
              "    display: none;\n",
              "    fill: var(--fill-color);\n",
              "    height: 32px;\n",
              "    padding: 0;\n",
              "    width: 32px;\n",
              "  }\n",
              "\n",
              "  .colab-df-quickchart:hover {\n",
              "    background-color: var(--hover-bg-color);\n",
              "    box-shadow: 0 1px 2px rgba(60, 64, 67, 0.3), 0 1px 3px 1px rgba(60, 64, 67, 0.15);\n",
              "    fill: var(--button-hover-fill-color);\n",
              "  }\n",
              "\n",
              "  .colab-df-quickchart-complete:disabled,\n",
              "  .colab-df-quickchart-complete:disabled:hover {\n",
              "    background-color: var(--disabled-bg-color);\n",
              "    fill: var(--disabled-fill-color);\n",
              "    box-shadow: none;\n",
              "  }\n",
              "\n",
              "  .colab-df-spinner {\n",
              "    border: 2px solid var(--fill-color);\n",
              "    border-color: transparent;\n",
              "    border-bottom-color: var(--fill-color);\n",
              "    animation:\n",
              "      spin 1s steps(1) infinite;\n",
              "  }\n",
              "\n",
              "  @keyframes spin {\n",
              "    0% {\n",
              "      border-color: transparent;\n",
              "      border-bottom-color: var(--fill-color);\n",
              "      border-left-color: var(--fill-color);\n",
              "    }\n",
              "    20% {\n",
              "      border-color: transparent;\n",
              "      border-left-color: var(--fill-color);\n",
              "      border-top-color: var(--fill-color);\n",
              "    }\n",
              "    30% {\n",
              "      border-color: transparent;\n",
              "      border-left-color: var(--fill-color);\n",
              "      border-top-color: var(--fill-color);\n",
              "      border-right-color: var(--fill-color);\n",
              "    }\n",
              "    40% {\n",
              "      border-color: transparent;\n",
              "      border-right-color: var(--fill-color);\n",
              "      border-top-color: var(--fill-color);\n",
              "    }\n",
              "    60% {\n",
              "      border-color: transparent;\n",
              "      border-right-color: var(--fill-color);\n",
              "    }\n",
              "    80% {\n",
              "      border-color: transparent;\n",
              "      border-right-color: var(--fill-color);\n",
              "      border-bottom-color: var(--fill-color);\n",
              "    }\n",
              "    90% {\n",
              "      border-color: transparent;\n",
              "      border-bottom-color: var(--fill-color);\n",
              "    }\n",
              "  }\n",
              "</style>\n",
              "\n",
              "  <script>\n",
              "    async function quickchart(key) {\n",
              "      const quickchartButtonEl =\n",
              "        document.querySelector('#' + key + ' button');\n",
              "      quickchartButtonEl.disabled = true;  // To prevent multiple clicks.\n",
              "      quickchartButtonEl.classList.add('colab-df-spinner');\n",
              "      try {\n",
              "        const charts = await google.colab.kernel.invokeFunction(\n",
              "            'suggestCharts', [key], {});\n",
              "      } catch (error) {\n",
              "        console.error('Error during call to suggestCharts:', error);\n",
              "      }\n",
              "      quickchartButtonEl.classList.remove('colab-df-spinner');\n",
              "      quickchartButtonEl.classList.add('colab-df-quickchart-complete');\n",
              "    }\n",
              "    (() => {\n",
              "      let quickchartButtonEl =\n",
              "        document.querySelector('#df-c93d66ee-5ff4-44e6-bf14-ba395a9fa0b2 button');\n",
              "      quickchartButtonEl.style.display =\n",
              "        google.colab.kernel.accessAllowed ? 'block' : 'none';\n",
              "    })();\n",
              "  </script>\n",
              "</div>\n",
              "\n",
              "    </div>\n",
              "  </div>\n"
            ],
            "application/vnd.google.colaboratory.intrinsic+json": {
              "type": "dataframe",
              "variable_name": "submit",
              "summary": "{\n  \"name\": \"submit\",\n  \"rows\": 50000,\n  \"fields\": [\n    {\n      \"column\": \"id\",\n      \"properties\": {\n        \"dtype\": \"string\",\n        \"num_unique_values\": 50000,\n        \"samples\": [\n          \"TEST_33553\",\n          \"TEST_09427\",\n          \"TEST_00199\"\n        ],\n        \"semantic_type\": \"\",\n        \"description\": \"\"\n      }\n    },\n    {\n      \"column\": \"fake\",\n      \"properties\": {\n        \"dtype\": \"float32\",\n        \"num_unique_values\": 49852,\n        \"samples\": [\n          0.1456352174282074,\n          0.012299071997404099,\n          0.4558681845664978\n        ],\n        \"semantic_type\": \"\",\n        \"description\": \"\"\n      }\n    },\n    {\n      \"column\": \"real\",\n      \"properties\": {\n        \"dtype\": \"float32\",\n        \"num_unique_values\": 46538,\n        \"samples\": [\n          0.9514036178588867,\n          0.822300910949707,\n          0.9751132130622864\n        ],\n        \"semantic_type\": \"\",\n        \"description\": \"\"\n      }\n    }\n  ]\n}"
            }
          },
          "metadata": {},
          "execution_count": 21
        }
      ]
    },
    {
      "cell_type": "code",
      "source": [
        "import numpy as np\n",
        "import pandas as pd\n",
        "import matplotlib.pyplot as plt\n",
        "\n",
        "# preds가 리스트인 경우 numpy 배열로 변환\n",
        "preds = np.array(final_pred_mean_reshaped)\n",
        "\n",
        "# 예측값의 통계 정보 확인\n",
        "print(\"Preds statistics:\")\n",
        "print(pd.DataFrame(preds).describe())\n",
        "\n",
        "# NaN 값 확인\n",
        "nan_mask = np.isnan(preds)\n",
        "print(\"Number of NaN values:\", np.sum(nan_mask))\n",
        "\n",
        "# NaN 값을 0으로 대체 (또는 다른 적절한 값으로 대체 가능)\n",
        "preds = np.nan_to_num(preds)\n",
        "\n",
        "# 히스토그램으로 분포 시각화\n",
        "plt.figure(figsize=(12, 6))\n",
        "\n",
        "# Real 레이블의 분포\n",
        "plt.subplot(1, 2, 1)\n",
        "plt.hist(preds[:, 1], bins=50, alpha=0.75, color='blue', label='Real')\n",
        "plt.title('Distribution of Real Predictions')\n",
        "plt.xlabel('Probability')\n",
        "plt.ylabel('Frequency')\n",
        "plt.legend()\n",
        "\n",
        "# Fake 레이블의 분포\n",
        "plt.subplot(1, 2, 2)\n",
        "plt.hist(preds[:, 0], bins=50, alpha=0.75, color='red', label='Fake')\n",
        "plt.title('Distribution of Fake Predictions')\n",
        "plt.xlabel('Probability')\n",
        "plt.ylabel('Frequency')\n",
        "plt.legend()\n",
        "\n",
        "plt.tight_layout()\n",
        "plt.show()\n",
        "\n",
        "\n",
        "# 가짜 음성을 분류하지 못하는지 확인\n",
        "fake_preds = preds[:, 0]\n",
        "real_preds = preds[:, 1]\n",
        "\n",
        "# Fake 레이블에 대한 기본 통계 확인\n",
        "print(\"\\nFake label predictions:\")\n",
        "print(f\"Min: {fake_preds.min()}\")\n",
        "print(f\"Max: {fake_preds.max()}\")\n",
        "print(f\"Mean: {fake_preds.mean()}\")\n",
        "print(f\"Median: {np.median(fake_preds)}\")\n",
        "\n",
        "# Real 레이블에 대한 기본 통계 확인\n",
        "print(\"\\nReal label predictions:\")\n",
        "print(f\"Min: {real_preds.min()}\")\n",
        "print(f\"Max: {real_preds.max()}\")\n",
        "print(f\"Mean: {real_preds.mean()}\")\n",
        "print(f\"Median: {np.median(real_preds)}\")\n"
      ],
      "metadata": {
        "colab": {
          "base_uri": "https://localhost:8080/",
          "height": 1000
        },
        "id": "G_kNX9yKPCwu",
        "outputId": "4cefd501-676f-4ce6-8fe1-6c2e18f861bb"
      },
      "id": "G_kNX9yKPCwu",
      "execution_count": 22,
      "outputs": [
        {
          "output_type": "stream",
          "name": "stdout",
          "text": [
            "Preds statistics:\n",
            "                  0             1\n",
            "count  50000.000000  50000.000000\n",
            "mean       0.156864      0.916435\n",
            "std        0.169187      0.150539\n",
            "min        0.000018      0.024233\n",
            "25%        0.037104      0.917108\n",
            "50%        0.096680      0.979385\n",
            "75%        0.212888      0.995685\n",
            "max        0.989870      1.000000\n",
            "Number of NaN values: 0\n"
          ]
        },
        {
          "output_type": "display_data",
          "data": {
            "text/plain": [
              "<Figure size 1200x600 with 2 Axes>"
            ],
            "image/png": "[encoded data removed]"
          },
          "metadata": {}
        },
        {
          "output_type": "stream",
          "name": "stdout",
          "text": [
            "\n",
            "Fake label predictions:\n",
            "Min: 1.758557846187614e-05\n",
            "Max: 0.9898697733879089\n",
            "Mean: 0.15686435997486115\n",
            "Median: 0.09668020904064178\n",
            "\n",
            "Real label predictions:\n",
            "Min: 0.02423272654414177\n",
            "Max: 1.0\n",
            "Mean: 0.9164348244667053\n",
            "Median: 0.9793847799301147\n"
          ]
        }
      ]
    },
    {
      "cell_type": "code",
      "source": [
        "submit.iloc[:, 1:] = preds\n",
        "submit.to_csv('0717_mels_mfcc_hamming_resCNN_5folds.csv', index=False)"
      ],
      "metadata": {
        "id": "oXz41IjhPDb7"
      },
      "id": "oXz41IjhPDb7",
      "execution_count": 23,
      "outputs": []
    },
    {
      "cell_type": "code",
      "source": [
        "!pip install torchinfo"
      ],
      "metadata": {
        "colab": {
          "base_uri": "https://localhost:8080/"
        },
        "id": "mpRjG2IUPFon",
        "outputId": "15b4b145-5fa0-4da9-fb66-772dbb085061"
      },
      "id": "mpRjG2IUPFon",
      "execution_count": 22,
      "outputs": [
        {
          "output_type": "stream",
          "name": "stdout",
          "text": [
            "Collecting torchinfo\n",
            "  Downloading torchinfo-1.8.0-py3-none-any.whl (23 kB)\n",
            "Installing collected packages: torchinfo\n",
            "Successfully installed torchinfo-1.8.0\n"
          ]
        }
      ]
    }
  ],
  "metadata": {
    "kaggle": {
      "accelerator": "gpu",
      "dataSources": [
        {
          "databundleVersionId": 8068726,
          "sourceId": 70203,
          "sourceType": "competition"
        },
        {
          "datasetId": 4732842,
          "sourceId": 8066583,
          "sourceType": "datasetVersion"
        }
      ],
      "dockerImageVersionId": 30674,
      "isGpuEnabled": true,
      "isInternetEnabled": true,
      "language": "python",
      "sourceType": "notebook"
    },
    "kernelspec": {
      "display_name": "Python 3",
      "name": "python3"
    },
    "language_info": {
      "codemirror_mode": {
        "name": "ipython",
        "version": 3
      },
      "file_extension": ".py",
      "mimetype": "text/x-python",
      "name": "python",
      "nbconvert_exporter": "python",
      "pygments_lexer": "ipython3",
      "version": "3.8.19"
    },
    "papermill": {
      "default_parameters": {},
      "duration": 1830.928153,
      "end_time": "2024-04-08T19:22:15.265404",
      "environment_variables": {},
      "exception": null,
      "input_path": "__notebook__.ipynb",
      "output_path": "__notebook__.ipynb",
      "parameters": {},
      "start_time": "2024-04-08T18:51:44.337251",
      "version": "2.5.0"
    },
    "colab": {
      "provenance": [],
      "machine_shape": "hm",
      "gpuType": "L4",
      "include_colab_link": true
    },
    "accelerator": "GPU"
  },
  "nbformat": 4,
  "nbformat_minor": 5
}