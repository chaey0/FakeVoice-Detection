{
  "cells": [
    {
      "cell_type": "markdown",
      "metadata": {
        "id": "view-in-github",
        "colab_type": "text"
      },
      "source": [
        "<a href=\"https://colab.research.google.com/github/chaey0/FakeVoice-Detection/blob/main/mfcc_cnn.ipynb\" target=\"_parent\"><img src=\"https://colab.research.google.com/assets/colab-badge.svg\" alt=\"Open In Colab\"/></a>"
      ]
    },
    {
      "cell_type": "markdown",
      "id": "361d73a1",
      "metadata": {
        "papermill": {
          "duration": 0.007011,
          "end_time": "2024-04-08T18:51:47.130888",
          "exception": false,
          "start_time": "2024-04-08T18:51:47.123877",
          "status": "completed"
        },
        "tags": [],
        "id": "361d73a1"
      },
      "source": [
        "# Imports"
      ]
    },
    {
      "cell_type": "code",
      "source": [
        "from google.colab import drive\n",
        "drive.mount('/content/drive')"
      ],
      "metadata": {
        "colab": {
          "base_uri": "https://localhost:8080/"
        },
        "id": "KmXtRnWN3bS0",
        "outputId": "24a0877d-b2ed-47df-ce7d-18fc0910113f"
      },
      "id": "KmXtRnWN3bS0",
      "execution_count": 1,
      "outputs": [
        {
          "output_type": "stream",
          "name": "stdout",
          "text": [
            "Mounted at /content/drive\n"
          ]
        }
      ]
    },
    {
      "cell_type": "code",
      "source": [
        "import zipfile\n",
        "\n",
        "# 파일 경로 입력\n",
        "zip_file_name = '/content/drive/MyDrive/DACON/open.zip'\n",
        "\n",
        "# 압축 해제할 경로 입력\n",
        "extraction_dir = '/content/dataset'\n",
        "\n",
        "# 압축 해제\n",
        "with zipfile.ZipFile(zip_file_name, 'r') as zip_ref:\n",
        "    zip_ref.extractall(extraction_dir)"
      ],
      "metadata": {
        "id": "q5qdeE9f3cML"
      },
      "id": "q5qdeE9f3cML",
      "execution_count": 3,
      "outputs": []
    },
    {
      "cell_type": "code",
      "source": [
        "cd /content/dataset"
      ],
      "metadata": {
        "colab": {
          "base_uri": "https://localhost:8080/"
        },
        "id": "_sJHQhYn3gCb",
        "outputId": "7eeb079d-b3b8-4e15-a2a8-b1efa9aa68e9"
      },
      "id": "_sJHQhYn3gCb",
      "execution_count": 4,
      "outputs": [
        {
          "output_type": "stream",
          "name": "stdout",
          "text": [
            "/content/dataset\n"
          ]
        }
      ]
    },
    {
      "cell_type": "code",
      "execution_count": 2,
      "id": "bbadbd56",
      "metadata": {
        "papermill": {
          "duration": 12.650384,
          "end_time": "2024-04-08T18:51:59.788340",
          "exception": false,
          "start_time": "2024-04-08T18:51:47.137956",
          "status": "completed"
        },
        "tags": [],
        "id": "bbadbd56"
      },
      "outputs": [],
      "source": [
        "import librosa\n",
        "import librosa.display\n",
        "import matplotlib.pyplot as plt\n",
        "\n",
        "import sklearn\n",
        "from sklearn.model_selection import train_test_split\n",
        "import numpy as np\n",
        "import pandas as pd\n",
        "import random\n",
        "\n",
        "from torch import nn\n",
        "import torch.nn.functional as F\n",
        "from torch.utils.data import Dataset, DataLoader\n",
        "from tqdm import tqdm\n",
        "\n",
        "import torch\n",
        "#import torchmetrics\n",
        "import os"
      ]
    },
    {
      "cell_type": "code",
      "execution_count": 3,
      "id": "2d80cf24-13e8-480c-94eb-2982bb52510d",
      "metadata": {
        "id": "2d80cf24-13e8-480c-94eb-2982bb52510d"
      },
      "outputs": [],
      "source": [
        "import warnings\n",
        "warnings.filterwarnings('ignore')"
      ]
    },
    {
      "cell_type": "code",
      "execution_count": 4,
      "id": "f64eb379-e527-46c4-8b12-ead8db628070",
      "metadata": {
        "id": "f64eb379-e527-46c4-8b12-ead8db628070"
      },
      "outputs": [],
      "source": [
        "device = torch.device('cuda') if torch.cuda.is_available() else torch.device('cpu')"
      ]
    },
    {
      "cell_type": "markdown",
      "id": "a0d2de5d",
      "metadata": {
        "papermill": {
          "duration": 0.007241,
          "end_time": "2024-04-08T18:51:59.803571",
          "exception": false,
          "start_time": "2024-04-08T18:51:59.796330",
          "status": "completed"
        },
        "tags": [],
        "id": "a0d2de5d"
      },
      "source": [
        "# Config"
      ]
    },
    {
      "cell_type": "code",
      "execution_count": 5,
      "id": "1a32fb60",
      "metadata": {
        "papermill": {
          "duration": 0.016983,
          "end_time": "2024-04-08T18:51:59.828208",
          "exception": false,
          "start_time": "2024-04-08T18:51:59.811225",
          "status": "completed"
        },
        "tags": [],
        "id": "1a32fb60"
      },
      "outputs": [],
      "source": [
        "class Config:\n",
        "    SR = 32000\n",
        "    N_MFCC = 128\n",
        "    # Dataset\n",
        "    ROOT_FOLDER = './'\n",
        "    # Training\n",
        "    N_CLASSES = 2\n",
        "    #BATCH_SIZE = 96\n",
        "    BATCH_SIZE = 48\n",
        "    N_EPOCHS = 10\n",
        "    LR = 3e-4\n",
        "    # Others\n",
        "    SEED = 42\n",
        "\n",
        "CONFIG = Config()"
      ]
    },
    {
      "cell_type": "code",
      "execution_count": 6,
      "id": "6700bf8e-7f43-4eac-9bea-25eb1d95fb12",
      "metadata": {
        "id": "6700bf8e-7f43-4eac-9bea-25eb1d95fb12"
      },
      "outputs": [],
      "source": [
        "def seed_everything(seed):\n",
        "    random.seed(seed)\n",
        "    os.environ['PYTHONHASHSEED'] = str(seed)\n",
        "    np.random.seed(seed)\n",
        "    torch.manual_seed(seed)\n",
        "    torch.cuda.manual_seed(seed)\n",
        "    torch.backends.cudnn.deterministic = True\n",
        "    torch.backends.cudnn.benchmark = True\n",
        "\n",
        "seed_everything(CONFIG.SEED) # Seed 고정"
      ]
    },
    {
      "cell_type": "markdown",
      "source": [
        "데이터 2초 단위로 나누기"
      ],
      "metadata": {
        "id": "4nvB89Dz4R7I"
      },
      "id": "4nvB89Dz4R7I"
    },
    {
      "cell_type": "code",
      "source": [
        "import soundfile as sf\n",
        "\n",
        "# CSV 파일 로드\n",
        "df_train = pd.read_csv('train.csv')\n",
        "\n",
        "# 데이터 저장을 위한 리스트 초기화\n",
        "mfcc_data = []\n",
        "mel_data = []\n",
        "label_data = []\n",
        "real_chunks = []\n",
        "fake_chunks = []\n",
        "\n",
        "# 라벨 카운트 초기화\n",
        "label_count = {'real': 0, 'fake': 0, 'combined': 0}\n",
        "\n",
        "def segment_audio(audio, sample_rate, segment_length=2):\n",
        "    segment_samples = segment_length * sample_rate\n",
        "    segments = []\n",
        "    for i in range(0, len(audio), segment_samples):\n",
        "        segment = audio[i:i+segment_samples]\n",
        "        segments.append(segment)\n",
        "    return segments\n",
        "\n",
        "def random_pad(mels, pad_size, mfcc=True):\n",
        "    pad_width = pad_size - mels.shape[1]\n",
        "    if pad_width <= 0:\n",
        "        return mels  # 패딩이 필요 없는 경우 원본 배열 반환\n",
        "    rand = np.random.rand()\n",
        "    left = int(pad_width * rand)\n",
        "    right = pad_width - left\n",
        "\n",
        "    if mfcc:\n",
        "        mels = np.pad(mels, pad_width=((0, 0), (left, right)), mode='constant')\n",
        "        local_max, local_min = mels.max(), mels.min()\n",
        "        mels = (mels - local_min) / (local_max - local_min)\n",
        "    else:\n",
        "        local_max, local_min = mels.max(), mels.min()\n",
        "        mels = (mels - local_min) / (local_max - local_min)\n",
        "        mels = np.pad(mels, pad_width=((0, 0), (left, right)), mode='constant')\n",
        "\n",
        "    return mels\n",
        "\n",
        "def overlay_audio(audio_2s, audio_1s, sr):\n",
        "    max_offset = len(audio_2s) - len(audio_1s)\n",
        "    start_position = random.randint(0, max_offset)\n",
        "    combined_audio = np.copy(audio_2s)\n",
        "    combined_audio[start_position:start_position+len(audio_1s)] += audio_1s\n",
        "    return combined_audio\n",
        "\n",
        "# 데이터셋에서 각 오디오 파일에 대해 처리\n",
        "for index, row in tqdm(df_train.iterrows()):\n",
        "    audio_path = row['path']\n",
        "    label = row['label']\n",
        "\n",
        "    # 오디오 파일 로드\n",
        "    y, sr = librosa.load(audio_path, sr=CONFIG.SR)\n",
        "\n",
        "    # 오디오 데이터 자르기\n",
        "    segments = segment_audio(y, sr, segment_length=2)\n",
        "\n",
        "    for chunk in segments:\n",
        "        if label == 'real':\n",
        "            if len(chunk) < int(1.5 * sr):\n",
        "                continue  # 1.5초보다 짧은 chunk는 무시\n",
        "            elif len(chunk) < int(2.0 * sr):\n",
        "                # 패딩하여 저장\n",
        "                chunk = np.pad(chunk, (0, int(2.0 * sr) - len(chunk)), mode='constant')\n",
        "                mfcc = librosa.feature.mfcc(y=chunk, sr=sr, n_mfcc=CONFIG.N_MFCC)\n",
        "                mels = librosa.feature.melspectrogram(y=chunk, sr=sr, n_mels=CONFIG.N_MFCC)\n",
        "                mels = librosa.power_to_db(mels, ref=np.max)\n",
        "                mfcc_data.append(random_pad(mfcc, pad_size=CONFIG.N_MFCC, mfcc=True))\n",
        "                mel_data.append(random_pad(mels, pad_size=CONFIG.N_MFCC, mfcc=False))\n",
        "                label_vector = np.zeros(CONFIG.N_CLASSES, dtype=float)\n",
        "                label_vector[1] = 1\n",
        "                label_data.append(label_vector)\n",
        "                label_count['real'] += 1\n",
        "            else:\n",
        "                real_chunks.append(chunk)\n",
        "        elif label == 'fake':\n",
        "            if len(chunk) < int(1.0 * sr):\n",
        "                continue  # 1초보다 짧은 chunk는 무시\n",
        "            elif len(chunk) < int(1.5 * sr):\n",
        "                fake_chunks.append(chunk)\n",
        "            else:\n",
        "                # 패딩하여 저장\n",
        "                chunk = np.pad(chunk, (0, int(2.0 * sr) - len(chunk)), mode='constant')\n",
        "                mfcc = librosa.feature.mfcc(y=chunk, sr=sr, n_mfcc=CONFIG.N_MFCC)\n",
        "                mels = librosa.feature.melspectrogram(y=chunk, sr=sr, n_mels=CONFIG.N_MFCC)\n",
        "                mels = librosa.power_to_db(mels, ref=np.max)\n",
        "                mfcc_data.append(random_pad(mfcc, pad_size=CONFIG.N_MFCC, mfcc=True))\n",
        "                mel_data.append(random_pad(mels, pad_size=CONFIG.N_MFCC, mfcc=False))\n",
        "                label_vector = np.zeros(CONFIG.N_CLASSES, dtype=float)\n",
        "                label_vector[0] = 1\n",
        "                label_data.append(label_vector)\n",
        "                label_count['fake'] += 1\n",
        "\n",
        "# Fake 데이터와 Real 데이터를 합성하여 새로운 데이터 생성\n",
        "for fake_chunk in tqdm(fake_chunks):\n",
        "    if not real_chunks:\n",
        "        break  # real_chunks가 남아있지 않으면 종료\n",
        "    real_chunk = random.choice(real_chunks)\n",
        "    combined_audio = overlay_audio(real_chunk, fake_chunk, sr)\n",
        "\n",
        "    # MFCC 추출\n",
        "    mfcc = librosa.feature.mfcc(y=combined_audio, sr=sr, n_mfcc=CONFIG.N_MFCC)\n",
        "\n",
        "    # Mel spectrogram 추출\n",
        "    mels = librosa.feature.melspectrogram(y=combined_audio, sr=sr, n_mels=CONFIG.N_MFCC)\n",
        "    mels = librosa.power_to_db(mels, ref=np.max)\n",
        "\n",
        "    # 랜덤 패딩\n",
        "    pad_size = 128\n",
        "\n",
        "    # 데이터 저장\n",
        "    mfcc_data.append(random_pad(mfcc, pad_size=pad_size, mfcc=True))\n",
        "    mel_data.append(random_pad(mels, pad_size=pad_size, mfcc=False))\n",
        "    label_vector = np.ones(CONFIG.N_CLASSES, dtype=float)  # [1,1] 레이블\n",
        "    label_data.append(label_vector)\n",
        "    label_count['combined'] += 1\n",
        "\n",
        "# 남아있는 Real 데이터 처리\n",
        "for real_chunk in real_chunks:\n",
        "    mfcc = librosa.feature.mfcc(y=real_chunk, sr=sr, n_mfcc=CONFIG.N_MFCC)\n",
        "    mels = librosa.feature.melspectrogram(y=real_chunk, sr=sr, n_mels=CONFIG.N_MFCC)\n",
        "    mels = librosa.power_to_db(mels, ref=np.max)\n",
        "    mfcc_data.append(random_pad(mfcc, pad_size=CONFIG.N_MFCC, mfcc=True))\n",
        "    mel_data.append(random_pad(mels, pad_size=CONFIG.N_MFCC, mfcc=False))\n",
        "    label_vector = np.zeros(CONFIG.N_CLASSES, dtype=float)\n",
        "    label_vector[1] = 1\n",
        "    label_data.append(label_vector)\n",
        "    label_count['real'] += 1"
      ],
      "metadata": {
        "colab": {
          "base_uri": "https://localhost:8080/"
        },
        "id": "Nkc8q58u4GWN",
        "outputId": "4bdde756-a581-4e1b-8896-c81bb07872dc"
      },
      "id": "Nkc8q58u4GWN",
      "execution_count": 10,
      "outputs": [
        {
          "output_type": "stream",
          "name": "stderr",
          "text": [
            "55438it [14:12, 65.05it/s]\n",
            "100%|██████████| 10049/10049 [03:32<00:00, 47.28it/s]\n"
          ]
        }
      ]
    },
    {
      "cell_type": "code",
      "source": [
        "# 리스트를 넘파이 배열로 변환\n",
        "mfcc_data = np.array(mfcc_data)\n",
        "mel_data = np.array(mel_data)\n",
        "label_data = np.array(label_data)\n",
        "\n",
        "print(\"MFCC 데이터 형태:\", mfcc_data.shape)\n",
        "print(\"Mel 스펙트로그램 데이터 형태:\", mel_data.shape)\n",
        "print(\"라벨 데이터 형태:\", label_data.shape)\n",
        "print(\"레이블 분포:\", label_count)"
      ],
      "metadata": {
        "colab": {
          "base_uri": "https://localhost:8080/"
        },
        "id": "cv3qyvma4ylN",
        "outputId": "a40d3550-ce22-42c0-8edc-6a2dc802a736"
      },
      "id": "cv3qyvma4ylN",
      "execution_count": 11,
      "outputs": [
        {
          "output_type": "stream",
          "name": "stdout",
          "text": [
            "MFCC 데이터 형태: (81044, 128, 128)\n",
            "Mel 스펙트로그램 데이터 형태: (81044, 128, 128)\n",
            "라벨 데이터 형태: (81044, 2)\n",
            "레이블 분포: {'real': 55636, 'fake': 15359, 'combined': 10049}\n"
          ]
        }
      ]
    },
    {
      "cell_type": "code",
      "source": [
        "np.save('/content/drive/MyDrive/DACON/chunk/aug_mfcc_data.npy',mfcc_data)\n",
        "np.save('/content/drive/MyDrive/DACON/chunk/aug_mel_data.npy',mel_data)\n",
        "np.save('/content/drive/MyDrive/DACON/chunk/aug_label_data.npy',label_data)"
      ],
      "metadata": {
        "id": "-DNn_JwG_yrN"
      },
      "id": "-DNn_JwG_yrN",
      "execution_count": 14,
      "outputs": []
    },
    {
      "cell_type": "code",
      "source": [
        "print(mfcc_data.shape)\n",
        "print(mel_data.shape)\n",
        "print(label_data.shape)"
      ],
      "metadata": {
        "colab": {
          "base_uri": "https://localhost:8080/"
        },
        "id": "UyF0Y484JKPL",
        "outputId": "fe182180-bf0d-4172-c331-3f11b1ad0bc1"
      },
      "id": "UyF0Y484JKPL",
      "execution_count": 17,
      "outputs": [
        {
          "output_type": "stream",
          "name": "stdout",
          "text": [
            "(81044, 128, 128)\n",
            "(81044, 128, 128)\n",
            "(81044, 2)\n"
          ]
        }
      ]
    },
    {
      "cell_type": "code",
      "source": [
        "test_mel_data=np.load('/content/drive/MyDrive/DACON/chunk/test_mel_data.npy')\n",
        "test_mfcc_data=np.load('/content/drive/MyDrive/DACON/chunk/test_mfcc_data.npy')\n",
        "\n",
        "print(test_mel_data.shape)\n",
        "print(test_mfcc_data.shape)"
      ],
      "metadata": {
        "colab": {
          "base_uri": "https://localhost:8080/"
        },
        "id": "QcxnB5I348_s",
        "outputId": "f03ef5df-0675-4fa7-e9f6-c5bdb979a289"
      },
      "id": "QcxnB5I348_s",
      "execution_count": 7,
      "outputs": [
        {
          "output_type": "stream",
          "name": "stdout",
          "text": [
            "(100000, 128, 128)\n",
            "(100000, 128, 128)\n"
          ]
        }
      ]
    },
    {
      "cell_type": "code",
      "source": [
        "mfcc_data=np.load('/content/drive/MyDrive/DACON/chunk/aug_mfcc_data.npy')\n",
        "mel_data=np.load('/content/drive/MyDrive/DACON/chunk/aug_mel_data.npy')\n",
        "label_data=np.load('/content/drive/MyDrive/DACON/chunk/aug_label_data.npy')\n",
        "\n",
        "print(mfcc_data.shape)\n",
        "print(mel_data.shape)\n",
        "print(label_data.shape)"
      ],
      "metadata": {
        "colab": {
          "base_uri": "https://localhost:8080/"
        },
        "id": "5xenkPunKmoQ",
        "outputId": "ec6324d0-c5cc-4188-df60-29923f007cb5"
      },
      "id": "5xenkPunKmoQ",
      "execution_count": 8,
      "outputs": [
        {
          "output_type": "stream",
          "name": "stdout",
          "text": [
            "(81044, 128, 128)\n",
            "(81044, 128, 128)\n",
            "(81044, 2)\n"
          ]
        }
      ]
    },
    {
      "cell_type": "code",
      "source": [
        "import numpy as np\n",
        "import pandas as pd\n",
        "import matplotlib.pyplot as plt\n",
        "\n",
        "# 라벨 분포 확인\n",
        "unique, counts = np.unique(label_data, axis=0, return_counts=True)\n",
        "label_counts = {str(label): count for label, count in zip(unique, counts)}\n",
        "\n",
        "# 출력\n",
        "print(\"Label distribution:\")\n",
        "for label, count in label_counts.items():\n",
        "    print(f\"{label}: {count}\")\n",
        "\n",
        "# 라벨 분포를 시각화\n",
        "labels = [str(label) for label in unique]\n",
        "counts = counts\n",
        "\n",
        "plt.figure(figsize=(8, 6))\n",
        "plt.bar(labels, counts, color='skyblue')\n",
        "plt.xlabel('Label')\n",
        "plt.ylabel('Count')\n",
        "plt.title('Label Distribution')\n",
        "plt.show()\n"
      ],
      "metadata": {
        "colab": {
          "base_uri": "https://localhost:8080/",
          "height": 637
        },
        "id": "44a1wUer5Erw",
        "outputId": "5892513b-6a3b-45d1-f20c-abfa867b04f9"
      },
      "id": "44a1wUer5Erw",
      "execution_count": 9,
      "outputs": [
        {
          "output_type": "stream",
          "name": "stdout",
          "text": [
            "Label distribution:\n",
            "[0. 1.]: 55636\n",
            "[1. 0.]: 15359\n",
            "[1. 1.]: 10049\n"
          ]
        },
        {
          "output_type": "display_data",
          "data": {
            "text/plain": [
              "<Figure size 800x600 with 1 Axes>"
            ],
            "image/png": "[encoded data removed]"
          },
          "metadata": {}
        }
      ]
    },
    {
      "cell_type": "code",
      "source": [
        "import numpy as np\n",
        "import pandas as pd\n",
        "import matplotlib.pyplot as plt\n",
        "from sklearn.utils import resample\n",
        "\n",
        "# 라벨 분포 확인\n",
        "unique, counts = np.unique(label_data, axis=0, return_counts=True)\n",
        "label_counts = {str(label): count for label, count in zip(unique, counts)}\n",
        "\n",
        "# 출력\n",
        "print(\"Label distribution:\")\n",
        "for label, count in label_counts.items():\n",
        "    print(f\"{label}: {count}\")\n",
        "\n",
        "# 클래스별 데이터 인덱스 추출\n",
        "class_01_idx = np.where((label_data == [0, 1]).all(axis=1))[0]\n",
        "class_10_idx = np.where((label_data == [1, 0]).all(axis=1))[0]\n",
        "class_11_idx = np.where((label_data == [1, 1]).all(axis=1))[0]\n",
        "\n",
        "# 소수 클래스의 샘플 수 확인\n",
        "min_class_samples = len(class_10_idx)\n",
        "\n",
        "# 초반 10049개 제외\n",
        "class_01_idx_to_use = class_01_idx[10049:]\n",
        "\n",
        "# 다수 클래스에서 소수 클래스 샘플 수만큼 랜덤 샘플링\n",
        "class_01_sampled_idx = np.random.choice(class_01_idx_to_use, min_class_samples, replace=False)\n",
        "\n",
        "# 새로운 데이터셋 생성\n",
        "new_indices = np.concatenate([class_01_sampled_idx, class_10_idx, class_11_idx])\n",
        "np.random.shuffle(new_indices)  # 섞기\n",
        "\n",
        "# 데이터셋 추출\n",
        "new_mel_data = mel_data[new_indices]\n",
        "new_mfcc_data = mfcc_data[new_indices]\n",
        "new_label_data = label_data[new_indices]\n",
        "\n",
        "# 남은 [0, 1] 인덱스 추출\n",
        "remaining_class_01_idx = np.setdiff1d(class_01_idx, class_01_sampled_idx)\n",
        "\n",
        "# 새로운 라벨 분포 확인\n",
        "new_unique, new_counts = np.unique(new_label_data, axis=0, return_counts=True)\n",
        "new_label_counts = {str(label): count for label, count in zip(new_unique, new_counts)}\n",
        "\n",
        "# 출력\n",
        "print(\"\\nNew label distribution:\")\n",
        "for label, count in new_label_counts.items():\n",
        "    print(f\"{label}: {count}\")\n",
        "\n",
        "# 새로운 라벨 분포를 시각화\n",
        "new_labels = [str(label) for label in new_unique]\n",
        "new_counts = new_counts\n",
        "\n",
        "plt.figure(figsize=(8, 6))\n",
        "plt.bar(new_labels, new_counts, color='skyblue')\n",
        "plt.xlabel('Label')\n",
        "plt.ylabel('Count')\n",
        "plt.title('New Label Distribution')\n",
        "plt.show()"
      ],
      "metadata": {
        "colab": {
          "base_uri": "https://localhost:8080/",
          "height": 727
        },
        "id": "dgkRuiIyHI7c",
        "outputId": "812983d0-0677-448a-eb11-014401b93123"
      },
      "id": "dgkRuiIyHI7c",
      "execution_count": 10,
      "outputs": [
        {
          "output_type": "stream",
          "name": "stdout",
          "text": [
            "Label distribution:\n",
            "[0. 1.]: 55636\n",
            "[1. 0.]: 15359\n",
            "[1. 1.]: 10049\n",
            "\n",
            "New label distribution:\n",
            "[0. 1.]: 15359\n",
            "[1. 0.]: 15359\n",
            "[1. 1.]: 10049\n"
          ]
        },
        {
          "output_type": "display_data",
          "data": {
            "text/plain": [
              "<Figure size 800x600 with 1 Axes>"
            ],
            "image/png": "[encoded data removed]"
          },
          "metadata": {}
        }
      ]
    },
    {
      "cell_type": "code",
      "source": [
        "print(new_mel_data.shape)\n",
        "print(new_mfcc_data.shape)\n",
        "\n",
        "print(new_label_data.shape)\n",
        "print(new_label_data[0])"
      ],
      "metadata": {
        "colab": {
          "base_uri": "https://localhost:8080/"
        },
        "id": "sZCRfvipKAzW",
        "outputId": "ee416487-979c-4276-8db3-faed13ae2bb5"
      },
      "id": "sZCRfvipKAzW",
      "execution_count": 11,
      "outputs": [
        {
          "output_type": "stream",
          "name": "stdout",
          "text": [
            "(40767, 128, 128)\n",
            "(40767, 128, 128)\n",
            "(40767, 2)\n",
            "[1. 0.]\n"
          ]
        }
      ]
    },
    {
      "cell_type": "code",
      "source": [
        "import torch\n",
        "import torch.nn as nn\n",
        "import torch.nn.functional as F\n",
        "\n",
        "class SimplifiedCNNMultiLabel(nn.Module):\n",
        "    def __init__(self, in_channels=1, num_classes=2):\n",
        "        super(SimplifiedCNNMultiLabel, self).__init__()\n",
        "\n",
        "        self.features = nn.Sequential(\n",
        "            self._conv_block(in_channels, 32),\n",
        "            nn.MaxPool2d(2),\n",
        "            self._conv_block(32, 64),\n",
        "            nn.MaxPool2d(2),\n",
        "            self._conv_block(64, 128),\n",
        "            nn.MaxPool2d(2),\n",
        "            self._conv_block(128, 256),\n",
        "            nn.AdaptiveAvgPool2d(1)\n",
        "        )\n",
        "\n",
        "        self.classifier = nn.Sequential(\n",
        "            nn.Dropout(0.5),\n",
        "            nn.Linear(256, 128),\n",
        "            nn.ReLU(),\n",
        "            nn.Dropout(0.5),\n",
        "            nn.Linear(128, num_classes)\n",
        "        )\n",
        "\n",
        "    def _conv_block(self, in_channels, out_channels):\n",
        "        return nn.Sequential(\n",
        "            nn.Conv2d(in_channels, out_channels, kernel_size=3, padding=1),\n",
        "            nn.BatchNorm2d(out_channels),\n",
        "            nn.ReLU(),\n",
        "            nn.Conv2d(out_channels, out_channels, kernel_size=3, padding=1),\n",
        "            nn.BatchNorm2d(out_channels),\n",
        "            nn.ReLU()\n",
        "        )\n",
        "\n",
        "    def forward(self, x):\n",
        "        x = self.features(x)\n",
        "        x = x.view(x.size(0), -1)\n",
        "        x = self.classifier(x)\n",
        "        return torch.sigmoid(x)"
      ],
      "metadata": {
        "id": "LeTOyLZ6J5Lx"
      },
      "id": "LeTOyLZ6J5Lx",
      "execution_count": 12,
      "outputs": []
    },
    {
      "cell_type": "code",
      "source": [
        "import torch.optim as optim\n",
        "from torch.utils.data import DataLoader, TensorDataset\n",
        "from sklearn.model_selection import StratifiedKFold\n",
        "from sklearn.metrics import accuracy_score, roc_auc_score\n",
        "\n",
        "def train_model(model, train_loader, val_loader, criterion, optimizer, num_epochs=CONFIG.N_EPOCHS):\n",
        "    device = torch.device(\"cuda\" if torch.cuda.is_available() else \"cpu\")\n",
        "    model.to(device)\n",
        "\n",
        "    best_model = None\n",
        "    best_auc = 0\n",
        "    train_losses = []\n",
        "    val_losses = []\n",
        "    train_aucs = []\n",
        "    val_aucs = []\n",
        "\n",
        "    for epoch in range(num_epochs):\n",
        "        model.train()\n",
        "        epoch_train_loss = 0.0\n",
        "        epoch_train_preds = []\n",
        "        epoch_train_labels = []\n",
        "\n",
        "        for inputs, labels in tqdm(train_loader, desc=f'Epoch {epoch + 1}/{num_epochs}'):\n",
        "            inputs, labels = inputs.to(device), labels.to(device)\n",
        "            optimizer.zero_grad()\n",
        "            outputs = model(inputs)\n",
        "            loss = criterion(outputs, labels)\n",
        "            loss.backward()\n",
        "            optimizer.step()\n",
        "            epoch_train_loss += loss.item() * inputs.size(0)\n",
        "\n",
        "            preds = torch.sigmoid(outputs).cpu().detach().numpy()\n",
        "            epoch_train_preds.append(preds)\n",
        "            epoch_train_labels.append(labels.cpu().numpy())\n",
        "\n",
        "        epoch_train_loss /= len(train_loader.dataset)\n",
        "        train_losses.append(epoch_train_loss)\n",
        "\n",
        "        epoch_train_preds = np.concatenate(epoch_train_preds)\n",
        "        epoch_train_labels = np.concatenate(epoch_train_labels)\n",
        "\n",
        "        train_auc = roc_auc_score(epoch_train_labels, epoch_train_preds, average='macro')\n",
        "\n",
        "        train_aucs.append(train_auc)\n",
        "\n",
        "        # Validation\n",
        "        model.eval()\n",
        "        val_preds = []\n",
        "        val_labels = []\n",
        "        epoch_val_loss = 0.0\n",
        "\n",
        "        with torch.no_grad():\n",
        "            for inputs, labels in val_loader:\n",
        "                inputs, labels = inputs.to(device), labels.to(device)\n",
        "                outputs = model(inputs)\n",
        "                val_preds.append(torch.sigmoid(outputs).cpu().detach().numpy())\n",
        "                val_labels.append(labels.cpu().numpy())\n",
        "                loss = criterion(outputs, labels)\n",
        "                epoch_val_loss += loss.item() * inputs.size(0)\n",
        "\n",
        "        val_preds = np.concatenate(val_preds)\n",
        "        val_labels = np.concatenate(val_labels)\n",
        "        epoch_val_loss /= len(val_loader.dataset)\n",
        "        val_losses.append(epoch_val_loss)\n",
        "\n",
        "        val_auc = roc_auc_score(val_labels, val_preds, average='macro')\n",
        "\n",
        "        val_aucs.append(val_auc)\n",
        "\n",
        "        # Print training and validation metrics\n",
        "        print(f\"Epoch {epoch + 1}/{num_epochs}, \"\n",
        "              f\"Train Loss: {epoch_train_loss:.4f}, Train AUC: {train_auc:.4f}, \"\n",
        "              f\"Val Loss: {epoch_val_loss:.4f}, Val AUC: {val_auc:.4f}\")\n",
        "\n",
        "        # Update best model if current AUC is better\n",
        "        if val_auc > best_auc:\n",
        "            best_auc = val_auc\n",
        "            best_model = model.state_dict()\n",
        "\n",
        "    # Load best model\n",
        "    model.load_state_dict(best_model)\n",
        "\n",
        "    return model, best_auc\n",
        "\n",
        "# Main loop\n",
        "auc_list = []\n",
        "pred_list_mel = []  # Store predictions for Mel model\n",
        "pred_list_mfcc = []  # Store predictions for MFCC model\n",
        "skf = StratifiedKFold(n_splits=5)"
      ],
      "metadata": {
        "id": "NduNrMmyKFsz"
      },
      "id": "NduNrMmyKFsz",
      "execution_count": 13,
      "outputs": []
    },
    {
      "cell_type": "code",
      "source": [
        "# Function to predict on multiple segments and aggregate results\n",
        "def prediction(model, test_mfcc_data, device):\n",
        "    model.eval()\n",
        "    preds_list = []\n",
        "    with torch.no_grad():\n",
        "        for i in range(0, len(test_mfcc_data), 2):\n",
        "            data_1 = test_mfcc_data[i]\n",
        "            data_2 = test_mfcc_data[i + 1]\n",
        "\n",
        "            inputs_1 = torch.Tensor(data_1).unsqueeze(0).unsqueeze(0).to(device)  # Assuming segment shape is (1, 1, segment_length)\n",
        "            inputs_2 = torch.Tensor(data_2).unsqueeze(0).unsqueeze(0).to(device)\n",
        "\n",
        "            preds_1 = model(inputs_1)\n",
        "            preds_2 = model(inputs_2)\n",
        "\n",
        "            # Take the average of predictions\n",
        "            preds_avg = (preds_1 + preds_2) / 2.0\n",
        "            preds_list.append(preds_avg.cpu().detach().numpy())\n",
        "\n",
        "    return preds_list\n"
      ],
      "metadata": {
        "id": "ABnBMeXsKPHk"
      },
      "id": "ABnBMeXsKPHk",
      "execution_count": 14,
      "outputs": []
    },
    {
      "cell_type": "code",
      "source": [
        "# Iterate over folds\n",
        "for fold, (train_index, val_index) in enumerate(skf.split(new_mel_data, np.argmax(new_label_data, axis=1))):\n",
        "    print(f'\\n********** {fold+1} fold **********')\n",
        "\n",
        "    # Mel spectrogram model\n",
        "    model_mel = SimplifiedCNNMultiLabel()\n",
        "    #model_mel = MultiLabelResNet()\n",
        "\n",
        "    x_train_mel, x_val_mel = new_mel_data[train_index], new_mel_data[val_index]\n",
        "    y_train_mel, y_val_mel = new_label_data[train_index], new_label_data[val_index]\n",
        "\n",
        "    #x_train_mel, x_val_mel = mel_data[train_index], mel_data[val_index]\n",
        "    #y_train_mel, y_val_mel = label_data[train_index], label_data[val_index]\n",
        "\n",
        "    train_dataset_mel = TensorDataset(torch.Tensor(x_train_mel).unsqueeze(1), torch.Tensor(y_train_mel))\n",
        "    val_dataset_mel = TensorDataset(torch.Tensor(x_val_mel).unsqueeze(1), torch.Tensor(y_val_mel))\n",
        "\n",
        "    train_loader_mel = DataLoader(train_dataset_mel, batch_size=CONFIG.BATCH_SIZE, shuffle=True)\n",
        "    val_loader_mel = DataLoader(val_dataset_mel, batch_size=CONFIG.BATCH_SIZE)\n",
        "\n",
        "    #criterion_mel = nn.BCELoss(weight=class_weights)\n",
        "    criterion_mel = nn.BCELoss()\n",
        "    optimizer_mel = optim.Adam(model_mel.parameters(), lr=CONFIG.LR)\n",
        "\n",
        "    # Mel spectrogram model\n",
        "\n",
        "    model_mel, best_auc_mel = train_model(model_mel, train_loader_mel, val_loader_mel, criterion_mel, optimizer_mel)\n",
        "\n",
        "    # Validation on full 5-second validation data for Mel model\n",
        "    model_mel.eval()\n",
        "\n",
        "    val_preds_mel = []\n",
        "    val_labels_mel = []\n",
        "\n",
        "    batch_size = CONFIG.BATCH_SIZE\n",
        "    with torch.no_grad():\n",
        "        for i in range(0, len(x_val_mel), batch_size):  # Batch processing\n",
        "            inputs = torch.Tensor(x_val_mel[i:i+ batch_size]).to(device).unsqueeze(1)\n",
        "            outputs = model_mel(inputs)\n",
        "            val_preds_mel.extend(outputs.cpu().numpy())\n",
        "            val_labels_mel.extend(y_val_mel[i:i+ batch_size])\n",
        "\n",
        "    val_preds_mel = np.array(val_preds_mel)\n",
        "    val_labels_mel = np.array(val_labels_mel)\n",
        "    auc_mel = roc_auc_score(val_labels_mel, val_preds_mel, average='macro')\n",
        "\n",
        "    print(f'mels_model_auc : {auc_mel:.4f}')\n",
        "\n",
        "    # Store predictions on test data for Mel model\n",
        "    preds_test_mel = prediction(model_mel, test_mel_data, device)\n",
        "    pred_list_mel.append(preds_test_mel)\n",
        "\n",
        "    # MFCC model\n",
        "    #model_mfcc = MultiLabelResNet()\n",
        "    model_mfcc = SimplifiedCNNMultiLabel()\n",
        "\n",
        "    x_train_mfcc, x_val_mfcc = new_mfcc_data[train_index], new_mfcc_data[val_index]\n",
        "    y_train_mfcc, y_val_mfcc = new_label_data[train_index], new_label_data[val_index]\n",
        "\n",
        "    #x_train_mfcc, x_val_mfcc = mfcc_data[train_index], mfcc_data[val_index]\n",
        "    #y_train_mfcc, y_val_mfcc = label_data[train_index], label_data[val_index]\n",
        "\n",
        "    train_dataset_mfcc = TensorDataset(torch.Tensor(x_train_mfcc).unsqueeze(1), torch.Tensor(y_train_mfcc))\n",
        "    val_dataset_mfcc = TensorDataset(torch.Tensor(x_val_mfcc).unsqueeze(1), torch.Tensor(y_val_mfcc))\n",
        "    train_loader_mfcc = DataLoader(train_dataset_mfcc, batch_size=CONFIG.BATCH_SIZE, shuffle=True)\n",
        "    val_loader_mfcc = DataLoader(val_dataset_mfcc, batch_size=CONFIG.BATCH_SIZE)\n",
        "\n",
        "    optimizer_mfcc = optim.Adam(model_mfcc.parameters(), lr=CONFIG.LR)\n",
        "\n",
        "    #criterion_mfcc = nn.BCELoss(weight=class_weights)\n",
        "    criterion_mfcc = nn.BCELoss()\n",
        "\n",
        "    model_mfcc, best_auc_mfcc = train_model(model_mfcc, train_loader_mfcc, val_loader_mfcc, criterion_mel, optimizer_mfcc)\n",
        "\n",
        "    # Validation on full 5-second validation data for MFCC model\n",
        "    model_mfcc.eval()\n",
        "    val_preds_mfcc = []\n",
        "    val_labels_mfcc = []\n",
        "\n",
        "    batch_size = CONFIG.BATCH_SIZE\n",
        "    with torch.no_grad():\n",
        "        for i in range(0, len(x_val_mfcc), batch_size):  # Batch processing\n",
        "            inputs = torch.Tensor(x_val_mfcc[i:i+batch_size]).to(device).unsqueeze(1)\n",
        "            outputs = model_mfcc(inputs)\n",
        "            val_preds_mfcc.extend(outputs.cpu().numpy())\n",
        "            val_labels_mfcc.extend(y_val_mel[i:i+batch_size])\n",
        "\n",
        "    val_preds_mfcc = np.array(val_preds_mfcc)\n",
        "    val_labels_mfcc = np.array(val_labels_mfcc)\n",
        "    auc_mfcc = roc_auc_score(val_labels_mfcc, val_preds_mfcc, average='macro')\n",
        "\n",
        "    print(f'mfcc_model_auc : {auc_mfcc:.4f}')\n",
        "\n",
        "    # Store predictions on test data for MFCC model\n",
        "    preds_test_mfcc = prediction(model_mfcc, test_mfcc_data, device)\n",
        "    pred_list_mfcc.append(preds_test_mfcc)\n",
        "\n",
        "    # Print fold ensemble metrics if needed\n",
        "    print(f'Ensemble metrics for fold {fold+1}')\n",
        "\n",
        "# Calculate mean predictions from all folds\n",
        "pred_mean_mel = np.mean(pred_list_mel, axis=0)\n",
        "pred_mean_mfcc = np.mean(pred_list_mfcc, axis=0)\n",
        "\n",
        "# Perform final ensemble by averaging predictions\n",
        "final_pred_mean = (pred_mean_mel + pred_mean_mfcc) / 2.0"
      ],
      "metadata": {
        "colab": {
          "base_uri": "https://localhost:8080/"
        },
        "collapsed": true,
        "id": "q4oRmlUaKKqT",
        "outputId": "2eb58358-25db-4b2a-d689-d8fe334aed83"
      },
      "id": "q4oRmlUaKKqT",
      "execution_count": 15,
      "outputs": [
        {
          "output_type": "stream",
          "name": "stdout",
          "text": [
            "\n",
            "********** 1 fold **********\n"
          ]
        },
        {
          "output_type": "stream",
          "name": "stderr",
          "text": [
            "Epoch 1/10: 100%|██████████| 680/680 [00:37<00:00, 18.32it/s]\n"
          ]
        },
        {
          "output_type": "stream",
          "name": "stdout",
          "text": [
            "Epoch 1/10, Train Loss: 0.1180, Train AUC: 0.9911, Val Loss: 0.0338, Val AUC: 0.9989\n"
          ]
        },
        {
          "output_type": "stream",
          "name": "stderr",
          "text": [
            "Epoch 2/10: 100%|██████████| 680/680 [00:34<00:00, 19.75it/s]\n"
          ]
        },
        {
          "output_type": "stream",
          "name": "stdout",
          "text": [
            "Epoch 2/10, Train Loss: 0.0381, Train AUC: 0.9985, Val Loss: 0.1889, Val AUC: 0.9994\n"
          ]
        },
        {
          "output_type": "stream",
          "name": "stderr",
          "text": [
            "Epoch 3/10: 100%|██████████| 680/680 [00:34<00:00, 19.96it/s]\n"
          ]
        },
        {
          "output_type": "stream",
          "name": "stdout",
          "text": [
            "Epoch 3/10, Train Loss: 0.0262, Train AUC: 0.9993, Val Loss: 0.0181, Val AUC: 0.9998\n"
          ]
        },
        {
          "output_type": "stream",
          "name": "stderr",
          "text": [
            "Epoch 4/10: 100%|██████████| 680/680 [00:34<00:00, 19.99it/s]\n"
          ]
        },
        {
          "output_type": "stream",
          "name": "stdout",
          "text": [
            "Epoch 4/10, Train Loss: 0.0212, Train AUC: 0.9995, Val Loss: 0.1054, Val AUC: 0.9995\n"
          ]
        },
        {
          "output_type": "stream",
          "name": "stderr",
          "text": [
            "Epoch 5/10: 100%|██████████| 680/680 [00:34<00:00, 19.88it/s]\n"
          ]
        },
        {
          "output_type": "stream",
          "name": "stdout",
          "text": [
            "Epoch 5/10, Train Loss: 0.0196, Train AUC: 0.9996, Val Loss: 0.3938, Val AUC: 0.9991\n"
          ]
        },
        {
          "output_type": "stream",
          "name": "stderr",
          "text": [
            "Epoch 6/10: 100%|██████████| 680/680 [00:34<00:00, 19.99it/s]\n"
          ]
        },
        {
          "output_type": "stream",
          "name": "stdout",
          "text": [
            "Epoch 6/10, Train Loss: 0.0125, Train AUC: 0.9998, Val Loss: 0.0213, Val AUC: 0.9999\n"
          ]
        },
        {
          "output_type": "stream",
          "name": "stderr",
          "text": [
            "Epoch 7/10: 100%|██████████| 680/680 [00:33<00:00, 20.03it/s]\n"
          ]
        },
        {
          "output_type": "stream",
          "name": "stdout",
          "text": [
            "Epoch 7/10, Train Loss: 0.0121, Train AUC: 0.9998, Val Loss: 0.0103, Val AUC: 0.9999\n"
          ]
        },
        {
          "output_type": "stream",
          "name": "stderr",
          "text": [
            "Epoch 8/10: 100%|██████████| 680/680 [00:33<00:00, 20.00it/s]\n"
          ]
        },
        {
          "output_type": "stream",
          "name": "stdout",
          "text": [
            "Epoch 8/10, Train Loss: 0.0083, Train AUC: 0.9999, Val Loss: 0.0051, Val AUC: 1.0000\n"
          ]
        },
        {
          "output_type": "stream",
          "name": "stderr",
          "text": [
            "Epoch 9/10: 100%|██████████| 680/680 [00:33<00:00, 20.00it/s]\n"
          ]
        },
        {
          "output_type": "stream",
          "name": "stdout",
          "text": [
            "Epoch 9/10, Train Loss: 0.0089, Train AUC: 0.9999, Val Loss: 0.0046, Val AUC: 0.9999\n"
          ]
        },
        {
          "output_type": "stream",
          "name": "stderr",
          "text": [
            "Epoch 10/10: 100%|██████████| 680/680 [00:33<00:00, 20.01it/s]\n"
          ]
        },
        {
          "output_type": "stream",
          "name": "stdout",
          "text": [
            "Epoch 10/10, Train Loss: 0.0071, Train AUC: 0.9999, Val Loss: 0.0172, Val AUC: 0.9999\n",
            "mels_model_auc : 0.9999\n"
          ]
        },
        {
          "output_type": "stream",
          "name": "stderr",
          "text": [
            "Epoch 1/10: 100%|██████████| 680/680 [00:34<00:00, 19.81it/s]\n"
          ]
        },
        {
          "output_type": "stream",
          "name": "stdout",
          "text": [
            "Epoch 1/10, Train Loss: 0.2433, Train AUC: 0.9612, Val Loss: 0.1950, Val AUC: 0.9886\n"
          ]
        },
        {
          "output_type": "stream",
          "name": "stderr",
          "text": [
            "Epoch 2/10: 100%|██████████| 680/680 [00:34<00:00, 19.96it/s]\n"
          ]
        },
        {
          "output_type": "stream",
          "name": "stdout",
          "text": [
            "Epoch 2/10, Train Loss: 0.0906, Train AUC: 0.9937, Val Loss: 0.0538, Val AUC: 0.9979\n"
          ]
        },
        {
          "output_type": "stream",
          "name": "stderr",
          "text": [
            "Epoch 3/10: 100%|██████████| 680/680 [00:34<00:00, 19.99it/s]\n"
          ]
        },
        {
          "output_type": "stream",
          "name": "stdout",
          "text": [
            "Epoch 3/10, Train Loss: 0.0624, Train AUC: 0.9966, Val Loss: 0.1034, Val AUC: 0.9975\n"
          ]
        },
        {
          "output_type": "stream",
          "name": "stderr",
          "text": [
            "Epoch 4/10: 100%|██████████| 680/680 [00:34<00:00, 19.84it/s]\n"
          ]
        },
        {
          "output_type": "stream",
          "name": "stdout",
          "text": [
            "Epoch 4/10, Train Loss: 0.0471, Train AUC: 0.9979, Val Loss: 0.0814, Val AUC: 0.9986\n"
          ]
        },
        {
          "output_type": "stream",
          "name": "stderr",
          "text": [
            "Epoch 5/10: 100%|██████████| 680/680 [00:34<00:00, 19.82it/s]\n"
          ]
        },
        {
          "output_type": "stream",
          "name": "stdout",
          "text": [
            "Epoch 5/10, Train Loss: 0.0394, Train AUC: 0.9985, Val Loss: 0.0444, Val AUC: 0.9988\n"
          ]
        },
        {
          "output_type": "stream",
          "name": "stderr",
          "text": [
            "Epoch 6/10: 100%|██████████| 680/680 [00:34<00:00, 19.95it/s]\n"
          ]
        },
        {
          "output_type": "stream",
          "name": "stdout",
          "text": [
            "Epoch 6/10, Train Loss: 0.0336, Train AUC: 0.9989, Val Loss: 0.0533, Val AUC: 0.9992\n"
          ]
        },
        {
          "output_type": "stream",
          "name": "stderr",
          "text": [
            "Epoch 7/10: 100%|██████████| 680/680 [00:34<00:00, 19.94it/s]\n"
          ]
        },
        {
          "output_type": "stream",
          "name": "stdout",
          "text": [
            "Epoch 7/10, Train Loss: 0.0282, Train AUC: 0.9992, Val Loss: 0.0568, Val AUC: 0.9987\n"
          ]
        },
        {
          "output_type": "stream",
          "name": "stderr",
          "text": [
            "Epoch 8/10: 100%|██████████| 680/680 [00:34<00:00, 19.89it/s]\n"
          ]
        },
        {
          "output_type": "stream",
          "name": "stdout",
          "text": [
            "Epoch 8/10, Train Loss: 0.0220, Train AUC: 0.9995, Val Loss: 0.0321, Val AUC: 0.9993\n"
          ]
        },
        {
          "output_type": "stream",
          "name": "stderr",
          "text": [
            "Epoch 9/10: 100%|██████████| 680/680 [00:34<00:00, 19.89it/s]\n"
          ]
        },
        {
          "output_type": "stream",
          "name": "stdout",
          "text": [
            "Epoch 9/10, Train Loss: 0.0222, Train AUC: 0.9995, Val Loss: 0.0216, Val AUC: 0.9996\n"
          ]
        },
        {
          "output_type": "stream",
          "name": "stderr",
          "text": [
            "Epoch 10/10: 100%|██████████| 680/680 [00:34<00:00, 19.91it/s]\n"
          ]
        },
        {
          "output_type": "stream",
          "name": "stdout",
          "text": [
            "Epoch 10/10, Train Loss: 0.0196, Train AUC: 0.9996, Val Loss: 0.0234, Val AUC: 0.9998\n",
            "mfcc_model_auc : 0.9998\n",
            "Ensemble metrics for fold 1\n",
            "\n",
            "********** 2 fold **********\n"
          ]
        },
        {
          "output_type": "stream",
          "name": "stderr",
          "text": [
            "Epoch 1/10: 100%|██████████| 680/680 [00:34<00:00, 19.73it/s]\n"
          ]
        },
        {
          "output_type": "stream",
          "name": "stdout",
          "text": [
            "Epoch 1/10, Train Loss: 0.1167, Train AUC: 0.9910, Val Loss: 0.4267, Val AUC: 0.9943\n"
          ]
        },
        {
          "output_type": "stream",
          "name": "stderr",
          "text": [
            "Epoch 2/10: 100%|██████████| 680/680 [00:34<00:00, 19.83it/s]\n"
          ]
        },
        {
          "output_type": "stream",
          "name": "stdout",
          "text": [
            "Epoch 2/10, Train Loss: 0.0355, Train AUC: 0.9987, Val Loss: 0.1641, Val AUC: 0.9981\n"
          ]
        },
        {
          "output_type": "stream",
          "name": "stderr",
          "text": [
            "Epoch 3/10: 100%|██████████| 680/680 [00:34<00:00, 19.96it/s]\n"
          ]
        },
        {
          "output_type": "stream",
          "name": "stdout",
          "text": [
            "Epoch 3/10, Train Loss: 0.0258, Train AUC: 0.9993, Val Loss: 0.0571, Val AUC: 0.9992\n"
          ]
        },
        {
          "output_type": "stream",
          "name": "stderr",
          "text": [
            "Epoch 4/10: 100%|██████████| 680/680 [00:34<00:00, 19.95it/s]\n"
          ]
        },
        {
          "output_type": "stream",
          "name": "stdout",
          "text": [
            "Epoch 4/10, Train Loss: 0.0181, Train AUC: 0.9996, Val Loss: 0.0166, Val AUC: 0.9997\n"
          ]
        },
        {
          "output_type": "stream",
          "name": "stderr",
          "text": [
            "Epoch 5/10: 100%|██████████| 680/680 [00:34<00:00, 19.96it/s]\n"
          ]
        },
        {
          "output_type": "stream",
          "name": "stdout",
          "text": [
            "Epoch 5/10, Train Loss: 0.0127, Train AUC: 0.9998, Val Loss: 0.0347, Val AUC: 0.9998\n"
          ]
        },
        {
          "output_type": "stream",
          "name": "stderr",
          "text": [
            "Epoch 6/10: 100%|██████████| 680/680 [00:34<00:00, 19.95it/s]\n"
          ]
        },
        {
          "output_type": "stream",
          "name": "stdout",
          "text": [
            "Epoch 6/10, Train Loss: 0.0116, Train AUC: 0.9998, Val Loss: 0.0130, Val AUC: 0.9999\n"
          ]
        },
        {
          "output_type": "stream",
          "name": "stderr",
          "text": [
            "Epoch 7/10: 100%|██████████| 680/680 [00:34<00:00, 19.88it/s]\n"
          ]
        },
        {
          "output_type": "stream",
          "name": "stdout",
          "text": [
            "Epoch 7/10, Train Loss: 0.0119, Train AUC: 0.9998, Val Loss: 0.0092, Val AUC: 0.9998\n"
          ]
        },
        {
          "output_type": "stream",
          "name": "stderr",
          "text": [
            "Epoch 8/10: 100%|██████████| 680/680 [00:34<00:00, 19.94it/s]\n"
          ]
        },
        {
          "output_type": "stream",
          "name": "stdout",
          "text": [
            "Epoch 8/10, Train Loss: 0.0058, Train AUC: 1.0000, Val Loss: 0.0668, Val AUC: 0.9997\n"
          ]
        },
        {
          "output_type": "stream",
          "name": "stderr",
          "text": [
            "Epoch 9/10: 100%|██████████| 680/680 [00:34<00:00, 19.95it/s]\n"
          ]
        },
        {
          "output_type": "stream",
          "name": "stdout",
          "text": [
            "Epoch 9/10, Train Loss: 0.0100, Train AUC: 0.9999, Val Loss: 0.0194, Val AUC: 0.9999\n"
          ]
        },
        {
          "output_type": "stream",
          "name": "stderr",
          "text": [
            "Epoch 10/10: 100%|██████████| 680/680 [00:34<00:00, 19.98it/s]\n"
          ]
        },
        {
          "output_type": "stream",
          "name": "stdout",
          "text": [
            "Epoch 10/10, Train Loss: 0.0082, Train AUC: 0.9999, Val Loss: 0.0196, Val AUC: 0.9998\n",
            "mels_model_auc : 0.9998\n"
          ]
        },
        {
          "output_type": "stream",
          "name": "stderr",
          "text": [
            "Epoch 1/10: 100%|██████████| 680/680 [00:34<00:00, 19.78it/s]\n"
          ]
        },
        {
          "output_type": "stream",
          "name": "stdout",
          "text": [
            "Epoch 1/10, Train Loss: 0.2246, Train AUC: 0.9671, Val Loss: 0.3264, Val AUC: 0.9930\n"
          ]
        },
        {
          "output_type": "stream",
          "name": "stderr",
          "text": [
            "Epoch 2/10: 100%|██████████| 680/680 [00:34<00:00, 19.93it/s]\n"
          ]
        },
        {
          "output_type": "stream",
          "name": "stdout",
          "text": [
            "Epoch 2/10, Train Loss: 0.0865, Train AUC: 0.9942, Val Loss: 0.1066, Val AUC: 0.9955\n"
          ]
        },
        {
          "output_type": "stream",
          "name": "stderr",
          "text": [
            "Epoch 3/10: 100%|██████████| 680/680 [00:34<00:00, 19.98it/s]\n"
          ]
        },
        {
          "output_type": "stream",
          "name": "stdout",
          "text": [
            "Epoch 3/10, Train Loss: 0.0579, Train AUC: 0.9971, Val Loss: 0.0550, Val AUC: 0.9980\n"
          ]
        },
        {
          "output_type": "stream",
          "name": "stderr",
          "text": [
            "Epoch 4/10: 100%|██████████| 680/680 [00:34<00:00, 19.95it/s]\n"
          ]
        },
        {
          "output_type": "stream",
          "name": "stdout",
          "text": [
            "Epoch 4/10, Train Loss: 0.0445, Train AUC: 0.9981, Val Loss: 0.1199, Val AUC: 0.9957\n"
          ]
        },
        {
          "output_type": "stream",
          "name": "stderr",
          "text": [
            "Epoch 5/10: 100%|██████████| 680/680 [00:34<00:00, 20.00it/s]\n"
          ]
        },
        {
          "output_type": "stream",
          "name": "stdout",
          "text": [
            "Epoch 5/10, Train Loss: 0.0345, Train AUC: 0.9988, Val Loss: 0.0285, Val AUC: 0.9994\n"
          ]
        },
        {
          "output_type": "stream",
          "name": "stderr",
          "text": [
            "Epoch 6/10: 100%|██████████| 680/680 [00:34<00:00, 19.98it/s]\n"
          ]
        },
        {
          "output_type": "stream",
          "name": "stdout",
          "text": [
            "Epoch 6/10, Train Loss: 0.0326, Train AUC: 0.9990, Val Loss: 0.0297, Val AUC: 0.9994\n"
          ]
        },
        {
          "output_type": "stream",
          "name": "stderr",
          "text": [
            "Epoch 7/10: 100%|██████████| 680/680 [00:34<00:00, 19.97it/s]\n"
          ]
        },
        {
          "output_type": "stream",
          "name": "stdout",
          "text": [
            "Epoch 7/10, Train Loss: 0.0242, Train AUC: 0.9994, Val Loss: 0.0294, Val AUC: 0.9994\n"
          ]
        },
        {
          "output_type": "stream",
          "name": "stderr",
          "text": [
            "Epoch 8/10: 100%|██████████| 680/680 [00:34<00:00, 19.97it/s]\n"
          ]
        },
        {
          "output_type": "stream",
          "name": "stdout",
          "text": [
            "Epoch 8/10, Train Loss: 0.0245, Train AUC: 0.9994, Val Loss: 0.0239, Val AUC: 0.9996\n"
          ]
        },
        {
          "output_type": "stream",
          "name": "stderr",
          "text": [
            "Epoch 9/10: 100%|██████████| 680/680 [00:34<00:00, 19.94it/s]\n"
          ]
        },
        {
          "output_type": "stream",
          "name": "stdout",
          "text": [
            "Epoch 9/10, Train Loss: 0.0193, Train AUC: 0.9996, Val Loss: 0.0623, Val AUC: 0.9990\n"
          ]
        },
        {
          "output_type": "stream",
          "name": "stderr",
          "text": [
            "Epoch 10/10: 100%|██████████| 680/680 [00:34<00:00, 19.91it/s]\n"
          ]
        },
        {
          "output_type": "stream",
          "name": "stdout",
          "text": [
            "Epoch 10/10, Train Loss: 0.0179, Train AUC: 0.9996, Val Loss: 0.0296, Val AUC: 0.9995\n",
            "mfcc_model_auc : 0.9995\n",
            "Ensemble metrics for fold 2\n",
            "\n",
            "********** 3 fold **********\n"
          ]
        },
        {
          "output_type": "stream",
          "name": "stderr",
          "text": [
            "Epoch 1/10: 100%|██████████| 680/680 [00:34<00:00, 19.46it/s]\n"
          ]
        },
        {
          "output_type": "stream",
          "name": "stdout",
          "text": [
            "Epoch 1/10, Train Loss: 0.1226, Train AUC: 0.9903, Val Loss: 0.1965, Val AUC: 0.9941\n"
          ]
        },
        {
          "output_type": "stream",
          "name": "stderr",
          "text": [
            "Epoch 2/10: 100%|██████████| 680/680 [00:34<00:00, 19.97it/s]\n"
          ]
        },
        {
          "output_type": "stream",
          "name": "stdout",
          "text": [
            "Epoch 2/10, Train Loss: 0.0402, Train AUC: 0.9985, Val Loss: 0.1899, Val AUC: 0.9961\n"
          ]
        },
        {
          "output_type": "stream",
          "name": "stderr",
          "text": [
            "Epoch 3/10: 100%|██████████| 680/680 [00:34<00:00, 19.95it/s]\n"
          ]
        },
        {
          "output_type": "stream",
          "name": "stdout",
          "text": [
            "Epoch 3/10, Train Loss: 0.0267, Train AUC: 0.9993, Val Loss: 0.0303, Val AUC: 0.9996\n"
          ]
        },
        {
          "output_type": "stream",
          "name": "stderr",
          "text": [
            "Epoch 4/10: 100%|██████████| 680/680 [00:34<00:00, 19.86it/s]\n"
          ]
        },
        {
          "output_type": "stream",
          "name": "stdout",
          "text": [
            "Epoch 4/10, Train Loss: 0.0223, Train AUC: 0.9995, Val Loss: 0.2004, Val AUC: 0.9991\n"
          ]
        },
        {
          "output_type": "stream",
          "name": "stderr",
          "text": [
            "Epoch 5/10: 100%|██████████| 680/680 [00:34<00:00, 19.93it/s]\n"
          ]
        },
        {
          "output_type": "stream",
          "name": "stdout",
          "text": [
            "Epoch 5/10, Train Loss: 0.0186, Train AUC: 0.9996, Val Loss: 0.0950, Val AUC: 0.9993\n"
          ]
        },
        {
          "output_type": "stream",
          "name": "stderr",
          "text": [
            "Epoch 6/10: 100%|██████████| 680/680 [00:34<00:00, 19.92it/s]\n"
          ]
        },
        {
          "output_type": "stream",
          "name": "stdout",
          "text": [
            "Epoch 6/10, Train Loss: 0.0165, Train AUC: 0.9997, Val Loss: 0.0099, Val AUC: 0.9998\n"
          ]
        },
        {
          "output_type": "stream",
          "name": "stderr",
          "text": [
            "Epoch 7/10: 100%|██████████| 680/680 [00:34<00:00, 19.90it/s]\n"
          ]
        },
        {
          "output_type": "stream",
          "name": "stdout",
          "text": [
            "Epoch 7/10, Train Loss: 0.0129, Train AUC: 0.9998, Val Loss: 0.0338, Val AUC: 0.9997\n"
          ]
        },
        {
          "output_type": "stream",
          "name": "stderr",
          "text": [
            "Epoch 8/10: 100%|██████████| 680/680 [00:34<00:00, 19.90it/s]\n"
          ]
        },
        {
          "output_type": "stream",
          "name": "stdout",
          "text": [
            "Epoch 8/10, Train Loss: 0.0123, Train AUC: 0.9998, Val Loss: 0.0093, Val AUC: 0.9998\n"
          ]
        },
        {
          "output_type": "stream",
          "name": "stderr",
          "text": [
            "Epoch 9/10: 100%|██████████| 680/680 [00:34<00:00, 19.88it/s]\n"
          ]
        },
        {
          "output_type": "stream",
          "name": "stdout",
          "text": [
            "Epoch 9/10, Train Loss: 0.0081, Train AUC: 0.9999, Val Loss: 0.0092, Val AUC: 0.9999\n"
          ]
        },
        {
          "output_type": "stream",
          "name": "stderr",
          "text": [
            "Epoch 10/10: 100%|██████████| 680/680 [00:34<00:00, 19.90it/s]\n"
          ]
        },
        {
          "output_type": "stream",
          "name": "stdout",
          "text": [
            "Epoch 10/10, Train Loss: 0.0115, Train AUC: 0.9998, Val Loss: 0.0090, Val AUC: 0.9998\n",
            "mels_model_auc : 0.9998\n"
          ]
        },
        {
          "output_type": "stream",
          "name": "stderr",
          "text": [
            "Epoch 1/10: 100%|██████████| 680/680 [00:34<00:00, 19.77it/s]\n"
          ]
        },
        {
          "output_type": "stream",
          "name": "stdout",
          "text": [
            "Epoch 1/10, Train Loss: 0.2255, Train AUC: 0.9668, Val Loss: 1.5778, Val AUC: 0.9807\n"
          ]
        },
        {
          "output_type": "stream",
          "name": "stderr",
          "text": [
            "Epoch 2/10: 100%|██████████| 680/680 [00:34<00:00, 20.00it/s]\n"
          ]
        },
        {
          "output_type": "stream",
          "name": "stdout",
          "text": [
            "Epoch 2/10, Train Loss: 0.0812, Train AUC: 0.9947, Val Loss: 0.2664, Val AUC: 0.9945\n"
          ]
        },
        {
          "output_type": "stream",
          "name": "stderr",
          "text": [
            "Epoch 3/10: 100%|██████████| 680/680 [00:34<00:00, 19.96it/s]\n"
          ]
        },
        {
          "output_type": "stream",
          "name": "stdout",
          "text": [
            "Epoch 3/10, Train Loss: 0.0580, Train AUC: 0.9970, Val Loss: 0.0360, Val AUC: 0.9984\n"
          ]
        },
        {
          "output_type": "stream",
          "name": "stderr",
          "text": [
            "Epoch 4/10: 100%|██████████| 680/680 [00:34<00:00, 19.92it/s]\n"
          ]
        },
        {
          "output_type": "stream",
          "name": "stdout",
          "text": [
            "Epoch 4/10, Train Loss: 0.0460, Train AUC: 0.9980, Val Loss: 0.0831, Val AUC: 0.9984\n"
          ]
        },
        {
          "output_type": "stream",
          "name": "stderr",
          "text": [
            "Epoch 5/10: 100%|██████████| 680/680 [00:33<00:00, 20.01it/s]\n"
          ]
        },
        {
          "output_type": "stream",
          "name": "stdout",
          "text": [
            "Epoch 5/10, Train Loss: 0.0362, Train AUC: 0.9988, Val Loss: 0.1113, Val AUC: 0.9977\n"
          ]
        },
        {
          "output_type": "stream",
          "name": "stderr",
          "text": [
            "Epoch 6/10: 100%|██████████| 680/680 [00:34<00:00, 19.98it/s]\n"
          ]
        },
        {
          "output_type": "stream",
          "name": "stdout",
          "text": [
            "Epoch 6/10, Train Loss: 0.0277, Train AUC: 0.9992, Val Loss: 0.0413, Val AUC: 0.9991\n"
          ]
        },
        {
          "output_type": "stream",
          "name": "stderr",
          "text": [
            "Epoch 7/10: 100%|██████████| 680/680 [00:34<00:00, 19.90it/s]\n"
          ]
        },
        {
          "output_type": "stream",
          "name": "stdout",
          "text": [
            "Epoch 7/10, Train Loss: 0.0264, Train AUC: 0.9993, Val Loss: 0.0245, Val AUC: 0.9995\n"
          ]
        },
        {
          "output_type": "stream",
          "name": "stderr",
          "text": [
            "Epoch 8/10: 100%|██████████| 680/680 [00:34<00:00, 19.92it/s]\n"
          ]
        },
        {
          "output_type": "stream",
          "name": "stdout",
          "text": [
            "Epoch 8/10, Train Loss: 0.0241, Train AUC: 0.9994, Val Loss: 0.0234, Val AUC: 0.9995\n"
          ]
        },
        {
          "output_type": "stream",
          "name": "stderr",
          "text": [
            "Epoch 9/10: 100%|██████████| 680/680 [00:34<00:00, 19.91it/s]\n"
          ]
        },
        {
          "output_type": "stream",
          "name": "stdout",
          "text": [
            "Epoch 9/10, Train Loss: 0.0212, Train AUC: 0.9995, Val Loss: 0.0212, Val AUC: 0.9996\n"
          ]
        },
        {
          "output_type": "stream",
          "name": "stderr",
          "text": [
            "Epoch 10/10: 100%|██████████| 680/680 [00:34<00:00, 19.91it/s]\n"
          ]
        },
        {
          "output_type": "stream",
          "name": "stdout",
          "text": [
            "Epoch 10/10, Train Loss: 0.0173, Train AUC: 0.9997, Val Loss: 0.0210, Val AUC: 0.9994\n",
            "mfcc_model_auc : 0.9994\n",
            "Ensemble metrics for fold 3\n",
            "\n",
            "********** 4 fold **********\n"
          ]
        },
        {
          "output_type": "stream",
          "name": "stderr",
          "text": [
            "Epoch 1/10: 100%|██████████| 680/680 [00:34<00:00, 19.79it/s]\n"
          ]
        },
        {
          "output_type": "stream",
          "name": "stdout",
          "text": [
            "Epoch 1/10, Train Loss: 0.1254, Train AUC: 0.9901, Val Loss: 0.2510, Val AUC: 0.9895\n"
          ]
        },
        {
          "output_type": "stream",
          "name": "stderr",
          "text": [
            "Epoch 2/10: 100%|██████████| 680/680 [00:33<00:00, 20.03it/s]\n"
          ]
        },
        {
          "output_type": "stream",
          "name": "stdout",
          "text": [
            "Epoch 2/10, Train Loss: 0.0413, Train AUC: 0.9983, Val Loss: 0.0846, Val AUC: 0.9994\n"
          ]
        },
        {
          "output_type": "stream",
          "name": "stderr",
          "text": [
            "Epoch 3/10: 100%|██████████| 680/680 [00:34<00:00, 19.98it/s]\n"
          ]
        },
        {
          "output_type": "stream",
          "name": "stdout",
          "text": [
            "Epoch 3/10, Train Loss: 0.0282, Train AUC: 0.9992, Val Loss: 0.0535, Val AUC: 0.9998\n"
          ]
        },
        {
          "output_type": "stream",
          "name": "stderr",
          "text": [
            "Epoch 4/10: 100%|██████████| 680/680 [00:34<00:00, 19.91it/s]\n"
          ]
        },
        {
          "output_type": "stream",
          "name": "stdout",
          "text": [
            "Epoch 4/10, Train Loss: 0.0188, Train AUC: 0.9996, Val Loss: 0.0498, Val AUC: 0.9999\n"
          ]
        },
        {
          "output_type": "stream",
          "name": "stderr",
          "text": [
            "Epoch 5/10: 100%|██████████| 680/680 [00:34<00:00, 19.87it/s]\n"
          ]
        },
        {
          "output_type": "stream",
          "name": "stdout",
          "text": [
            "Epoch 5/10, Train Loss: 0.0142, Train AUC: 0.9998, Val Loss: 0.0432, Val AUC: 0.9995\n"
          ]
        },
        {
          "output_type": "stream",
          "name": "stderr",
          "text": [
            "Epoch 6/10: 100%|██████████| 680/680 [00:34<00:00, 19.92it/s]\n"
          ]
        },
        {
          "output_type": "stream",
          "name": "stdout",
          "text": [
            "Epoch 6/10, Train Loss: 0.0138, Train AUC: 0.9998, Val Loss: 0.0188, Val AUC: 0.9998\n"
          ]
        },
        {
          "output_type": "stream",
          "name": "stderr",
          "text": [
            "Epoch 7/10: 100%|██████████| 680/680 [00:34<00:00, 19.93it/s]\n"
          ]
        },
        {
          "output_type": "stream",
          "name": "stdout",
          "text": [
            "Epoch 7/10, Train Loss: 0.0076, Train AUC: 0.9999, Val Loss: 0.0599, Val AUC: 0.9999\n"
          ]
        },
        {
          "output_type": "stream",
          "name": "stderr",
          "text": [
            "Epoch 8/10: 100%|██████████| 680/680 [00:34<00:00, 19.97it/s]\n"
          ]
        },
        {
          "output_type": "stream",
          "name": "stdout",
          "text": [
            "Epoch 8/10, Train Loss: 0.0106, Train AUC: 0.9999, Val Loss: 0.0065, Val AUC: 0.9999\n"
          ]
        },
        {
          "output_type": "stream",
          "name": "stderr",
          "text": [
            "Epoch 9/10: 100%|██████████| 680/680 [00:34<00:00, 19.92it/s]\n"
          ]
        },
        {
          "output_type": "stream",
          "name": "stdout",
          "text": [
            "Epoch 9/10, Train Loss: 0.0090, Train AUC: 0.9999, Val Loss: 0.0050, Val AUC: 0.9999\n"
          ]
        },
        {
          "output_type": "stream",
          "name": "stderr",
          "text": [
            "Epoch 10/10: 100%|██████████| 680/680 [00:33<00:00, 20.03it/s]\n"
          ]
        },
        {
          "output_type": "stream",
          "name": "stdout",
          "text": [
            "Epoch 10/10, Train Loss: 0.0062, Train AUC: 1.0000, Val Loss: 0.0140, Val AUC: 0.9999\n",
            "mels_model_auc : 0.9999\n"
          ]
        },
        {
          "output_type": "stream",
          "name": "stderr",
          "text": [
            "Epoch 1/10: 100%|██████████| 680/680 [00:34<00:00, 19.75it/s]\n"
          ]
        },
        {
          "output_type": "stream",
          "name": "stdout",
          "text": [
            "Epoch 1/10, Train Loss: 0.2485, Train AUC: 0.9597, Val Loss: 0.2658, Val AUC: 0.9899\n"
          ]
        },
        {
          "output_type": "stream",
          "name": "stderr",
          "text": [
            "Epoch 2/10: 100%|██████████| 680/680 [00:34<00:00, 19.84it/s]\n"
          ]
        },
        {
          "output_type": "stream",
          "name": "stdout",
          "text": [
            "Epoch 2/10, Train Loss: 0.0958, Train AUC: 0.9929, Val Loss: 0.3498, Val AUC: 0.9963\n"
          ]
        },
        {
          "output_type": "stream",
          "name": "stderr",
          "text": [
            "Epoch 3/10: 100%|██████████| 680/680 [00:34<00:00, 19.85it/s]\n"
          ]
        },
        {
          "output_type": "stream",
          "name": "stdout",
          "text": [
            "Epoch 3/10, Train Loss: 0.0651, Train AUC: 0.9964, Val Loss: 0.0825, Val AUC: 0.9986\n"
          ]
        },
        {
          "output_type": "stream",
          "name": "stderr",
          "text": [
            "Epoch 4/10: 100%|██████████| 680/680 [00:34<00:00, 19.84it/s]\n"
          ]
        },
        {
          "output_type": "stream",
          "name": "stdout",
          "text": [
            "Epoch 4/10, Train Loss: 0.0464, Train AUC: 0.9980, Val Loss: 0.0303, Val AUC: 0.9992\n"
          ]
        },
        {
          "output_type": "stream",
          "name": "stderr",
          "text": [
            "Epoch 5/10: 100%|██████████| 680/680 [00:33<00:00, 20.01it/s]\n"
          ]
        },
        {
          "output_type": "stream",
          "name": "stdout",
          "text": [
            "Epoch 5/10, Train Loss: 0.0382, Train AUC: 0.9986, Val Loss: 0.0771, Val AUC: 0.9967\n"
          ]
        },
        {
          "output_type": "stream",
          "name": "stderr",
          "text": [
            "Epoch 6/10: 100%|██████████| 680/680 [00:34<00:00, 19.98it/s]\n"
          ]
        },
        {
          "output_type": "stream",
          "name": "stdout",
          "text": [
            "Epoch 6/10, Train Loss: 0.0361, Train AUC: 0.9988, Val Loss: 0.0900, Val AUC: 0.9987\n"
          ]
        },
        {
          "output_type": "stream",
          "name": "stderr",
          "text": [
            "Epoch 7/10: 100%|██████████| 680/680 [00:34<00:00, 19.87it/s]\n"
          ]
        },
        {
          "output_type": "stream",
          "name": "stdout",
          "text": [
            "Epoch 7/10, Train Loss: 0.0299, Train AUC: 0.9991, Val Loss: 0.0285, Val AUC: 0.9992\n"
          ]
        },
        {
          "output_type": "stream",
          "name": "stderr",
          "text": [
            "Epoch 8/10: 100%|██████████| 680/680 [00:34<00:00, 19.85it/s]\n"
          ]
        },
        {
          "output_type": "stream",
          "name": "stdout",
          "text": [
            "Epoch 8/10, Train Loss: 0.0270, Train AUC: 0.9993, Val Loss: 0.0764, Val AUC: 0.9992\n"
          ]
        },
        {
          "output_type": "stream",
          "name": "stderr",
          "text": [
            "Epoch 9/10: 100%|██████████| 680/680 [00:34<00:00, 19.86it/s]\n"
          ]
        },
        {
          "output_type": "stream",
          "name": "stdout",
          "text": [
            "Epoch 9/10, Train Loss: 0.0225, Train AUC: 0.9995, Val Loss: 0.0460, Val AUC: 0.9989\n"
          ]
        },
        {
          "output_type": "stream",
          "name": "stderr",
          "text": [
            "Epoch 10/10: 100%|██████████| 680/680 [00:34<00:00, 19.86it/s]\n"
          ]
        },
        {
          "output_type": "stream",
          "name": "stdout",
          "text": [
            "Epoch 10/10, Train Loss: 0.0171, Train AUC: 0.9996, Val Loss: 0.0910, Val AUC: 0.9990\n",
            "mfcc_model_auc : 0.9990\n",
            "Ensemble metrics for fold 4\n",
            "\n",
            "********** 5 fold **********\n"
          ]
        },
        {
          "output_type": "stream",
          "name": "stderr",
          "text": [
            "Epoch 1/10: 100%|██████████| 680/680 [00:34<00:00, 19.75it/s]\n"
          ]
        },
        {
          "output_type": "stream",
          "name": "stdout",
          "text": [
            "Epoch 1/10, Train Loss: 0.1206, Train AUC: 0.9906, Val Loss: 0.3787, Val AUC: 0.9954\n"
          ]
        },
        {
          "output_type": "stream",
          "name": "stderr",
          "text": [
            "Epoch 2/10: 100%|██████████| 680/680 [00:34<00:00, 19.90it/s]\n"
          ]
        },
        {
          "output_type": "stream",
          "name": "stdout",
          "text": [
            "Epoch 2/10, Train Loss: 0.0383, Train AUC: 0.9985, Val Loss: 0.0594, Val AUC: 0.9995\n"
          ]
        },
        {
          "output_type": "stream",
          "name": "stderr",
          "text": [
            "Epoch 3/10: 100%|██████████| 680/680 [00:34<00:00, 19.92it/s]\n"
          ]
        },
        {
          "output_type": "stream",
          "name": "stdout",
          "text": [
            "Epoch 3/10, Train Loss: 0.0277, Train AUC: 0.9993, Val Loss: 0.0272, Val AUC: 0.9998\n"
          ]
        },
        {
          "output_type": "stream",
          "name": "stderr",
          "text": [
            "Epoch 4/10: 100%|██████████| 680/680 [00:34<00:00, 19.86it/s]\n"
          ]
        },
        {
          "output_type": "stream",
          "name": "stdout",
          "text": [
            "Epoch 4/10, Train Loss: 0.0234, Train AUC: 0.9994, Val Loss: 0.0361, Val AUC: 0.9998\n"
          ]
        },
        {
          "output_type": "stream",
          "name": "stderr",
          "text": [
            "Epoch 5/10: 100%|██████████| 680/680 [00:34<00:00, 19.90it/s]\n"
          ]
        },
        {
          "output_type": "stream",
          "name": "stdout",
          "text": [
            "Epoch 5/10, Train Loss: 0.0158, Train AUC: 0.9997, Val Loss: 0.1596, Val AUC: 0.9998\n"
          ]
        },
        {
          "output_type": "stream",
          "name": "stderr",
          "text": [
            "Epoch 6/10: 100%|██████████| 680/680 [00:34<00:00, 19.93it/s]\n"
          ]
        },
        {
          "output_type": "stream",
          "name": "stdout",
          "text": [
            "Epoch 6/10, Train Loss: 0.0154, Train AUC: 0.9997, Val Loss: 0.0069, Val AUC: 0.9999\n"
          ]
        },
        {
          "output_type": "stream",
          "name": "stderr",
          "text": [
            "Epoch 7/10: 100%|██████████| 680/680 [00:34<00:00, 19.83it/s]\n"
          ]
        },
        {
          "output_type": "stream",
          "name": "stdout",
          "text": [
            "Epoch 7/10, Train Loss: 0.0118, Train AUC: 0.9998, Val Loss: 0.0167, Val AUC: 0.9999\n"
          ]
        },
        {
          "output_type": "stream",
          "name": "stderr",
          "text": [
            "Epoch 8/10: 100%|██████████| 680/680 [00:34<00:00, 19.82it/s]\n"
          ]
        },
        {
          "output_type": "stream",
          "name": "stdout",
          "text": [
            "Epoch 8/10, Train Loss: 0.0106, Train AUC: 0.9999, Val Loss: 0.0052, Val AUC: 1.0000\n"
          ]
        },
        {
          "output_type": "stream",
          "name": "stderr",
          "text": [
            "Epoch 9/10: 100%|██████████| 680/680 [00:34<00:00, 19.89it/s]\n"
          ]
        },
        {
          "output_type": "stream",
          "name": "stdout",
          "text": [
            "Epoch 9/10, Train Loss: 0.0111, Train AUC: 0.9999, Val Loss: 0.0697, Val AUC: 0.9996\n"
          ]
        },
        {
          "output_type": "stream",
          "name": "stderr",
          "text": [
            "Epoch 10/10: 100%|██████████| 680/680 [00:34<00:00, 19.93it/s]\n"
          ]
        },
        {
          "output_type": "stream",
          "name": "stdout",
          "text": [
            "Epoch 10/10, Train Loss: 0.0082, Train AUC: 0.9999, Val Loss: 0.0108, Val AUC: 0.9999\n",
            "mels_model_auc : 0.9999\n"
          ]
        },
        {
          "output_type": "stream",
          "name": "stderr",
          "text": [
            "Epoch 1/10: 100%|██████████| 680/680 [00:34<00:00, 19.78it/s]\n"
          ]
        },
        {
          "output_type": "stream",
          "name": "stdout",
          "text": [
            "Epoch 1/10, Train Loss: 0.2311, Train AUC: 0.9650, Val Loss: 0.1442, Val AUC: 0.9913\n"
          ]
        },
        {
          "output_type": "stream",
          "name": "stderr",
          "text": [
            "Epoch 2/10: 100%|██████████| 680/680 [00:33<00:00, 20.03it/s]\n"
          ]
        },
        {
          "output_type": "stream",
          "name": "stdout",
          "text": [
            "Epoch 2/10, Train Loss: 0.0861, Train AUC: 0.9941, Val Loss: 0.0607, Val AUC: 0.9973\n"
          ]
        },
        {
          "output_type": "stream",
          "name": "stderr",
          "text": [
            "Epoch 3/10: 100%|██████████| 680/680 [00:34<00:00, 19.93it/s]\n"
          ]
        },
        {
          "output_type": "stream",
          "name": "stdout",
          "text": [
            "Epoch 3/10, Train Loss: 0.0580, Train AUC: 0.9971, Val Loss: 0.0426, Val AUC: 0.9983\n"
          ]
        },
        {
          "output_type": "stream",
          "name": "stderr",
          "text": [
            "Epoch 4/10: 100%|██████████| 680/680 [00:34<00:00, 19.91it/s]\n"
          ]
        },
        {
          "output_type": "stream",
          "name": "stdout",
          "text": [
            "Epoch 4/10, Train Loss: 0.0453, Train AUC: 0.9981, Val Loss: 0.0702, Val AUC: 0.9988\n"
          ]
        },
        {
          "output_type": "stream",
          "name": "stderr",
          "text": [
            "Epoch 5/10: 100%|██████████| 680/680 [00:34<00:00, 19.91it/s]\n"
          ]
        },
        {
          "output_type": "stream",
          "name": "stdout",
          "text": [
            "Epoch 5/10, Train Loss: 0.0320, Train AUC: 0.9990, Val Loss: 0.0276, Val AUC: 0.9994\n"
          ]
        },
        {
          "output_type": "stream",
          "name": "stderr",
          "text": [
            "Epoch 6/10: 100%|██████████| 680/680 [00:34<00:00, 19.89it/s]\n"
          ]
        },
        {
          "output_type": "stream",
          "name": "stdout",
          "text": [
            "Epoch 6/10, Train Loss: 0.0309, Train AUC: 0.9990, Val Loss: 0.1288, Val AUC: 0.9985\n"
          ]
        },
        {
          "output_type": "stream",
          "name": "stderr",
          "text": [
            "Epoch 7/10: 100%|██████████| 680/680 [00:34<00:00, 19.95it/s]\n"
          ]
        },
        {
          "output_type": "stream",
          "name": "stdout",
          "text": [
            "Epoch 7/10, Train Loss: 0.0259, Train AUC: 0.9993, Val Loss: 0.6920, Val AUC: 0.9960\n"
          ]
        },
        {
          "output_type": "stream",
          "name": "stderr",
          "text": [
            "Epoch 8/10: 100%|██████████| 680/680 [00:34<00:00, 19.84it/s]\n"
          ]
        },
        {
          "output_type": "stream",
          "name": "stdout",
          "text": [
            "Epoch 8/10, Train Loss: 0.0224, Train AUC: 0.9995, Val Loss: 0.0340, Val AUC: 0.9994\n"
          ]
        },
        {
          "output_type": "stream",
          "name": "stderr",
          "text": [
            "Epoch 9/10: 100%|██████████| 680/680 [00:34<00:00, 19.92it/s]\n"
          ]
        },
        {
          "output_type": "stream",
          "name": "stdout",
          "text": [
            "Epoch 9/10, Train Loss: 0.0177, Train AUC: 0.9997, Val Loss: 0.0181, Val AUC: 0.9997\n"
          ]
        },
        {
          "output_type": "stream",
          "name": "stderr",
          "text": [
            "Epoch 10/10: 100%|██████████| 680/680 [00:34<00:00, 19.92it/s]\n"
          ]
        },
        {
          "output_type": "stream",
          "name": "stdout",
          "text": [
            "Epoch 10/10, Train Loss: 0.0219, Train AUC: 0.9995, Val Loss: 0.0320, Val AUC: 0.9992\n",
            "mfcc_model_auc : 0.9992\n",
            "Ensemble metrics for fold 5\n"
          ]
        }
      ]
    },
    {
      "cell_type": "code",
      "source": [],
      "metadata": {
        "id": "FzOuWHLAg84t"
      },
      "id": "FzOuWHLAg84t",
      "execution_count": null,
      "outputs": []
    },
    {
      "cell_type": "code",
      "source": [
        "#save model\n",
        "torch.save(model_mel.state_dict(), '/content/drive/MyDrive/DACON/chunk/aug_model_mel.pth')\n",
        "torch.save(model_mfcc.state_dict(), '/content/drive/MyDrive/DACON/chunk/aug_model_mfcc.pth')"
      ],
      "metadata": {
        "id": "0VePZ5pJKSG2"
      },
      "id": "0VePZ5pJKSG2",
      "execution_count": 16,
      "outputs": []
    },
    {
      "cell_type": "code",
      "source": [
        "import pandas as pd\n",
        "%cd /content/drive/MyDrive/DACON\n",
        "submit = pd.read_csv('./sample_submission.csv')\n",
        "#submit=submit[:len(y_valid)]\n",
        "submit.head(3)\n",
        "submit.shape"
      ],
      "metadata": {
        "colab": {
          "base_uri": "https://localhost:8080/"
        },
        "id": "P9KchanYO9rh",
        "outputId": "e219eb89-499b-44e1-cc73-099336c586b1"
      },
      "id": "P9KchanYO9rh",
      "execution_count": 17,
      "outputs": [
        {
          "output_type": "stream",
          "name": "stdout",
          "text": [
            "/content/drive/MyDrive/DACON\n"
          ]
        },
        {
          "output_type": "execute_result",
          "data": {
            "text/plain": [
              "(50000, 3)"
            ]
          },
          "metadata": {},
          "execution_count": 17
        }
      ]
    },
    {
      "cell_type": "code",
      "source": [
        "final_pred_mean.shape\n",
        "\n",
        "# final_pred_mean의 형태를 (50000, 2)로 변환\n",
        "final_pred_mean_reshaped = final_pred_mean.reshape((50000, 2))\n",
        "\n",
        "final_pred_mean_reshaped.shape\n",
        "final_pred_mean.shape"
      ],
      "metadata": {
        "colab": {
          "base_uri": "https://localhost:8080/"
        },
        "id": "agWr02fSO_Hw",
        "outputId": "1ca362ed-228e-4118-92e2-07a6c3cb75ca"
      },
      "id": "agWr02fSO_Hw",
      "execution_count": 18,
      "outputs": [
        {
          "output_type": "execute_result",
          "data": {
            "text/plain": [
              "(50000, 1, 2)"
            ]
          },
          "metadata": {},
          "execution_count": 18
        }
      ]
    },
    {
      "cell_type": "code",
      "source": [
        "submit.iloc[:, 1:] = final_pred_mean_reshaped\n",
        "\n",
        "submit.head(10)"
      ],
      "metadata": {
        "colab": {
          "base_uri": "https://localhost:8080/",
          "height": 363
        },
        "id": "1LFIl-yTPALl",
        "outputId": "8efac891-b5bd-42c0-9615-13a96a95973a"
      },
      "id": "1LFIl-yTPALl",
      "execution_count": 19,
      "outputs": [
        {
          "output_type": "execute_result",
          "data": {
            "text/plain": [
              "           id      fake      real\n",
              "0  TEST_00000  0.780392  0.995021\n",
              "1  TEST_00001  0.728323  0.999692\n",
              "2  TEST_00002  0.829074  0.997722\n",
              "3  TEST_00003  0.492424  0.820220\n",
              "4  TEST_00004  0.780413  0.999975\n",
              "5  TEST_00005  0.000912  0.999999\n",
              "6  TEST_00006  0.053417  0.999910\n",
              "7  TEST_00007  0.279789  0.999905\n",
              "8  TEST_00008  0.423396  0.999941\n",
              "9  TEST_00009  0.161879  0.994643"
            ],
            "text/html": [
              "\n",
              "  <div id=\"df-6d9b9d87-37dd-4e47-a652-dc5cfc1d0f45\" class=\"colab-df-container\">\n",
              "    <div>\n",
              "<style scoped>\n",
              "    .dataframe tbody tr th:only-of-type {\n",
              "        vertical-align: middle;\n",
              "    }\n",
              "\n",
              "    .dataframe tbody tr th {\n",
              "        vertical-align: top;\n",
              "    }\n",
              "\n",
              "    .dataframe thead th {\n",
              "        text-align: right;\n",
              "    }\n",
              "</style>\n",
              "<table border=\"1\" class=\"dataframe\">\n",
              "  <thead>\n",
              "    <tr style=\"text-align: right;\">\n",
              "      <th></th>\n",
              "      <th>id</th>\n",
              "      <th>fake</th>\n",
              "      <th>real</th>\n",
              "    </tr>\n",
              "  </thead>\n",
              "  <tbody>\n",
              "    <tr>\n",
              "      <th>0</th>\n",
              "      <td>TEST_00000</td>\n",
              "      <td>0.780392</td>\n",
              "      <td>0.995021</td>\n",
              "    </tr>\n",
              "    <tr>\n",
              "      <th>1</th>\n",
              "      <td>TEST_00001</td>\n",
              "      <td>0.728323</td>\n",
              "      <td>0.999692</td>\n",
              "    </tr>\n",
              "    <tr>\n",
              "      <th>2</th>\n",
              "      <td>TEST_00002</td>\n",
              "      <td>0.829074</td>\n",
              "      <td>0.997722</td>\n",
              "    </tr>\n",
              "    <tr>\n",
              "      <th>3</th>\n",
              "      <td>TEST_00003</td>\n",
              "      <td>0.492424</td>\n",
              "      <td>0.820220</td>\n",
              "    </tr>\n",
              "    <tr>\n",
              "      <th>4</th>\n",
              "      <td>TEST_00004</td>\n",
              "      <td>0.780413</td>\n",
              "      <td>0.999975</td>\n",
              "    </tr>\n",
              "    <tr>\n",
              "      <th>5</th>\n",
              "      <td>TEST_00005</td>\n",
              "      <td>0.000912</td>\n",
              "      <td>0.999999</td>\n",
              "    </tr>\n",
              "    <tr>\n",
              "      <th>6</th>\n",
              "      <td>TEST_00006</td>\n",
              "      <td>0.053417</td>\n",
              "      <td>0.999910</td>\n",
              "    </tr>\n",
              "    <tr>\n",
              "      <th>7</th>\n",
              "      <td>TEST_00007</td>\n",
              "      <td>0.279789</td>\n",
              "      <td>0.999905</td>\n",
              "    </tr>\n",
              "    <tr>\n",
              "      <th>8</th>\n",
              "      <td>TEST_00008</td>\n",
              "      <td>0.423396</td>\n",
              "      <td>0.999941</td>\n",
              "    </tr>\n",
              "    <tr>\n",
              "      <th>9</th>\n",
              "      <td>TEST_00009</td>\n",
              "      <td>0.161879</td>\n",
              "      <td>0.994643</td>\n",
              "    </tr>\n",
              "  </tbody>\n",
              "</table>\n",
              "</div>\n",
              "    <div class=\"colab-df-buttons\">\n",
              "\n",
              "  <div class=\"colab-df-container\">\n",
              "    <button class=\"colab-df-convert\" onclick=\"convertToInteractive('df-6d9b9d87-37dd-4e47-a652-dc5cfc1d0f45')\"\n",
              "            title=\"Convert this dataframe to an interactive table.\"\n",
              "            style=\"display:none;\">\n",
              "\n",
              "  <svg xmlns=\"http://www.w3.org/2000/svg\" height=\"24px\" viewBox=\"0 -960 960 960\">\n",
              "    <path d=\"M120-120v-720h720v720H120Zm60-500h600v-160H180v160Zm220 220h160v-160H400v160Zm0 220h160v-160H400v160ZM180-400h160v-160H180v160Zm440 0h160v-160H620v160ZM180-180h160v-160H180v160Zm440 0h160v-160H620v160Z\"/>\n",
              "  </svg>\n",
              "    </button>\n",
              "\n",
              "  <style>\n",
              "    .colab-df-container {\n",
              "      display:flex;\n",
              "      gap: 12px;\n",
              "    }\n",
              "\n",
              "    .colab-df-convert {\n",
              "      background-color: #E8F0FE;\n",
              "      border: none;\n",
              "      border-radius: 50%;\n",
              "      cursor: pointer;\n",
              "      display: none;\n",
              "      fill: #1967D2;\n",
              "      height: 32px;\n",
              "      padding: 0 0 0 0;\n",
              "      width: 32px;\n",
              "    }\n",
              "\n",
              "    .colab-df-convert:hover {\n",
              "      background-color: #E2EBFA;\n",
              "      box-shadow: 0px 1px 2px rgba(60, 64, 67, 0.3), 0px 1px 3px 1px rgba(60, 64, 67, 0.15);\n",
              "      fill: #174EA6;\n",
              "    }\n",
              "\n",
              "    .colab-df-buttons div {\n",
              "      margin-bottom: 4px;\n",
              "    }\n",
              "\n",
              "    [theme=dark] .colab-df-convert {\n",
              "      background-color: #3B4455;\n",
              "      fill: #D2E3FC;\n",
              "    }\n",
              "\n",
              "    [theme=dark] .colab-df-convert:hover {\n",
              "      background-color: #434B5C;\n",
              "      box-shadow: 0px 1px 3px 1px rgba(0, 0, 0, 0.15);\n",
              "      filter: drop-shadow(0px 1px 2px rgba(0, 0, 0, 0.3));\n",
              "      fill: #FFFFFF;\n",
              "    }\n",
              "  </style>\n",
              "\n",
              "    <script>\n",
              "      const buttonEl =\n",
              "        document.querySelector('#df-6d9b9d87-37dd-4e47-a652-dc5cfc1d0f45 button.colab-df-convert');\n",
              "      buttonEl.style.display =\n",
              "        google.colab.kernel.accessAllowed ? 'block' : 'none';\n",
              "\n",
              "      async function convertToInteractive(key) {\n",
              "        const element = document.querySelector('#df-6d9b9d87-37dd-4e47-a652-dc5cfc1d0f45');\n",
              "        const dataTable =\n",
              "          await google.colab.kernel.invokeFunction('convertToInteractive',\n",
              "                                                    [key], {});\n",
              "        if (!dataTable) return;\n",
              "\n",
              "        const docLinkHtml = 'Like what you see? Visit the ' +\n",
              "          '<a target=\"_blank\" href=https://colab.research.google.com/notebooks/data_table.ipynb>data table notebook</a>'\n",
              "          + ' to learn more about interactive tables.';\n",
              "        element.innerHTML = '';\n",
              "        dataTable['output_type'] = 'display_data';\n",
              "        await google.colab.output.renderOutput(dataTable, element);\n",
              "        const docLink = document.createElement('div');\n",
              "        docLink.innerHTML = docLinkHtml;\n",
              "        element.appendChild(docLink);\n",
              "      }\n",
              "    </script>\n",
              "  </div>\n",
              "\n",
              "\n",
              "<div id=\"df-8fc26f4a-22cd-4bfc-bcf0-df68f360791a\">\n",
              "  <button class=\"colab-df-quickchart\" onclick=\"quickchart('df-8fc26f4a-22cd-4bfc-bcf0-df68f360791a')\"\n",
              "            title=\"Suggest charts\"\n",
              "            style=\"display:none;\">\n",
              "\n",
              "<svg xmlns=\"http://www.w3.org/2000/svg\" height=\"24px\"viewBox=\"0 0 24 24\"\n",
              "     width=\"24px\">\n",
              "    <g>\n",
              "        <path d=\"M19 3H5c-1.1 0-2 .9-2 2v14c0 1.1.9 2 2 2h14c1.1 0 2-.9 2-2V5c0-1.1-.9-2-2-2zM9 17H7v-7h2v7zm4 0h-2V7h2v10zm4 0h-2v-4h2v4z\"/>\n",
              "    </g>\n",
              "</svg>\n",
              "  </button>\n",
              "\n",
              "<style>\n",
              "  .colab-df-quickchart {\n",
              "      --bg-color: #E8F0FE;\n",
              "      --fill-color: #1967D2;\n",
              "      --hover-bg-color: #E2EBFA;\n",
              "      --hover-fill-color: #174EA6;\n",
              "      --disabled-fill-color: #AAA;\n",
              "      --disabled-bg-color: #DDD;\n",
              "  }\n",
              "\n",
              "  [theme=dark] .colab-df-quickchart {\n",
              "      --bg-color: #3B4455;\n",
              "      --fill-color: #D2E3FC;\n",
              "      --hover-bg-color: #434B5C;\n",
              "      --hover-fill-color: #FFFFFF;\n",
              "      --disabled-bg-color: #3B4455;\n",
              "      --disabled-fill-color: #666;\n",
              "  }\n",
              "\n",
              "  .colab-df-quickchart {\n",
              "    background-color: var(--bg-color);\n",
              "    border: none;\n",
              "    border-radius: 50%;\n",
              "    cursor: pointer;\n",
              "    display: none;\n",
              "    fill: var(--fill-color);\n",
              "    height: 32px;\n",
              "    padding: 0;\n",
              "    width: 32px;\n",
              "  }\n",
              "\n",
              "  .colab-df-quickchart:hover {\n",
              "    background-color: var(--hover-bg-color);\n",
              "    box-shadow: 0 1px 2px rgba(60, 64, 67, 0.3), 0 1px 3px 1px rgba(60, 64, 67, 0.15);\n",
              "    fill: var(--button-hover-fill-color);\n",
              "  }\n",
              "\n",
              "  .colab-df-quickchart-complete:disabled,\n",
              "  .colab-df-quickchart-complete:disabled:hover {\n",
              "    background-color: var(--disabled-bg-color);\n",
              "    fill: var(--disabled-fill-color);\n",
              "    box-shadow: none;\n",
              "  }\n",
              "\n",
              "  .colab-df-spinner {\n",
              "    border: 2px solid var(--fill-color);\n",
              "    border-color: transparent;\n",
              "    border-bottom-color: var(--fill-color);\n",
              "    animation:\n",
              "      spin 1s steps(1) infinite;\n",
              "  }\n",
              "\n",
              "  @keyframes spin {\n",
              "    0% {\n",
              "      border-color: transparent;\n",
              "      border-bottom-color: var(--fill-color);\n",
              "      border-left-color: var(--fill-color);\n",
              "    }\n",
              "    20% {\n",
              "      border-color: transparent;\n",
              "      border-left-color: var(--fill-color);\n",
              "      border-top-color: var(--fill-color);\n",
              "    }\n",
              "    30% {\n",
              "      border-color: transparent;\n",
              "      border-left-color: var(--fill-color);\n",
              "      border-top-color: var(--fill-color);\n",
              "      border-right-color: var(--fill-color);\n",
              "    }\n",
              "    40% {\n",
              "      border-color: transparent;\n",
              "      border-right-color: var(--fill-color);\n",
              "      border-top-color: var(--fill-color);\n",
              "    }\n",
              "    60% {\n",
              "      border-color: transparent;\n",
              "      border-right-color: var(--fill-color);\n",
              "    }\n",
              "    80% {\n",
              "      border-color: transparent;\n",
              "      border-right-color: var(--fill-color);\n",
              "      border-bottom-color: var(--fill-color);\n",
              "    }\n",
              "    90% {\n",
              "      border-color: transparent;\n",
              "      border-bottom-color: var(--fill-color);\n",
              "    }\n",
              "  }\n",
              "</style>\n",
              "\n",
              "  <script>\n",
              "    async function quickchart(key) {\n",
              "      const quickchartButtonEl =\n",
              "        document.querySelector('#' + key + ' button');\n",
              "      quickchartButtonEl.disabled = true;  // To prevent multiple clicks.\n",
              "      quickchartButtonEl.classList.add('colab-df-spinner');\n",
              "      try {\n",
              "        const charts = await google.colab.kernel.invokeFunction(\n",
              "            'suggestCharts', [key], {});\n",
              "      } catch (error) {\n",
              "        console.error('Error during call to suggestCharts:', error);\n",
              "      }\n",
              "      quickchartButtonEl.classList.remove('colab-df-spinner');\n",
              "      quickchartButtonEl.classList.add('colab-df-quickchart-complete');\n",
              "    }\n",
              "    (() => {\n",
              "      let quickchartButtonEl =\n",
              "        document.querySelector('#df-8fc26f4a-22cd-4bfc-bcf0-df68f360791a button');\n",
              "      quickchartButtonEl.style.display =\n",
              "        google.colab.kernel.accessAllowed ? 'block' : 'none';\n",
              "    })();\n",
              "  </script>\n",
              "</div>\n",
              "\n",
              "    </div>\n",
              "  </div>\n"
            ],
            "application/vnd.google.colaboratory.intrinsic+json": {
              "type": "dataframe",
              "variable_name": "submit",
              "summary": "{\n  \"name\": \"submit\",\n  \"rows\": 50000,\n  \"fields\": [\n    {\n      \"column\": \"id\",\n      \"properties\": {\n        \"dtype\": \"string\",\n        \"num_unique_values\": 50000,\n        \"samples\": [\n          \"TEST_33553\",\n          \"TEST_09427\",\n          \"TEST_00199\"\n        ],\n        \"semantic_type\": \"\",\n        \"description\": \"\"\n      }\n    },\n    {\n      \"column\": \"fake\",\n      \"properties\": {\n        \"dtype\": \"float32\",\n        \"num_unique_values\": 48125,\n        \"samples\": [\n          0.2945840656757355,\n          0.7258654236793518,\n          0.0666414275765419\n        ],\n        \"semantic_type\": \"\",\n        \"description\": \"\"\n      }\n    },\n    {\n      \"column\": \"real\",\n      \"properties\": {\n        \"dtype\": \"float32\",\n        \"num_unique_values\": 32240,\n        \"samples\": [\n          0.884946346282959,\n          0.9987169504165649,\n          0.9618141055107117\n        ],\n        \"semantic_type\": \"\",\n        \"description\": \"\"\n      }\n    }\n  ]\n}"
            }
          },
          "metadata": {},
          "execution_count": 19
        }
      ]
    },
    {
      "cell_type": "code",
      "source": [
        "import numpy as np\n",
        "import pandas as pd\n",
        "import matplotlib.pyplot as plt\n",
        "\n",
        "# preds가 리스트인 경우 numpy 배열로 변환\n",
        "preds = np.array(final_pred_mean_reshaped)\n",
        "\n",
        "# 예측값의 통계 정보 확인\n",
        "print(\"Preds statistics:\")\n",
        "print(pd.DataFrame(preds).describe())\n",
        "\n",
        "# NaN 값 확인\n",
        "nan_mask = np.isnan(preds)\n",
        "print(\"Number of NaN values:\", np.sum(nan_mask))\n",
        "\n",
        "# NaN 값을 0으로 대체 (또는 다른 적절한 값으로 대체 가능)\n",
        "preds = np.nan_to_num(preds)\n",
        "\n",
        "# 히스토그램으로 분포 시각화\n",
        "plt.figure(figsize=(12, 6))\n",
        "\n",
        "# Real 레이블의 분포\n",
        "plt.subplot(1, 2, 1)\n",
        "plt.hist(preds[:, 1], bins=50, alpha=0.75, color='blue', label='Real')\n",
        "plt.title('Distribution of Real Predictions')\n",
        "plt.xlabel('Probability')\n",
        "plt.ylabel('Frequency')\n",
        "plt.legend()\n",
        "\n",
        "# Fake 레이블의 분포\n",
        "plt.subplot(1, 2, 2)\n",
        "plt.hist(preds[:, 0], bins=50, alpha=0.75, color='red', label='Fake')\n",
        "plt.title('Distribution of Fake Predictions')\n",
        "plt.xlabel('Probability')\n",
        "plt.ylabel('Frequency')\n",
        "plt.legend()\n",
        "\n",
        "plt.tight_layout()\n",
        "plt.show()\n",
        "\n",
        "\n",
        "# 가짜 음성을 분류하지 못하는지 확인\n",
        "fake_preds = preds[:, 0]\n",
        "real_preds = preds[:, 1]\n",
        "\n",
        "# Fake 레이블에 대한 기본 통계 확인\n",
        "print(\"\\nFake label predictions:\")\n",
        "print(f\"Min: {fake_preds.min()}\")\n",
        "print(f\"Max: {fake_preds.max()}\")\n",
        "print(f\"Mean: {fake_preds.mean()}\")\n",
        "print(f\"Median: {np.median(fake_preds)}\")\n",
        "\n",
        "# Real 레이블에 대한 기본 통계 확인\n",
        "print(\"\\nReal label predictions:\")\n",
        "print(f\"Min: {real_preds.min()}\")\n",
        "print(f\"Max: {real_preds.max()}\")\n",
        "print(f\"Mean: {real_preds.mean()}\")\n",
        "print(f\"Median: {np.median(real_preds)}\")\n"
      ],
      "metadata": {
        "colab": {
          "base_uri": "https://localhost:8080/",
          "height": 1000
        },
        "id": "G_kNX9yKPCwu",
        "outputId": "2a895975-93fa-4a96-dbe0-91432ba19413"
      },
      "id": "G_kNX9yKPCwu",
      "execution_count": 20,
      "outputs": [
        {
          "output_type": "stream",
          "name": "stdout",
          "text": [
            "Preds statistics:\n",
            "                  0             1\n",
            "count  48171.000000  48171.000000\n",
            "mean       0.478960      0.933470\n",
            "std        0.314503      0.150477\n",
            "min        0.000006      0.000239\n",
            "25%        0.184912      0.948779\n",
            "50%        0.494760      0.998718\n",
            "75%        0.753840      0.999935\n",
            "max        1.000000      1.000000\n",
            "Number of NaN values: 3658\n"
          ]
        },
        {
          "output_type": "display_data",
          "data": {
            "text/plain": [
              "<Figure size 1200x600 with 2 Axes>"
            ],
            "image/png": "[encoded data removed]"
          },
          "metadata": {}
        },
        {
          "output_type": "stream",
          "name": "stdout",
          "text": [
            "\n",
            "Fake label predictions:\n",
            "Min: 0.0\n",
            "Max: 1.0\n",
            "Mean: 0.4614398777484894\n",
            "Median: 0.47278881072998047\n",
            "\n",
            "Real label predictions:\n",
            "Min: 0.0\n",
            "Max: 1.0\n",
            "Mean: 0.8993238210678101\n",
            "Median: 0.9983606934547424\n"
          ]
        }
      ]
    },
    {
      "cell_type": "code",
      "source": [
        "submit.iloc[:, 1:] = preds\n",
        "submit.to_csv('0715_mels_mfcc_aug_simpleCNN.csv', index=False)"
      ],
      "metadata": {
        "id": "oXz41IjhPDb7"
      },
      "id": "oXz41IjhPDb7",
      "execution_count": 21,
      "outputs": []
    },
    {
      "cell_type": "code",
      "source": [
        "!pip install torchinfo"
      ],
      "metadata": {
        "colab": {
          "base_uri": "https://localhost:8080/"
        },
        "id": "mpRjG2IUPFon",
        "outputId": "15b4b145-5fa0-4da9-fb66-772dbb085061"
      },
      "id": "mpRjG2IUPFon",
      "execution_count": 22,
      "outputs": [
        {
          "output_type": "stream",
          "name": "stdout",
          "text": [
            "Collecting torchinfo\n",
            "  Downloading torchinfo-1.8.0-py3-none-any.whl (23 kB)\n",
            "Installing collected packages: torchinfo\n",
            "Successfully installed torchinfo-1.8.0\n"
          ]
        }
      ]
    },
    {
      "cell_type": "code",
      "source": [
        "from torchinfo import summary\n",
        "summary(model_mel, input_size=(1, 1, 128, 128))"
      ],
      "metadata": {
        "colab": {
          "base_uri": "https://localhost:8080/"
        },
        "id": "lG2Zst0ihCes",
        "outputId": "36809116-c907-4257-c7a6-eebe84465238"
      },
      "id": "lG2Zst0ihCes",
      "execution_count": 25,
      "outputs": [
        {
          "output_type": "execute_result",
          "data": {
            "text/plain": [
              "==========================================================================================\n",
              "Layer (type:depth-idx)                   Output Shape              Param #\n",
              "==========================================================================================\n",
              "SimplifiedCNNMultiLabel                  [1, 2]                    --\n",
              "├─Sequential: 1-1                        [1, 256, 1, 1]            --\n",
              "│    └─Sequential: 2-1                   [1, 32, 128, 128]         --\n",
              "│    │    └─Conv2d: 3-1                  [1, 32, 128, 128]         320\n",
              "│    │    └─BatchNorm2d: 3-2             [1, 32, 128, 128]         64\n",
              "│    │    └─ReLU: 3-3                    [1, 32, 128, 128]         --\n",
              "│    │    └─Conv2d: 3-4                  [1, 32, 128, 128]         9,248\n",
              "│    │    └─BatchNorm2d: 3-5             [1, 32, 128, 128]         64\n",
              "│    │    └─ReLU: 3-6                    [1, 32, 128, 128]         --\n",
              "│    └─MaxPool2d: 2-2                    [1, 32, 64, 64]           --\n",
              "│    └─Sequential: 2-3                   [1, 64, 64, 64]           --\n",
              "│    │    └─Conv2d: 3-7                  [1, 64, 64, 64]           18,496\n",
              "│    │    └─BatchNorm2d: 3-8             [1, 64, 64, 64]           128\n",
              "│    │    └─ReLU: 3-9                    [1, 64, 64, 64]           --\n",
              "│    │    └─Conv2d: 3-10                 [1, 64, 64, 64]           36,928\n",
              "│    │    └─BatchNorm2d: 3-11            [1, 64, 64, 64]           128\n",
              "│    │    └─ReLU: 3-12                   [1, 64, 64, 64]           --\n",
              "│    └─MaxPool2d: 2-4                    [1, 64, 32, 32]           --\n",
              "│    └─Sequential: 2-5                   [1, 128, 32, 32]          --\n",
              "│    │    └─Conv2d: 3-13                 [1, 128, 32, 32]          73,856\n",
              "│    │    └─BatchNorm2d: 3-14            [1, 128, 32, 32]          256\n",
              "│    │    └─ReLU: 3-15                   [1, 128, 32, 32]          --\n",
              "│    │    └─Conv2d: 3-16                 [1, 128, 32, 32]          147,584\n",
              "│    │    └─BatchNorm2d: 3-17            [1, 128, 32, 32]          256\n",
              "│    │    └─ReLU: 3-18                   [1, 128, 32, 32]          --\n",
              "│    └─MaxPool2d: 2-6                    [1, 128, 16, 16]          --\n",
              "│    └─Sequential: 2-7                   [1, 256, 16, 16]          --\n",
              "│    │    └─Conv2d: 3-19                 [1, 256, 16, 16]          295,168\n",
              "│    │    └─BatchNorm2d: 3-20            [1, 256, 16, 16]          512\n",
              "│    │    └─ReLU: 3-21                   [1, 256, 16, 16]          --\n",
              "│    │    └─Conv2d: 3-22                 [1, 256, 16, 16]          590,080\n",
              "│    │    └─BatchNorm2d: 3-23            [1, 256, 16, 16]          512\n",
              "│    │    └─ReLU: 3-24                   [1, 256, 16, 16]          --\n",
              "│    └─AdaptiveAvgPool2d: 2-8            [1, 256, 1, 1]            --\n",
              "├─Sequential: 1-2                        [1, 2]                    --\n",
              "│    └─Dropout: 2-9                      [1, 256]                  --\n",
              "│    └─Linear: 2-10                      [1, 128]                  32,896\n",
              "│    └─ReLU: 2-11                        [1, 128]                  --\n",
              "│    └─Dropout: 2-12                     [1, 128]                  --\n",
              "│    └─Linear: 2-13                      [1, 2]                    258\n",
              "==========================================================================================\n",
              "Total params: 1,206,754\n",
              "Trainable params: 1,206,754\n",
              "Non-trainable params: 0\n",
              "Total mult-adds (M): 837.19\n",
              "==========================================================================================\n",
              "Input size (MB): 0.07\n",
              "Forward/backward pass size (MB): 31.46\n",
              "Params size (MB): 4.83\n",
              "Estimated Total Size (MB): 36.35\n",
              "=========================================================================================="
            ]
          },
          "metadata": {},
          "execution_count": 25
        }
      ]
    },
    {
      "cell_type": "code",
      "source": [],
      "metadata": {
        "id": "BKOv5nafhKwg"
      },
      "id": "BKOv5nafhKwg",
      "execution_count": null,
      "outputs": []
    }
  ],
  "metadata": {
    "kaggle": {
      "accelerator": "gpu",
      "dataSources": [
        {
          "databundleVersionId": 8068726,
          "sourceId": 70203,
          "sourceType": "competition"
        },
        {
          "datasetId": 4732842,
          "sourceId": 8066583,
          "sourceType": "datasetVersion"
        }
      ],
      "dockerImageVersionId": 30674,
      "isGpuEnabled": true,
      "isInternetEnabled": true,
      "language": "python",
      "sourceType": "notebook"
    },
    "kernelspec": {
      "display_name": "Python 3",
      "name": "python3"
    },
    "language_info": {
      "codemirror_mode": {
        "name": "ipython",
        "version": 3
      },
      "file_extension": ".py",
      "mimetype": "text/x-python",
      "name": "python",
      "nbconvert_exporter": "python",
      "pygments_lexer": "ipython3",
      "version": "3.8.19"
    },
    "papermill": {
      "default_parameters": {},
      "duration": 1830.928153,
      "end_time": "2024-04-08T19:22:15.265404",
      "environment_variables": {},
      "exception": null,
      "input_path": "__notebook__.ipynb",
      "output_path": "__notebook__.ipynb",
      "parameters": {},
      "start_time": "2024-04-08T18:51:44.337251",
      "version": "2.5.0"
    },
    "colab": {
      "provenance": [],
      "machine_shape": "hm",
      "gpuType": "L4",
      "include_colab_link": true
    },
    "accelerator": "GPU"
  },
  "nbformat": 4,
  "nbformat_minor": 5
}